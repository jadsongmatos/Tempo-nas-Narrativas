{
 "cells": [
  {
   "cell_type": "code",
   "execution_count": 4,
   "metadata": {},
   "outputs": [],
   "source": [
    "from transformers import AutoTokenizer\n",
    "# Initialize the tokenizer with legacy=False\n",
    "tokenizer = AutoTokenizer.from_pretrained(\"unsloth/Llama-3.2-3B\", legacy=False)"
   ]
  },
  {
   "cell_type": "code",
   "execution_count": 5,
   "metadata": {},
   "outputs": [],
   "source": [
    "from langchain.text_splitter import RecursiveCharacterTextSplitter\n",
    "\n",
    "def length_function(text: str) -> int:\n",
    "    return len(tokenizer(text)['input_ids'])"
   ]
  },
  {
   "cell_type": "code",
   "execution_count": 11,
   "metadata": {},
   "outputs": [],
   "source": [
    "def splitter_vlegth(text: str,name: str):\n",
    "\tsizes_legth = [16,32,64,128,256,512,1024]\n",
    "\tfor size in sizes_legth:\n",
    "\t\tsplitter = RecursiveCharacterTextSplitter(\n",
    "    \t\tchunk_size=size, \n",
    "    \t\tchunk_overlap=int(size/5),\n",
    "    \t\tlength_function=length_function,\n",
    "\t\t)\n",
    "\n",
    "\t\tsplits = splitter.split_text(text)\n",
    "\n",
    "\t\tfor i, split in enumerate(tqdm(splits)):\n",
    "\t\t\tindice = text.find(split)\n",
    "\t\t\ttry:\n",
    "\t\t\t\tconn.execute(\"\"\"\n",
    "        \t\t\tINSERT INTO dataset (content, indice,name)\n",
    "        \t\t\tVALUES (?, ?, ?)\n",
    "        \t\t\"\"\", (split, indice,name))\n",
    "\t\t\texcept Exception as e:\n",
    "\t\t\t\tprint(f\"Erro ao inserir dados no DuckDB: {e}\")"
   ]
  },
  {
   "cell_type": "code",
   "execution_count": 7,
   "metadata": {},
   "outputs": [],
   "source": [
    "import html2text\n",
    "from cleantext import clean\n",
    "\n",
    "# Configurar o conversor\n",
    "converter = html2text.HTML2Text()\n",
    "converter.ignore_links = True\n",
    "converter.ignore_images = True\n",
    "converter.ignore_tables = True\n",
    "\n",
    "def cleartext(decoded_html):\n",
    "\ttexto_limpo = converter.handle(decoded_html)\n",
    "\ttexto_limpo = clean(\n",
    "\t\ttexto_limpo,\n",
    "\t\tfix_unicode=True,\n",
    "\t\tto_ascii=False,\n",
    "\t\tlower=False,\n",
    "\t\tno_line_breaks=True,\n",
    "\t\tno_urls=True,\n",
    "\t\tno_emails=True,\n",
    "\t\tno_phone_numbers=True,\n",
    "\t\tno_numbers=False,\n",
    "\t\tno_digits=False,\n",
    "\t\tno_currency_symbols=True,\n",
    "\t\tno_punct=False,  # Defina como True se quiser remover pontuação\n",
    "\t\treplace_with_punct=\"\",\n",
    "\t\treplace_with_url=\"\",\n",
    "\t\treplace_with_email=\"\",\n",
    "\t\treplace_with_phone_number=\"\",\n",
    "\t\treplace_with_number=\"\",\n",
    "\t\treplace_with_digit=\"\",\n",
    "\t\treplace_with_currency_symbol=\"\"\n",
    "\t)\n",
    "\n",
    "\treturn texto_limpo"
   ]
  },
  {
   "cell_type": "code",
   "execution_count": 16,
   "metadata": {},
   "outputs": [],
   "source": [
    "import duckdb\n",
    "from tqdm import tqdm\n",
    "\n",
    "# Conectar ou criar o banco de dados DuckDB\n",
    "conn = duckdb.connect('train_dataset3.duckdb')"
   ]
  },
  {
   "cell_type": "code",
   "execution_count": 9,
   "metadata": {},
   "outputs": [
    {
     "data": {
      "text/plain": [
       "<duckdb.duckdb.DuckDBPyConnection at 0x76f04c219f70>"
      ]
     },
     "execution_count": 9,
     "metadata": {},
     "output_type": "execute_result"
    }
   ],
   "source": [
    "# Criar a tabela de e-mails se não existir\n",
    "conn.execute(\"\"\"\n",
    "CREATE SEQUENCE IF NOT EXISTS serial;\n",
    "             \n",
    "CREATE TABLE IF NOT EXISTS dataset (\n",
    "    id INTEGER DEFAULT nextval('serial'),\n",
    "    name VARCHAR(255),\n",
    "    -- type BOOLEAN,\n",
    "    content TEXT,\n",
    "    indice INTEGER\n",
    ")\n",
    "\"\"\")"
   ]
  },
  {
   "cell_type": "code",
   "execution_count": 12,
   "metadata": {},
   "outputs": [
    {
     "name": "stdout",
     "output_type": "stream",
     "text": [
      "./books/Unknown - ana rosa.txt\n"
     ]
    },
    {
     "name": "stderr",
     "output_type": "stream",
     "text": [
      "100%|██████████| 16019/16019 [01:39<00:00, 161.72it/s]\n",
      "100%|██████████| 7952/7952 [01:25<00:00, 93.19it/s] \n",
      "100%|██████████| 3956/3956 [01:03<00:00, 62.36it/s] \n",
      "100%|██████████| 1997/1997 [00:19<00:00, 102.46it/s]\n",
      "100%|██████████| 1004/1004 [00:28<00:00, 35.64it/s]\n",
      "100%|██████████| 502/502 [00:08<00:00, 56.97it/s] \n",
      "100%|██████████| 251/251 [00:00<00:00, 832.00it/s]\n"
     ]
    },
    {
     "name": "stdout",
     "output_type": "stream",
     "text": [
      "./books/Ao Seu Lado - Kasie West.txt\n"
     ]
    },
    {
     "name": "stderr",
     "output_type": "stream",
     "text": [
      "100%|██████████| 18661/18661 [01:22<00:00, 226.53it/s]\n",
      "100%|██████████| 9238/9238 [01:08<00:00, 135.18it/s]\n",
      "100%|██████████| 4601/4601 [01:19<00:00, 57.57it/s] \n",
      "100%|██████████| 2322/2322 [00:02<00:00, 790.12it/s]\n",
      "100%|██████████| 1167/1167 [00:01<00:00, 773.39it/s]\n",
      "100%|██████████| 584/584 [00:00<00:00, 757.23it/s]\n",
      "100%|██████████| 292/292 [00:00<00:00, 704.00it/s]\n"
     ]
    },
    {
     "name": "stdout",
     "output_type": "stream",
     "text": [
      "./books/Amor em Roma - Sarah Adams.txt\n"
     ]
    },
    {
     "name": "stderr",
     "output_type": "stream",
     "text": [
      "100%|██████████| 26844/26844 [03:24<00:00, 131.34it/s]\n",
      "100%|██████████| 13283/13283 [01:40<00:00, 132.60it/s]\n",
      "100%|██████████| 6593/6593 [00:41<00:00, 157.49it/s]\n",
      "100%|██████████| 3328/3328 [01:01<00:00, 54.08it/s] \n",
      "100%|██████████| 1673/1673 [00:16<00:00, 99.17it/s] \n",
      "100%|██████████| 836/836 [00:17<00:00, 48.19it/s]\n",
      "100%|██████████| 418/418 [00:01<00:00, 303.63it/s]\n"
     ]
    },
    {
     "name": "stdout",
     "output_type": "stream",
     "text": [
      "./books/The Rule Book - Sarah Adams.txt\n"
     ]
    },
    {
     "name": "stderr",
     "output_type": "stream",
     "text": [
      "100%|██████████| 27169/27169 [02:00<00:00, 225.00it/s]\n",
      "100%|██████████| 13314/13314 [01:03<00:00, 208.61it/s]\n",
      "100%|██████████| 6600/6600 [00:08<00:00, 783.16it/s]\n",
      "100%|██████████| 3318/3318 [00:39<00:00, 83.14it/s] \n",
      "100%|██████████| 1667/1667 [00:02<00:00, 777.69it/s]\n",
      "100%|██████████| 834/834 [00:01<00:00, 788.93it/s]\n",
      "100%|██████████| 417/417 [00:00<00:00, 815.74it/s]\n"
     ]
    },
    {
     "name": "stdout",
     "output_type": "stream",
     "text": [
      "./books/Marriage for One - Ella Maise.txt\n"
     ]
    },
    {
     "name": "stderr",
     "output_type": "stream",
     "text": [
      "100%|██████████| 39144/39144 [03:07<00:00, 209.19it/s]\n",
      "100%|██████████| 19202/19202 [01:59<00:00, 161.17it/s]\n",
      "100%|██████████| 9514/9514 [00:47<00:00, 198.51it/s]\n",
      "100%|██████████| 4780/4780 [01:00<00:00, 78.53it/s] \n",
      "100%|██████████| 2401/2401 [00:03<00:00, 768.97it/s]\n",
      "100%|██████████| 1201/1201 [00:01<00:00, 795.78it/s]\n",
      "100%|██████████| 600/600 [00:00<00:00, 790.13it/s]\n"
     ]
    },
    {
     "name": "stdout",
     "output_type": "stream",
     "text": [
      "./books/The Worst Best Man - Mia Sosa.txt\n"
     ]
    },
    {
     "name": "stderr",
     "output_type": "stream",
     "text": [
      "100%|██████████| 25066/25066 [02:08<00:00, 195.82it/s]\n",
      "100%|██████████| 12315/12315 [02:47<00:00, 73.54it/s] \n",
      "100%|██████████| 6103/6103 [00:13<00:00, 455.62it/s]\n",
      "100%|██████████| 3073/3073 [00:07<00:00, 391.81it/s]\n",
      "100%|██████████| 1543/1543 [00:04<00:00, 382.07it/s]\n",
      "100%|██████████| 772/772 [00:01<00:00, 628.22it/s]\n",
      "100%|██████████| 386/386 [00:03<00:00, 123.65it/s]\n"
     ]
    },
    {
     "name": "stdout",
     "output_type": "stream",
     "text": [
      "./books/Para sempre seu - Abby Jimenez.txt\n"
     ]
    },
    {
     "name": "stderr",
     "output_type": "stream",
     "text": [
      "100%|██████████| 31401/31401 [02:50<00:00, 184.67it/s]\n",
      "100%|██████████| 15568/15568 [01:22<00:00, 188.78it/s]\n",
      "100%|██████████| 7741/7741 [00:22<00:00, 341.60it/s]\n",
      "100%|██████████| 3909/3909 [00:41<00:00, 93.43it/s] \n",
      "100%|██████████| 1964/1964 [00:02<00:00, 799.12it/s]\n",
      "100%|██████████| 982/982 [00:01<00:00, 821.73it/s]\n",
      "100%|██████████| 491/491 [00:00<00:00, 848.35it/s]\n"
     ]
    },
    {
     "name": "stdout",
     "output_type": "stream",
     "text": [
      "./books/O efeito Graham - Elle Kennedy.txt\n"
     ]
    },
    {
     "name": "stderr",
     "output_type": "stream",
     "text": [
      "100%|██████████| 43178/43178 [03:37<00:00, 198.68it/s] \n",
      "100%|██████████| 21425/21425 [02:02<00:00, 175.21it/s]\n",
      "100%|██████████| 10636/10636 [01:07<00:00, 156.64it/s]\n",
      "100%|██████████| 5372/5372 [01:01<00:00, 87.22it/s] \n",
      "100%|██████████| 2699/2699 [00:37<00:00, 71.63it/s] \n",
      "100%|██████████| 1350/1350 [00:01<00:00, 781.81it/s]\n",
      "100%|██████████| 675/675 [00:00<00:00, 818.88it/s]\n"
     ]
    },
    {
     "name": "stdout",
     "output_type": "stream",
     "text": [
      "./books/Um feitico de amor - Kate Robb.txt\n"
     ]
    },
    {
     "name": "stderr",
     "output_type": "stream",
     "text": [
      "100%|██████████| 27580/27580 [01:51<00:00, 248.16it/s]\n",
      "100%|██████████| 13623/13623 [00:56<00:00, 243.02it/s]\n",
      "100%|██████████| 6767/6767 [00:43<00:00, 155.44it/s]\n",
      "100%|██████████| 3419/3419 [00:40<00:00, 85.05it/s] \n",
      "100%|██████████| 1717/1717 [00:02<00:00, 838.89it/s]\n",
      "100%|██████████| 859/859 [00:01<00:00, 823.99it/s]\n",
      "100%|██████████| 430/430 [00:00<00:00, 772.50it/s]\n"
     ]
    },
    {
     "name": "stdout",
     "output_type": "stream",
     "text": [
      "./books/Mais que Amigos - Lauren Layne.txt\n"
     ]
    },
    {
     "name": "stderr",
     "output_type": "stream",
     "text": [
      "100%|██████████| 17845/17845 [00:59<00:00, 298.21it/s]\n",
      "100%|██████████| 8866/8866 [01:04<00:00, 136.53it/s]\n",
      "100%|██████████| 4396/4396 [00:42<00:00, 103.46it/s]\n",
      "100%|██████████| 2224/2224 [00:02<00:00, 846.42it/s]\n",
      "100%|██████████| 1117/1117 [00:01<00:00, 797.03it/s]\n",
      "100%|██████████| 559/559 [00:00<00:00, 829.55it/s]\n",
      "100%|██████████| 279/279 [00:00<00:00, 834.90it/s]\n"
     ]
    },
    {
     "name": "stdout",
     "output_type": "stream",
     "text": [
      "./books/Operacao paixao - Carlie Walker.txt\n"
     ]
    },
    {
     "name": "stderr",
     "output_type": "stream",
     "text": [
      "100%|██████████| 29836/29836 [02:14<00:00, 222.60it/s]\n",
      "100%|██████████| 14749/14749 [02:48<00:00, 87.46it/s] \n",
      "100%|██████████| 7334/7334 [00:24<00:00, 293.92it/s]\n",
      "100%|██████████| 3705/3705 [00:40<00:00, 90.99it/s] \n",
      "100%|██████████| 1862/1862 [00:02<00:00, 824.97it/s]\n",
      "100%|██████████| 931/931 [00:01<00:00, 832.57it/s]\n",
      "100%|██████████| 465/465 [00:00<00:00, 699.96it/s]\n"
     ]
    },
    {
     "name": "stdout",
     "output_type": "stream",
     "text": [
      "./books/Os numeros do amor - Helen Hoang.txt\n"
     ]
    },
    {
     "name": "stderr",
     "output_type": "stream",
     "text": [
      "100%|██████████| 25538/25538 [01:28<00:00, 289.41it/s]\n",
      "100%|██████████| 12649/12649 [00:51<00:00, 244.80it/s]\n",
      "100%|██████████| 6299/6299 [00:43<00:00, 143.58it/s]\n",
      "100%|██████████| 3184/3184 [00:35<00:00, 88.54it/s] \n",
      "100%|██████████| 1600/1600 [00:03<00:00, 428.16it/s]\n",
      "100%|██████████| 800/800 [00:01<00:00, 787.83it/s]\n",
      "100%|██████████| 400/400 [00:00<00:00, 780.77it/s]\n"
     ]
    },
    {
     "name": "stdout",
     "output_type": "stream",
     "text": [
      "./books/Missao Romance - Lyssa Kay Adams.txt\n"
     ]
    },
    {
     "name": "stderr",
     "output_type": "stream",
     "text": [
      "100%|██████████| 24535/24535 [01:29<00:00, 272.70it/s]\n",
      "100%|██████████| 12164/12164 [00:50<00:00, 240.44it/s]\n",
      "100%|██████████| 6044/6044 [00:43<00:00, 138.99it/s]\n",
      "100%|██████████| 3052/3052 [00:34<00:00, 88.41it/s] \n",
      "100%|██████████| 1534/1534 [00:03<00:00, 404.99it/s]\n",
      "100%|██████████| 767/767 [00:00<00:00, 806.26it/s]\n",
      "100%|██████████| 384/384 [00:00<00:00, 732.21it/s]\n"
     ]
    },
    {
     "name": "stdout",
     "output_type": "stream",
     "text": [
      "./books/Dez Dates Surpresa - Ashley Elston.txt\n"
     ]
    },
    {
     "name": "stderr",
     "output_type": "stream",
     "text": [
      "100%|██████████| 21873/21873 [00:58<00:00, 376.51it/s]\n",
      "100%|██████████| 10835/10835 [00:38<00:00, 283.09it/s]\n",
      "100%|██████████| 5375/5375 [00:41<00:00, 128.21it/s]\n",
      "100%|██████████| 2715/2715 [00:29<00:00, 91.75it/s] \n",
      "100%|██████████| 1363/1363 [00:09<00:00, 147.88it/s]\n",
      "100%|██████████| 682/682 [00:00<00:00, 827.74it/s]\n",
      "100%|██████████| 341/341 [00:00<00:00, 819.00it/s]\n"
     ]
    },
    {
     "name": "stdout",
     "output_type": "stream",
     "text": [
      "./books/Declinio de um homem - Osamu Dazai.txt\n"
     ]
    },
    {
     "name": "stderr",
     "output_type": "stream",
     "text": [
      "100%|██████████| 9379/9379 [00:17<00:00, 531.34it/s]\n",
      "100%|██████████| 4652/4652 [00:37<00:00, 125.49it/s]\n",
      "100%|██████████| 2320/2320 [00:24<00:00, 96.36it/s] \n",
      "100%|██████████| 1170/1170 [00:17<00:00, 68.26it/s] \n",
      "100%|██████████| 588/588 [00:00<00:00, 884.68it/s]\n",
      "100%|██████████| 294/294 [00:00<00:00, 850.63it/s]\n",
      "100%|██████████| 147/147 [00:00<00:00, 754.08it/s]\n"
     ]
    },
    {
     "name": "stdout",
     "output_type": "stream",
     "text": [
      "./books/O principio do coracao - Helen Hoang.txt\n"
     ]
    },
    {
     "name": "stderr",
     "output_type": "stream",
     "text": [
      "100%|██████████| 26246/26246 [01:28<00:00, 297.19it/s]\n",
      "100%|██████████| 13019/13019 [00:50<00:00, 258.68it/s]\n",
      "100%|██████████| 6466/6466 [00:29<00:00, 220.51it/s]\n",
      "100%|██████████| 3263/3263 [00:36<00:00, 88.66it/s] \n",
      "100%|██████████| 1640/1640 [00:01<00:00, 822.07it/s]\n",
      "100%|██████████| 820/820 [00:00<00:00, 855.50it/s]\n",
      "100%|██████████| 410/410 [00:00<00:00, 784.45it/s]\n"
     ]
    },
    {
     "name": "stdout",
     "output_type": "stream",
     "text": [
      "./books/The Trouble with Love - Lauren Layne.txt\n"
     ]
    },
    {
     "name": "stderr",
     "output_type": "stream",
     "text": [
      "100%|██████████| 18065/18065 [01:00<00:00, 296.89it/s]\n",
      "100%|██████████| 8884/8884 [00:47<00:00, 188.59it/s]\n",
      "100%|██████████| 4402/4402 [00:42<00:00, 104.36it/s]\n",
      "100%|██████████| 2214/2214 [00:02<00:00, 842.51it/s]\n",
      "100%|██████████| 1112/1112 [00:01<00:00, 820.11it/s]\n",
      "100%|██████████| 556/556 [00:00<00:00, 877.24it/s]\n",
      "100%|██████████| 278/278 [00:00<00:00, 808.29it/s]\n"
     ]
    },
    {
     "name": "stdout",
     "output_type": "stream",
     "text": [
      "./books/A cancao de Aquiles - Madeline Miller.txt\n"
     ]
    },
    {
     "name": "stderr",
     "output_type": "stream",
     "text": [
      "100%|██████████| 30032/30032 [01:54<00:00, 262.51it/s]\n",
      "100%|██████████| 14947/14947 [01:07<00:00, 220.49it/s]\n",
      "100%|██████████| 7438/7438 [00:31<00:00, 237.68it/s]\n",
      "100%|██████████| 3762/3762 [00:41<00:00, 90.30it/s] \n",
      "100%|██████████| 1890/1890 [00:02<00:00, 825.81it/s]\n",
      "100%|██████████| 945/945 [00:01<00:00, 848.07it/s]\n",
      "100%|██████████| 473/473 [00:00<00:00, 816.68it/s]\n"
     ]
    },
    {
     "name": "stdout",
     "output_type": "stream",
     "text": [
      "./books/O Crime do Padre Amaro - Eca de Queiros.txt\n"
     ]
    },
    {
     "name": "stderr",
     "output_type": "stream",
     "text": [
      "100%|██████████| 42598/42598 [02:48<00:00, 252.36it/s]\n",
      "100%|██████████| 21201/21201 [01:40<00:00, 211.59it/s]\n",
      "100%|██████████| 10581/10581 [00:48<00:00, 220.33it/s]\n",
      "100%|██████████| 5344/5344 [00:43<00:00, 123.55it/s]\n",
      "100%|██████████| 2684/2684 [00:27<00:00, 97.02it/s] \n",
      "100%|██████████| 1342/1342 [00:09<00:00, 139.34it/s]\n",
      "100%|██████████| 671/671 [00:06<00:00, 105.47it/s]\n"
     ]
    },
    {
     "name": "stdout",
     "output_type": "stream",
     "text": [
      "./books/Love the One You're With - Lauren Layne.txt\n"
     ]
    },
    {
     "name": "stderr",
     "output_type": "stream",
     "text": [
      "100%|██████████| 20129/20129 [01:30<00:00, 222.65it/s]\n",
      "100%|██████████| 9903/9903 [00:49<00:00, 201.64it/s]\n",
      "100%|██████████| 4905/4905 [00:41<00:00, 118.39it/s]\n",
      "100%|██████████| 2467/2467 [00:22<00:00, 107.70it/s]\n",
      "100%|██████████| 1239/1239 [00:16<00:00, 76.94it/s] \n",
      "100%|██████████| 620/620 [00:00<00:00, 787.05it/s]\n",
      "100%|██████████| 310/310 [00:00<00:00, 822.25it/s]\n"
     ]
    },
    {
     "name": "stdout",
     "output_type": "stream",
     "text": [
      "./books/Sozinha ou acompanhada_ - Mazey Eddings.txt\n"
     ]
    },
    {
     "name": "stderr",
     "output_type": "stream",
     "text": [
      "100%|██████████| 26727/26727 [01:50<00:00, 242.70it/s]\n",
      "100%|██████████| 13247/13247 [00:57<00:00, 231.22it/s]\n",
      "100%|██████████| 6582/6582 [00:40<00:00, 164.02it/s]\n",
      "100%|██████████| 3326/3326 [00:36<00:00, 91.39it/s] \n",
      "100%|██████████| 1672/1672 [00:03<00:00, 476.82it/s]\n",
      "100%|██████████| 836/836 [00:00<00:00, 839.50it/s]\n",
      "100%|██████████| 418/418 [00:00<00:00, 693.28it/s]\n"
     ]
    },
    {
     "name": "stdout",
     "output_type": "stream",
     "text": [
      "./books/Visoes de Descartes - Olavo de Carvalho.txt\n"
     ]
    },
    {
     "name": "stderr",
     "output_type": "stream",
     "text": [
      "100%|██████████| 18171/18171 [01:00<00:00, 298.58it/s]\n",
      "100%|██████████| 9008/9008 [00:48<00:00, 185.98it/s]\n",
      "100%|██████████| 4488/4488 [02:18<00:00, 32.39it/s] \n",
      "100%|██████████| 2264/2264 [00:03<00:00, 684.87it/s]\n",
      "100%|██████████| 1138/1138 [00:01<00:00, 826.25it/s]\n",
      "100%|██████████| 569/569 [00:00<00:00, 786.35it/s]\n",
      "100%|██████████| 285/285 [00:00<00:00, 852.78it/s]\n"
     ]
    },
    {
     "name": "stdout",
     "output_type": "stream",
     "text": [
      "./books/Clube do livro dos homens - Adams, Lyssa Kay.txt\n"
     ]
    },
    {
     "name": "stderr",
     "output_type": "stream",
     "text": [
      "100%|██████████| 24260/24260 [01:21<00:00, 297.17it/s]\n",
      "100%|██████████| 12048/12048 [00:52<00:00, 231.58it/s]\n",
      "100%|██████████| 5988/5988 [00:44<00:00, 134.75it/s]\n",
      "100%|██████████| 3025/3025 [00:37<00:00, 80.86it/s] \n",
      "100%|██████████| 1521/1521 [00:02<00:00, 518.19it/s]\n",
      "100%|██████████| 760/760 [00:00<00:00, 792.34it/s]\n",
      "100%|██████████| 380/380 [00:00<00:00, 830.02it/s]\n"
     ]
    },
    {
     "name": "stdout",
     "output_type": "stream",
     "text": [
      "./books/Uma farsa de amor na Espanha_ Conteudo Ext - Armas, Elena.txt\n"
     ]
    },
    {
     "name": "stderr",
     "output_type": "stream",
     "text": [
      "100%|██████████| 2346/2346 [00:02<00:00, 853.99it/s]\n",
      "100%|██████████| 1161/1161 [00:01<00:00, 842.13it/s]\n",
      "100%|██████████| 580/580 [00:00<00:00, 818.94it/s]\n",
      "100%|██████████| 292/292 [00:02<00:00, 104.81it/s]\n",
      "100%|██████████| 147/147 [00:01<00:00, 100.64it/s]\n",
      "100%|██████████| 74/74 [00:00<00:00, 108.49it/s]\n",
      "100%|██████████| 37/37 [00:00<00:00, 97.81it/s]\n"
     ]
    },
    {
     "name": "stdout",
     "output_type": "stream",
     "text": [
      "./books/Ed & Lorraine Warren - Lugar Sombrio - Carmen Reed.txt\n"
     ]
    },
    {
     "name": "stderr",
     "output_type": "stream",
     "text": [
      "100%|██████████| 26614/26614 [02:24<00:00, 184.26it/s]\n",
      "100%|██████████| 13220/13220 [01:51<00:00, 118.35it/s]\n",
      "100%|██████████| 6580/6580 [00:21<00:00, 300.17it/s]\n",
      "100%|██████████| 3324/3324 [00:05<00:00, 594.40it/s]\n",
      "100%|██████████| 1669/1669 [00:15<00:00, 107.09it/s]\n",
      "100%|██████████| 835/835 [00:10<00:00, 77.04it/s] \n",
      "100%|██████████| 417/417 [00:06<00:00, 65.98it/s]\n"
     ]
    },
    {
     "name": "stdout",
     "output_type": "stream",
     "text": [
      "./books/A longa marcha da vaca para o brejo_ E, lo - de Carvalho, Olavo.txt\n"
     ]
    },
    {
     "name": "stderr",
     "output_type": "stream",
     "text": [
      "100%|██████████| 20961/20961 [01:05<00:00, 320.99it/s]\n",
      "100%|██████████| 10447/10447 [00:49<00:00, 210.71it/s]\n",
      "100%|██████████| 5200/5200 [00:44<00:00, 118.17it/s]\n",
      "100%|██████████| 2624/2624 [00:26<00:00, 98.18it/s] \n",
      "100%|██████████| 1319/1319 [00:14<00:00, 91.25it/s] \n",
      "100%|██████████| 659/659 [00:00<00:00, 830.38it/s]\n",
      "100%|██████████| 330/330 [00:00<00:00, 869.67it/s]\n"
     ]
    },
    {
     "name": "stdout",
     "output_type": "stream",
     "text": [
      "./books/D__wwwroot_cleverpdf-web_4707484_Demonolog - Desconhecido.txt\n"
     ]
    },
    {
     "name": "stderr",
     "output_type": "stream",
     "text": [
      "100%|██████████| 28032/28032 [01:25<00:00, 327.36it/s]\n",
      "100%|██████████| 13931/13931 [01:02<00:00, 222.70it/s]\n",
      "100%|██████████| 6932/6932 [00:44<00:00, 156.62it/s]\n",
      "100%|██████████| 3504/3504 [00:37<00:00, 94.10it/s] \n",
      "100%|██████████| 1759/1759 [00:04<00:00, 375.12it/s]\n",
      "100%|██████████| 880/880 [00:01<00:00, 780.15it/s]\n",
      "100%|██████████| 440/440 [00:00<00:00, 819.87it/s]\n"
     ]
    },
    {
     "name": "stdout",
     "output_type": "stream",
     "text": [
      "./books/The American Roommate Experiment_ A Novel - Elena Armas.txt\n"
     ]
    },
    {
     "name": "stderr",
     "output_type": "stream",
     "text": [
      "100%|██████████| 31764/31764 [01:57<00:00, 270.64it/s]\n",
      "100%|██████████| 15618/15618 [00:37<00:00, 418.27it/s]\n",
      "100%|██████████| 7735/7735 [00:46<00:00, 167.09it/s]\n",
      "100%|██████████| 3892/3892 [00:04<00:00, 789.83it/s]\n",
      "100%|██████████| 1956/1956 [00:02<00:00, 806.96it/s]\n",
      "100%|██████████| 978/978 [00:01<00:00, 541.20it/s]\n",
      "100%|██████████| 489/489 [00:01<00:00, 414.86it/s]\n"
     ]
    },
    {
     "name": "stdout",
     "output_type": "stream",
     "text": [
      "./books/I Think I Love You_ An Exciting New Romanc - Lauren Layne.txt\n"
     ]
    },
    {
     "name": "stderr",
     "output_type": "stream",
     "text": [
      "100%|██████████| 18054/18054 [01:12<00:00, 250.10it/s]\n",
      "100%|██████████| 8948/8948 [00:12<00:00, 708.42it/s]\n",
      "100%|██████████| 4441/4441 [00:09<00:00, 476.07it/s]\n",
      "100%|██████████| 2245/2245 [00:06<00:00, 341.98it/s]\n",
      "100%|██████████| 1128/1128 [00:01<00:00, 867.70it/s]\n",
      "100%|██████████| 564/564 [00:01<00:00, 403.89it/s]\n",
      "100%|██████████| 282/282 [00:00<00:00, 301.28it/s]\n"
     ]
    },
    {
     "name": "stdout",
     "output_type": "stream",
     "text": [
      "./books/Just One Night_ Sex, Love & Stiletto Serie - Lauren Layne.txt\n"
     ]
    },
    {
     "name": "stderr",
     "output_type": "stream",
     "text": [
      "100%|██████████| 18950/18950 [01:08<00:00, 276.53it/s]\n",
      "100%|██████████| 9300/9300 [00:25<00:00, 371.18it/s]\n",
      "100%|██████████| 4610/4610 [00:42<00:00, 109.53it/s]\n",
      "100%|██████████| 2318/2318 [00:20<00:00, 110.40it/s]\n",
      "100%|██████████| 1165/1165 [00:17<00:00, 65.47it/s]\n",
      "100%|██████████| 582/582 [00:00<00:00, 802.17it/s]\n",
      "100%|██████████| 291/291 [00:00<00:00, 739.74it/s]\n"
     ]
    },
    {
     "name": "stdout",
     "output_type": "stream",
     "text": [
      "./books/Estupidamente apaixonados - Lyssa Kay Adams.txt\n"
     ]
    },
    {
     "name": "stderr",
     "output_type": "stream",
     "text": [
      "100%|██████████| 25588/25588 [01:16<00:00, 335.62it/s]\n",
      "100%|██████████| 12682/12682 [00:50<00:00, 250.84it/s]\n",
      "100%|██████████| 6308/6308 [00:21<00:00, 299.58it/s]\n",
      "100%|██████████| 3188/3188 [00:03<00:00, 822.39it/s]\n",
      "100%|██████████| 1601/1601 [00:16<00:00, 99.89it/s] \n",
      "100%|██████████| 801/801 [00:09<00:00, 83.08it/s] \n",
      "100%|██████████| 400/400 [00:07<00:00, 51.52it/s]\n"
     ]
    },
    {
     "name": "stdout",
     "output_type": "stream",
     "text": [
      "./books/Aristoteles em nova perspectiva - Olavo de Carvalho.txt\n"
     ]
    },
    {
     "name": "stderr",
     "output_type": "stream",
     "text": [
      "100%|██████████| 10677/10677 [00:22<00:00, 474.74it/s]\n",
      "100%|██████████| 5283/5283 [00:37<00:00, 142.49it/s]\n",
      "100%|██████████| 2633/2633 [00:03<00:00, 836.99it/s]\n",
      "100%|██████████| 1328/1328 [00:12<00:00, 104.85it/s]\n",
      "100%|██████████| 668/668 [00:07<00:00, 89.58it/s] \n",
      "100%|██████████| 334/334 [00:06<00:00, 53.07it/s]\n",
      "100%|██████████| 167/167 [00:03<00:00, 47.01it/s]\n"
     ]
    },
    {
     "name": "stdout",
     "output_type": "stream",
     "text": [
      "./books/O imbecil coletivo _ Atualidades incultura - Olavo de Carvalho.txt\n"
     ]
    },
    {
     "name": "stderr",
     "output_type": "stream",
     "text": [
      "100%|██████████| 43342/43342 [02:56<00:00, 245.68it/s]\n",
      "100%|██████████| 21555/21555 [01:41<00:00, 212.53it/s]\n",
      "100%|██████████| 10738/10738 [00:49<00:00, 217.64it/s]\n",
      "100%|██████████| 5422/5422 [00:43<00:00, 123.84it/s]\n",
      "100%|██████████| 2724/2724 [00:30<00:00, 88.60it/s] \n",
      "100%|██████████| 1362/1362 [00:07<00:00, 181.81it/s]\n",
      "100%|██████████| 681/681 [00:06<00:00, 105.75it/s]\n"
     ]
    },
    {
     "name": "stdout",
     "output_type": "stream",
     "text": [
      "./books/O jardim das Aflicoes_ de Epicuro a ressur - Olavo de Carvalho.txt\n"
     ]
    },
    {
     "name": "stderr",
     "output_type": "stream",
     "text": [
      "100%|██████████| 41060/41060 [03:26<00:00, 198.53it/s]\n",
      "100%|██████████| 20423/20423 [02:22<00:00, 142.99it/s]\n",
      "100%|██████████| 10170/10170 [00:47<00:00, 213.66it/s]\n",
      "100%|██████████| 5138/5138 [01:01<00:00, 84.14it/s] \n",
      "100%|██████████| 2581/2581 [00:36<00:00, 70.47it/s] \n",
      "100%|██████████| 1291/1291 [00:21<00:00, 61.20it/s] \n",
      "100%|██████████| 645/645 [00:00<00:00, 770.91it/s]\n"
     ]
    },
    {
     "name": "stdout",
     "output_type": "stream",
     "text": [
      "./books/O minimo que voce precisa saber para nao s - Olavo de Carvalho.txt\n"
     ]
    },
    {
     "name": "stderr",
     "output_type": "stream",
     "text": [
      "100%|██████████| 69286/69286 [05:10<00:00, 222.90it/s] \n",
      "100%|██████████| 34315/34315 [02:37<00:00, 218.19it/s]\n",
      "100%|██████████| 17060/17060 [01:45<00:00, 161.92it/s]\n",
      "100%|██████████| 8616/8616 [00:16<00:00, 514.14it/s]\n",
      "100%|██████████| 4330/4330 [00:39<00:00, 109.77it/s]\n",
      "100%|██████████| 2165/2165 [00:21<00:00, 99.25it/s] \n",
      "100%|██████████| 1083/1083 [00:13<00:00, 82.37it/s] \n"
     ]
    },
    {
     "name": "stdout",
     "output_type": "stream",
     "text": [
      "./books/Biblia Sagrada Nova Almeida Atualizada - Sociedade Biblica do Brasil.txt\n"
     ]
    },
    {
     "name": "stderr",
     "output_type": "stream",
     "text": [
      "100%|██████████| 240436/240436 [19:13<00:00, 208.50it/s] \n",
      "100%|██████████| 117950/117950 [09:27<00:00, 207.99it/s]\n",
      "100%|██████████| 58952/58952 [04:34<00:00, 214.82it/s]\n",
      "100%|██████████| 29765/29765 [04:03<00:00, 122.16it/s] \n",
      "100%|██████████| 14957/14957 [01:12<00:00, 207.44it/s]\n",
      "100%|██████████| 7477/7477 [00:12<00:00, 618.03it/s]\n",
      "100%|██████████| 3739/3739 [00:09<00:00, 407.35it/s]\n"
     ]
    }
   ],
   "source": [
    "import os\n",
    "\n",
    "for f in os.listdir('./books'):\n",
    "\tif os.path.isfile(os.path.join('./books', f)):\n",
    "\t\twith open(os.path.join('./books', f), 'r', encoding='utf-8') as file:\n",
    "\t\t\tprint(os.path.join('./books', f))\n",
    "\t\t\tsplitter_vlegth(cleartext(file.read()),f)"
   ]
  },
  {
   "cell_type": "code",
   "execution_count": 27,
   "metadata": {},
   "outputs": [
    {
     "name": "stderr",
     "output_type": "stream",
     "text": [
      "100%|██████████| 16676/16676 [01:04<00:00, 258.61it/s]\n",
      "100%|██████████| 66707/66707 [03:46<00:00, 294.67it/s]\n"
     ]
    }
   ],
   "source": [
    "tamanho_20 = int(len(splits) * 0.2)\n",
    "subset_20 = splits[:tamanho_20]\n",
    "\n",
    "for i, split in enumerate(tqdm(subset_20)):\n",
    "\tindice = content.find(split)\n",
    "\t# Inserir os dados no DuckDB\n",
    "\ttry:\n",
    "\t\tconn.execute(\"\"\"\n",
    "        INSERT INTO dataset (content, indice,type)\n",
    "        VALUES (?, ?, ?)\n",
    "        \"\"\", (split, indice,1))\n",
    "\texcept Exception as e:\n",
    "\t\tprint(f\"Erro ao inserir dados no DuckDB: {e}\")\n",
    "\n",
    "restante_80 = splits[tamanho_20:]\n",
    "\n",
    "for i, split in enumerate(tqdm(restante_80)):\n",
    "\tindice = content.find(split)\n",
    "\t# Inserir os dados no DuckDB\n",
    "\ttry:\n",
    "\t\tconn.execute(\"\"\"\n",
    "        INSERT INTO dataset (content, indice,type)\n",
    "        VALUES (?, ?, ?)\n",
    "        \"\"\", (split, indice,0))\n",
    "\texcept Exception as e:\n",
    "\t\tprint(f\"Erro ao inserir dados no DuckDB: {e}\")\n",
    "\t\t"
   ]
  },
  {
   "cell_type": "code",
   "execution_count": 26,
   "metadata": {},
   "outputs": [
    {
     "data": {
      "text/plain": [
       "<duckdb.duckdb.DuckDBPyConnection at 0x7bef5d5f9d30>"
      ]
     },
     "execution_count": 26,
     "metadata": {},
     "output_type": "execute_result"
    }
   ],
   "source": [
    "conn.execute(\"CREATE TABLE embedding(indice INTEGER PRIMARY KEY, data FLOAT8[], dim1 INTEGER, dim2 INTEGER);\")"
   ]
  },
  {
   "cell_type": "code",
   "execution_count": 17,
   "metadata": {},
   "outputs": [
    {
     "data": {
      "text/html": [
       "<div>\n",
       "<style scoped>\n",
       "    .dataframe tbody tr th:only-of-type {\n",
       "        vertical-align: middle;\n",
       "    }\n",
       "\n",
       "    .dataframe tbody tr th {\n",
       "        vertical-align: top;\n",
       "    }\n",
       "\n",
       "    .dataframe thead th {\n",
       "        text-align: right;\n",
       "    }\n",
       "</style>\n",
       "<table border=\"1\" class=\"dataframe\">\n",
       "  <thead>\n",
       "    <tr style=\"text-align: right;\">\n",
       "      <th></th>\n",
       "      <th>id</th>\n",
       "      <th>name</th>\n",
       "      <th>content</th>\n",
       "      <th>indice</th>\n",
       "    </tr>\n",
       "  </thead>\n",
       "  <tbody>\n",
       "    <tr>\n",
       "      <th>0</th>\n",
       "      <td>1</td>\n",
       "      <td>Unknown - ana rosa.txt</td>\n",
       "      <td>Disponibilização : Lizzie</td>\n",
       "      <td>0</td>\n",
       "    </tr>\n",
       "    <tr>\n",
       "      <th>1</th>\n",
       "      <td>2</td>\n",
       "      <td>Unknown - ana rosa.txt</td>\n",
       "      <td>Lizzie Tradução: Andréa,</td>\n",
       "      <td>19</td>\n",
       "    </tr>\n",
       "    <tr>\n",
       "      <th>2</th>\n",
       "      <td>3</td>\n",
       "      <td>Unknown - ana rosa.txt</td>\n",
       "      <td>Elisangela e Regina Revisão</td>\n",
       "      <td>44</td>\n",
       "    </tr>\n",
       "    <tr>\n",
       "      <th>3</th>\n",
       "      <td>4</td>\n",
       "      <td>Unknown - ana rosa.txt</td>\n",
       "      <td>Inicial: Andréa e Elisangela</td>\n",
       "      <td>72</td>\n",
       "    </tr>\n",
       "    <tr>\n",
       "      <th>4</th>\n",
       "      <td>5</td>\n",
       "      <td>Unknown - ana rosa.txt</td>\n",
       "      <td>Revisão Final: Sophy</td>\n",
       "      <td>101</td>\n",
       "    </tr>\n",
       "    <tr>\n",
       "      <th>...</th>\n",
       "      <td>...</td>\n",
       "      <td>...</td>\n",
       "      <td>...</td>\n",
       "      <td>...</td>\n",
       "    </tr>\n",
       "    <tr>\n",
       "      <th>2303687</th>\n",
       "      <td>2303688</td>\n",
       "      <td>Biblia Sagrada Nova Almeida Atualizada - Socie...</td>\n",
       "      <td>respeito do amor de Deus pela humanidade. O co...</td>\n",
       "      <td>4274794</td>\n",
       "    </tr>\n",
       "    <tr>\n",
       "      <th>2303688</th>\n",
       "      <td>2303689</td>\n",
       "      <td>Biblia Sagrada Nova Almeida Atualizada - Socie...</td>\n",
       "      <td>Sagrada — Leituras centrais para 366 dias, con...</td>\n",
       "      <td>4276140</td>\n",
       "    </tr>\n",
       "    <tr>\n",
       "      <th>2303689</th>\n",
       "      <td>2303690</td>\n",
       "      <td>Biblia Sagrada Nova Almeida Atualizada - Socie...</td>\n",
       "      <td>Bíblia e igualmente fiel aos textos originais,...</td>\n",
       "      <td>4277533</td>\n",
       "    </tr>\n",
       "    <tr>\n",
       "      <th>2303690</th>\n",
       "      <td>2303691</td>\n",
       "      <td>Biblia Sagrada Nova Almeida Atualizada - Socie...</td>\n",
       "      <td>A publicação oferece, ainda, um curso básico d...</td>\n",
       "      <td>4278935</td>\n",
       "    </tr>\n",
       "    <tr>\n",
       "      <th>2303691</th>\n",
       "      <td>2303692</td>\n",
       "      <td>Biblia Sagrada Nova Almeida Atualizada - Socie...</td>\n",
       "      <td>Deus promete estar ao lado dos que nele confia...</td>\n",
       "      <td>4280207</td>\n",
       "    </tr>\n",
       "  </tbody>\n",
       "</table>\n",
       "<p>2303692 rows × 4 columns</p>\n",
       "</div>"
      ],
      "text/plain": [
       "              id                                               name  \\\n",
       "0              1                             Unknown - ana rosa.txt   \n",
       "1              2                             Unknown - ana rosa.txt   \n",
       "2              3                             Unknown - ana rosa.txt   \n",
       "3              4                             Unknown - ana rosa.txt   \n",
       "4              5                             Unknown - ana rosa.txt   \n",
       "...          ...                                                ...   \n",
       "2303687  2303688  Biblia Sagrada Nova Almeida Atualizada - Socie...   \n",
       "2303688  2303689  Biblia Sagrada Nova Almeida Atualizada - Socie...   \n",
       "2303689  2303690  Biblia Sagrada Nova Almeida Atualizada - Socie...   \n",
       "2303690  2303691  Biblia Sagrada Nova Almeida Atualizada - Socie...   \n",
       "2303691  2303692  Biblia Sagrada Nova Almeida Atualizada - Socie...   \n",
       "\n",
       "                                                   content   indice  \n",
       "0                                Disponibilização : Lizzie        0  \n",
       "1                                 Lizzie Tradução: Andréa,       19  \n",
       "2                              Elisangela e Regina Revisão       44  \n",
       "3                             Inicial: Andréa e Elisangela       72  \n",
       "4                                     Revisão Final: Sophy      101  \n",
       "...                                                    ...      ...  \n",
       "2303687  respeito do amor de Deus pela humanidade. O co...  4274794  \n",
       "2303688  Sagrada — Leituras centrais para 366 dias, con...  4276140  \n",
       "2303689  Bíblia e igualmente fiel aos textos originais,...  4277533  \n",
       "2303690  A publicação oferece, ainda, um curso básico d...  4278935  \n",
       "2303691  Deus promete estar ao lado dos que nele confia...  4280207  \n",
       "\n",
       "[2303692 rows x 4 columns]"
      ]
     },
     "execution_count": 17,
     "metadata": {},
     "output_type": "execute_result"
    }
   ],
   "source": [
    "df = conn.execute(\"\"\"SELECT * FROM dataset \"\"\").df()\n",
    "df"
   ]
  },
  {
   "cell_type": "code",
   "execution_count": 18,
   "metadata": {},
   "outputs": [
    {
     "data": {
      "image/png": "[encoded data removed]",
      "text/plain": [
       "<Figure size 800x400 with 1 Axes>"
      ]
     },
     "metadata": {},
     "output_type": "display_data"
    }
   ],
   "source": [
    "# @title indice\n",
    "\n",
    "from matplotlib import pyplot as plt\n",
    "df['indice'].plot(kind='line', figsize=(8, 4), title='indice')\n",
    "plt.gca().spines[['top', 'right']].set_visible(False)"
   ]
  },
  {
   "cell_type": "code",
   "execution_count": 4,
   "metadata": {},
   "outputs": [
    {
     "name": "stdout",
     "output_type": "stream",
     "text": [
      "Using GPU: NVIDIA GeForce RTX 3050 Laptop GPU\n"
     ]
    }
   ],
   "source": [
    "import torch\n",
    "if not torch.cuda.is_available():\n",
    "    print(\"CUDA is not available. Please ensure you have a compatible GPU and drivers installed.\")\n",
    "else:\n",
    "    print(f\"Using GPU: {torch.cuda.get_device_name(0)}\")"
   ]
  },
  {
   "cell_type": "code",
   "execution_count": 6,
   "metadata": {},
   "outputs": [
    {
     "name": "stderr",
     "output_type": "stream",
     "text": [
      "Some weights of LlamaForCausalLM were not initialized from the model checkpoint at ./Llama-3.2-3b-Gather/ and are newly initialized: ['model.norm.weight']\n",
      "You should probably TRAIN this model on a down-stream task to be able to use it for predictions and inference.\n"
     ]
    },
    {
     "name": "stdout",
     "output_type": "stream",
     "text": [
      "LlamaForCausalLM(\n",
      "  (model): LlamaModel(\n",
      "    (embed_tokens): Embedding(128256, 3072)\n",
      "    (layers): ModuleList()\n",
      "    (norm): LlamaRMSNorm((3072,), eps=1e-05)\n",
      "    (rotary_emb): LlamaRotaryEmbedding()\n",
      "  )\n",
      "  (lm_head): Linear(in_features=3072, out_features=128256, bias=False)\n",
      ")\n"
     ]
    }
   ],
   "source": [
    "from transformers import AutoModelForCausalLM\n",
    "\n",
    "# Recarrega o modelo salvo\n",
    "model = AutoModelForCausalLM.from_pretrained('./Llama-3.2-3b-Gather/').to('cpu')\n",
    "\n",
    "# Verifica a estrutura do modelo recarregado\n",
    "print(model)"
   ]
  },
  {
   "cell_type": "code",
   "execution_count": 7,
   "metadata": {},
   "outputs": [],
   "source": [
    "def text_to_embedding(input_text):\n",
    "    with torch.no_grad():\n",
    "        input_ids = tokenizer(input_text, return_tensors=\"pt\").input_ids.to('cpu')\n",
    "        embedding = model.model.embed_tokens(input_ids)\n",
    "        embedding = embedding.cpu()  # Move para CPU\n",
    "    return embedding[0]"
   ]
  },
  {
   "cell_type": "code",
   "execution_count": 11,
   "metadata": {},
   "outputs": [
    {
     "name": "stderr",
     "output_type": "stream",
     "text": [
      "  0%|          | 31/51331 [06:33<181:05:11, 12.71s/it]\n"
     ]
    },
    {
     "ename": "KeyboardInterrupt",
     "evalue": "",
     "output_type": "error",
     "traceback": [
      "\u001b[0;31m---------------------------------------------------------------------------\u001b[0m",
      "\u001b[0;31mKeyboardInterrupt\u001b[0m                         Traceback (most recent call last)",
      "Cell \u001b[0;32mIn[11], line 9\u001b[0m\n\u001b[1;32m      6\u001b[0m vetor \u001b[38;5;241m=\u001b[39m vetor\u001b[38;5;241m.\u001b[39mflatten()\u001b[38;5;241m.\u001b[39mcpu()\u001b[38;5;241m.\u001b[39mdetach()\u001b[38;5;241m.\u001b[39mnumpy()\n\u001b[1;32m      8\u001b[0m \u001b[38;5;28;01mtry\u001b[39;00m:\n\u001b[0;32m----> 9\u001b[0m \tconn\u001b[38;5;241m.\u001b[39mexecute(\u001b[38;5;124m'\u001b[39m\u001b[38;5;124mINSERT INTO embedding (indice,data,dim1,dim2) VALUES (?,?,?,?)\u001b[39m\u001b[38;5;124m'\u001b[39m, (row[\u001b[38;5;124m'\u001b[39m\u001b[38;5;124mindice\u001b[39m\u001b[38;5;124m'\u001b[39m],vetor,dim1,dim2))\n\u001b[1;32m     10\u001b[0m \u001b[38;5;28;01mexcept\u001b[39;00m \u001b[38;5;167;01mException\u001b[39;00m \u001b[38;5;28;01mas\u001b[39;00m e:\n\u001b[1;32m     11\u001b[0m \t\u001b[38;5;28mprint\u001b[39m(\u001b[38;5;124mf\u001b[39m\u001b[38;5;124m\"\u001b[39m\u001b[38;5;124mErro ao inserir dados no DuckDB: \u001b[39m\u001b[38;5;132;01m{\u001b[39;00me\u001b[38;5;132;01m}\u001b[39;00m\u001b[38;5;124m\"\u001b[39m)\n",
      "\u001b[0;31mKeyboardInterrupt\u001b[0m: "
     ]
    }
   ],
   "source": [
    "for index, row in tqdm(df.iterrows(), total=len(df)):\n",
    "\n",
    "\tvetor = text_to_embedding(row['content'])\n",
    "\tdim1 = vetor.shape[0]\n",
    "\tdim2 = vetor.shape[1]\n",
    "\tvetor = vetor.flatten().cpu().detach().numpy()\n",
    "\n",
    "\ttry:\n",
    "\t\tconn.execute('INSERT INTO embedding (indice,data,dim1,dim2) VALUES (?,?,?,?)', (row['indice'],vetor,dim1,dim2))\n",
    "\texcept Exception as e:\n",
    "\t\tprint(f\"Erro ao inserir dados no DuckDB: {e}\")"
   ]
  },
  {
   "cell_type": "code",
   "execution_count": null,
   "metadata": {},
   "outputs": [],
   "source": [
    "from itertools import permutations\n",
    "# Muito grande\n",
    "#list(permutations(conn.execute(\"\"\"SELECT indice FROM dataset;\"\"\").fetchnumpy()['indice']))"
   ]
  },
  {
   "cell_type": "code",
   "execution_count": 8,
   "metadata": {},
   "outputs": [],
   "source": [
    "import time\n",
    "import logging\n",
    "import pandas as pd\n",
    "import torch\n",
    "from torch.utils.data import Dataset, DataLoader\n",
    "\n",
    "#logging.basicConfig(level=logging.INFO)\n",
    "#logger = logging.getLogger(__name__)\n",
    "\n",
    "class SequenceDataset(Dataset):\n",
    "    def __init__(self, df):\n",
    "        self.df = df.reset_index(drop=True)\n",
    "\n",
    "    def __len__(self):\n",
    "        return len(self.df)\n",
    "\n",
    "    def __getitem__(self, idx):\n",
    "        #start_time = time.time()\n",
    "        \n",
    "        row = self.df.iloc[idx]\n",
    "        sequence1 = text_to_embedding(row['content1'])\n",
    "        sequence2 = text_to_embedding(row['content2'])\n",
    "        index_difference = row['indice1'] - row['indice2']\n",
    "        \n",
    "        sequence1 = torch.tensor(sequence1, dtype=torch.float32)\n",
    "        sequence2 = torch.tensor(sequence2, dtype=torch.float32)\n",
    "        target = torch.tensor(index_difference, dtype=torch.float32)\n",
    "        \n",
    "        #end_time = time.time()\n",
    "        #if idx % 1000 == 0:\n",
    "        #    logger.info(f\"Processando amostra {idx}/{len(self.df)} - Tempo: {end_time - start_time:.4f}s\")\n",
    "        \n",
    "        return sequence1, sequence2, target"
   ]
  },
  {
   "cell_type": "code",
   "execution_count": 17,
   "metadata": {},
   "outputs": [
    {
     "data": {
      "text/html": [
       "<div>\n",
       "<style scoped>\n",
       "    .dataframe tbody tr th:only-of-type {\n",
       "        vertical-align: middle;\n",
       "    }\n",
       "\n",
       "    .dataframe tbody tr th {\n",
       "        vertical-align: top;\n",
       "    }\n",
       "\n",
       "    .dataframe thead th {\n",
       "        text-align: right;\n",
       "    }\n",
       "</style>\n",
       "<table border=\"1\" class=\"dataframe\">\n",
       "  <thead>\n",
       "    <tr style=\"text-align: right;\">\n",
       "      <th></th>\n",
       "      <th>indice1</th>\n",
       "      <th>indice2</th>\n",
       "      <th>content1</th>\n",
       "      <th>content2</th>\n",
       "    </tr>\n",
       "  </thead>\n",
       "  <tbody>\n",
       "    <tr>\n",
       "      <th>0</th>\n",
       "      <td>1227908</td>\n",
       "      <td>1228310</td>\n",
       "      <td>deus ensinava leopold von ranke a inteligência...</td>\n",
       "      <td>neutralizado por um concomitante progresso da ...</td>\n",
       "    </tr>\n",
       "    <tr>\n",
       "      <th>1</th>\n",
       "      <td>823443</td>\n",
       "      <td>823669</td>\n",
       "      <td>fundador anda hoje nas bocas dos nossos acadêm...</td>\n",
       "      <td>os homens a seu serviço uma imensa cenoura de ...</td>\n",
       "    </tr>\n",
       "    <tr>\n",
       "      <th>2</th>\n",
       "      <td>343568</td>\n",
       "      <td>343752</td>\n",
       "      <td>sentido vários movimentos políticomilitares de...</td>\n",
       "      <td>pacíficos e de natureza puramente intelectual ...</td>\n",
       "    </tr>\n",
       "    <tr>\n",
       "      <th>3</th>\n",
       "      <td>54577</td>\n",
       "      <td>55173</td>\n",
       "      <td>global ver o texto até que enfim no capítulo r...</td>\n",
       "      <td>mil vezes a pergunta você faz isso por dinheir...</td>\n",
       "    </tr>\n",
       "    <tr>\n",
       "      <th>4</th>\n",
       "      <td>11503</td>\n",
       "      <td>12252</td>\n",
       "      <td>educação é uma conquista pessoal educação ensi...</td>\n",
       "      <td>desejo se o ambiente visual urbano torna o ess...</td>\n",
       "    </tr>\n",
       "    <tr>\n",
       "      <th>...</th>\n",
       "      <td>...</td>\n",
       "      <td>...</td>\n",
       "      <td>...</td>\n",
       "      <td>...</td>\n",
       "    </tr>\n",
       "    <tr>\n",
       "      <th>41060</th>\n",
       "      <td>743230</td>\n",
       "      <td>743311</td>\n",
       "      <td>não é essa a essência do ideal socialista que ...</td>\n",
       "      <td>coletivo diário do comércio 30 de outubro de 2...</td>\n",
       "    </tr>\n",
       "    <tr>\n",
       "      <th>41061</th>\n",
       "      <td>275676</td>\n",
       "      <td>276186</td>\n",
       "      <td>camuflagem de transmutações lentas e aparentem...</td>\n",
       "      <td>curso de implantação um projeto de transformaç...</td>\n",
       "    </tr>\n",
       "    <tr>\n",
       "      <th>41062</th>\n",
       "      <td>679938</td>\n",
       "      <td>680156</td>\n",
       "      <td>do discurso político enragé engrossando pela r...</td>\n",
       "      <td>tradição de apolitheia toda uma nobre linhagem...</td>\n",
       "    </tr>\n",
       "    <tr>\n",
       "      <th>41063</th>\n",
       "      <td>761121</td>\n",
       "      <td>762004</td>\n",
       "      <td>um bocado de atraso allen hill um consultor de...</td>\n",
       "      <td>paulo querem lhe infundir mais medo ainda é um...</td>\n",
       "    </tr>\n",
       "    <tr>\n",
       "      <th>41064</th>\n",
       "      <td>1238437</td>\n",
       "      <td>1238730</td>\n",
       "      <td>capacidade não se chama pensamento mas intelig...</td>\n",
       "      <td>compraz na riqueza dos seus próprios movimento...</td>\n",
       "    </tr>\n",
       "  </tbody>\n",
       "</table>\n",
       "<p>41065 rows × 4 columns</p>\n",
       "</div>"
      ],
      "text/plain": [
       "       indice1  indice2                                           content1  \\\n",
       "0      1227908  1228310  deus ensinava leopold von ranke a inteligência...   \n",
       "1       823443   823669  fundador anda hoje nas bocas dos nossos acadêm...   \n",
       "2       343568   343752  sentido vários movimentos políticomilitares de...   \n",
       "3        54577    55173  global ver o texto até que enfim no capítulo r...   \n",
       "4        11503    12252  educação é uma conquista pessoal educação ensi...   \n",
       "...        ...      ...                                                ...   \n",
       "41060   743230   743311  não é essa a essência do ideal socialista que ...   \n",
       "41061   275676   276186  camuflagem de transmutações lentas e aparentem...   \n",
       "41062   679938   680156  do discurso político enragé engrossando pela r...   \n",
       "41063   761121   762004  um bocado de atraso allen hill um consultor de...   \n",
       "41064  1238437  1238730  capacidade não se chama pensamento mas intelig...   \n",
       "\n",
       "                                                content2  \n",
       "0      neutralizado por um concomitante progresso da ...  \n",
       "1      os homens a seu serviço uma imensa cenoura de ...  \n",
       "2      pacíficos e de natureza puramente intelectual ...  \n",
       "3      mil vezes a pergunta você faz isso por dinheir...  \n",
       "4      desejo se o ambiente visual urbano torna o ess...  \n",
       "...                                                  ...  \n",
       "41060  coletivo diário do comércio 30 de outubro de 2...  \n",
       "41061  curso de implantação um projeto de transformaç...  \n",
       "41062  tradição de apolitheia toda uma nobre linhagem...  \n",
       "41063  paulo querem lhe infundir mais medo ainda é um...  \n",
       "41064  compraz na riqueza dos seus próprios movimento...  \n",
       "\n",
       "[41065 rows x 4 columns]"
      ]
     },
     "execution_count": 17,
     "metadata": {},
     "output_type": "execute_result"
    }
   ],
   "source": [
    "df = conn.execute(\"\"\"\n",
    "WITH random_indices AS (\n",
    "  SELECT indice, content\n",
    "  FROM dataset\n",
    "  ORDER BY RANDOM()\n",
    "  LIMIT 51331\n",
    ")\n",
    "SELECT\n",
    "  a.indice AS indice1,\n",
    "  b.indice AS indice2,\n",
    "  a.content AS content1,\n",
    "  b.content AS content2\n",
    "FROM random_indices a\n",
    "JOIN random_indices b\n",
    "  ON a.indice < b.indice AND b.indice - a.indice <= 1024  -- Limita a diferença entre os índices a 1024\n",
    "ORDER BY RANDOM()\n",
    "LIMIT 41065;\n",
    "\"\"\").df()\n",
    "\n",
    "df"
   ]
  },
  {
   "cell_type": "code",
   "execution_count": 18,
   "metadata": {},
   "outputs": [],
   "source": [
    "from torch.utils.data import random_split\n",
    "\n",
    "# Função para o collate_fn, necessária para lidar com sequências de tamanhos variáveis\n",
    "def collate_fn(batch):\n",
    "    sequences1, sequences2, targets = zip(*batch)\n",
    "    return sequences1, sequences2, torch.tensor(targets, dtype=torch.float32)\n",
    "\n",
    "dataset = SequenceDataset(df)\n",
    "\n",
    "# Dividir o dataset\n",
    "dataset_size = len(dataset)\n",
    "validation_split = 0.2\n",
    "validation_size = int(validation_split * dataset_size)\n",
    "training_size = dataset_size - validation_size\n",
    "\n",
    "training_dataset, validation_dataset = random_split(dataset, [training_size, validation_size])\n",
    "\n",
    "# Criar DataLoaders\n",
    "train_dataloader = DataLoader(\n",
    "    training_dataset, \n",
    "    batch_size=32, \n",
    "    shuffle=True, \n",
    "    num_workers=0, \n",
    "    pin_memory=True, \n",
    "    collate_fn=collate_fn\n",
    ")\n",
    "\n",
    "validation_dataloader = DataLoader(\n",
    "    validation_dataset, \n",
    "    batch_size=32, \n",
    "    shuffle=False, \n",
    "    num_workers=0, \n",
    "    pin_memory=True, \n",
    "    collate_fn=collate_fn\n",
    ")"
   ]
  },
  {
   "cell_type": "code",
   "execution_count": null,
   "metadata": {},
   "outputs": [],
   "source": [
    "import torch\n",
    "import torch.nn as nn\n",
    "\n",
    "class RegressionRNN(nn.Module):\n",
    "    def __init__(self, input_size=3072, hidden_size=1024, num_layers=1):\n",
    "        super(RegressionRNN, self).__init__()\n",
    "        self.rnn1 = nn.LSTM(input_size=input_size, \n",
    "                            hidden_size=hidden_size, \n",
    "                            num_layers=num_layers, \n",
    "                            batch_first=True)\n",
    "        self.rnn2 = nn.LSTM(input_size=input_size, \n",
    "                            hidden_size=hidden_size, \n",
    "                            num_layers=num_layers, \n",
    "                            batch_first=True)train\n",
    "        self.fc = nn.Linear(hidden_size * 2, 1)\n",
    "        \n",
    "    def forward(self, sequences1, sequences2):\n",
    "        # Determina o dispositivo a partir do primeiro tensor da primeira sequência\n",
    "        device = sequences1[0].device\n",
    "        \n",
    "        # Processa a primeira sequência\n",
    "        lengths1 = torch.tensor([seq.size(0) for seq in sequences1], dtype=torch.long, device=device)\n",
    "        padded_sequences1 = nn.utils.rnn.pad_sequence(sequences1, batch_first=True)\n",
    "        #packed_input1 = nn.utils.rnn.pack_padded_sequence(padded_sequences1, lengths1.cpu(), batch_first=True, enforce_sorted=False)\n",
    "        packed_input1 = nn.utils.rnn.pack_padded_sequence(padded_sequences1, lengths1, batch_first=True, enforce_sorted=False)\n",
    "\n",
    "\n",
    "        packed_output1, (h_n1, c_n1) = self.rnn1(packed_input1)\n",
    "        output1, _ = nn.utils.rnn.pad_packed_sequence(packed_output1, batch_first=True)\n",
    "        batch_size1 = padded_sequences1.size(0)\n",
    "        idx1 = (lengths1 - 1).view(-1, 1, 1).expand(batch_size1, 1, output1.size(2)).to(device)\n",
    "        last_output1 = output1.gather(1, idx1).squeeze(1)\n",
    "        \n",
    "        # Processa a segunda sequência\n",
    "        lengths2 = torch.tensor([seq.size(0) for seq in sequences2], dtype=torch.long, device=device)\n",
    "        padded_sequences2 = nn.utils.rnn.pad_sequence(sequences2, batch_first=True)\n",
    "        #packed_input2 = nn.utils.rnn.pack_padded_sequence(padded_sequences2, lengths2.cpu(), batch_first=True, enforce_sorted=False)\n",
    "        packed_input2 = nn.utils.rnn.pack_padded_sequence(padded_sequences2, lengths2, batch_first=True, enforce_sorted=False)\n",
    "        \n",
    "        packed_output2, (h_n2, c_n2) = self.rnn2(packed_input2)\n",
    "        output2, _ = nn.utils.rnn.pad_packed_sequence(packed_output2, batch_first=True)\n",
    "        batch_size2 = padded_sequences2.size(0)\n",
    "        idx2 = (lengths2 - 1).view(-1, 1, 1).expand(batch_size2, 1, output2.size(2)).to(device)\n",
    "        last_output2 = output2.gather(1, idx2).squeeze(1)\n",
    "        \n",
    "        # Concatena as saídas das duas sequências\n",
    "        combined_output = torch.cat((last_output1, last_output2), dim=1)\n",
    "        \n",
    "        # Passa pela camada totalmente conectada\n",
    "        out = self.fc(combined_output)\n",
    "        return out.squeeze(1)"
   ]
  },
  {
   "cell_type": "code",
   "execution_count": 21,
   "metadata": {},
   "outputs": [],
   "source": [
    "# Inicializa o modelo, critério de perda e otimizador\n",
    "model_order = RegressionRNN().to('cuda')\n",
    "optimizer = torch.optim.Adam(model_order.parameters(), lr=0.001, weight_decay=1e-5)\n",
    "criterion = nn.MSELoss()  # Para regressão\n",
    "num_epochs = 10"
   ]
  },
  {
   "cell_type": "code",
   "execution_count": null,
   "metadata": {},
   "outputs": [
    {
     "name": "stdout",
     "output_type": "stream",
     "text": [
      "Modelo salvo em ./saved_models/regression_rnn_model.pth\n",
      "Estado do otimizador salvo em ./saved_models/optimizer_state.pth\n",
      "Checkpoint salvo em ./saved_models/last_epoch.pth\n"
     ]
    }
   ],
   "source": [
    "import os\n",
    "\n",
    "# Diretório onde os modelos serão salvos\n",
    "save_dir = './saved_models'\n",
    "os.makedirs(save_dir, exist_ok=True)\n",
    "\n",
    "# Salvando o estado do modelo\n",
    "model_path = os.path.join(save_dir, 'regression_rnn_model.pth')\n",
    "torch.save(model_order.state_dict(), model_path)\n",
    "print(f\"Modelo salvo em {model_path}\")\n",
    "\n",
    "# Opcional: Salvando o estado do otimizador\n",
    "optimizer_path = os.path.join(save_dir, 'optimizer_state.pth')\n",
    "torch.save(optimizer.state_dict(), optimizer_path)\n",
    "print(f\"Estado do otimizador salvo em {optimizer_path}\")\n",
    "\n",
    "# Opcional: Salvar a época atual para retomar o treinamento\n",
    "epoch_path = os.path.join(save_dir, 'last_epoch.pth')\n",
    "torch.save({'epoch': epoch, 'model_state_dict': model_order.state_dict(),\n",
    "            'optimizer_state_dict': optimizer.state_dict(),\n",
    "            'loss': avg_validation_loss}, epoch_path)\n",
    "print(f\"Checkpoint salvo em {epoch_path}\")"
   ]
  },
  {
   "cell_type": "code",
   "execution_count": null,
   "metadata": {},
   "outputs": [],
   "source": [
    "# Carregar o estado do modelo\n",
    "model_order.load_state_dict(torch.load(model_path))\n",
    "model_order.eval()  # Coloca o modelo em modo de avaliação (opcional)\n",
    "\n",
    "# Carregar o estado do otimizador (se você também salvou)\n",
    "optimizer.load_state_dict(torch.load(optimizer_path))\n",
    "\n",
    "# Opcional: Carregar o checkpoint completo\n",
    "checkpoint = torch.load(epoch_path)\n",
    "model_order.load_state_dict(checkpoint['model_state_dict'])\n",
    "optimizer.load_state_dict(checkpoint['optimizer_state_dict'])\n",
    "start_epoch = checkpoint['epoch'] + 1\n",
    "loss = checkpoint['loss']\n",
    "\n",
    "print(f\"Checkpoint carregado. Iniciando a partir da época {start_epoch} com perda {loss}\")"
   ]
  },
  {
   "cell_type": "code",
   "execution_count": 14,
   "metadata": {},
   "outputs": [
    {
     "name": "stderr",
     "output_type": "stream",
     "text": [
      "Época 1/10:   0%|          | 0/10 [00:00<?, ?época/s] /tmp/ipykernel_6464/2554487884.py:25: UserWarning: To copy construct from a tensor, it is recommended to use sourceTensor.clone().detach() or sourceTensor.clone().detach().requires_grad_(True), rather than torch.tensor(sourceTensor).\n",
      "  sequence1 = torch.tensor(sequence1, dtype=torch.float32)\n",
      "/tmp/ipykernel_6464/2554487884.py:26: UserWarning: To copy construct from a tensor, it is recommended to use sourceTensor.clone().detach() or sourceTensor.clone().detach().requires_grad_(True), rather than torch.tensor(sourceTensor).\n",
      "  sequence2 = torch.tensor(sequence2, dtype=torch.float32)\n",
      "Época 2/10:  10%|█         | 1/10 [05:42<51:22, 342.51s/época, Perda Treinamento=265980485287.4766, Perda Validação=262622917651.0807]"
     ]
    },
    {
     "name": "stdout",
     "output_type": "stream",
     "text": [
      "Época 1/10, Perda Treinamento: 265980485287.4766, Perda Validação: 262622917651.0807\n"
     ]
    },
    {
     "name": "stderr",
     "output_type": "stream",
     "text": [
      "Época 3/10:  20%|██        | 2/10 [11:13<44:46, 335.84s/época, Perda Treinamento=264989807153.4455, Perda Validação=261629926915.1801]"
     ]
    },
    {
     "name": "stdout",
     "output_type": "stream",
     "text": [
      "Época 2/10, Perda Treinamento: 264989807153.4455, Perda Validação: 261629926915.1801\n"
     ]
    },
    {
     "name": "stderr",
     "output_type": "stream",
     "text": [
      "Época 4/10:  30%|███       | 3/10 [17:36<41:41, 357.35s/época, Perda Treinamento=263884734668.1620, Perda Validação=260635874017.7888]"
     ]
    },
    {
     "name": "stdout",
     "output_type": "stream",
     "text": [
      "Época 3/10, Perda Treinamento: 263884734668.1620, Perda Validação: 260635874017.7888\n"
     ]
    },
    {
     "name": "stderr",
     "output_type": "stream",
     "text": [
      "Época 5/10:  40%|████      | 4/10 [23:03<34:32, 345.36s/época, Perda Treinamento=262966049182.7040, Perda Validação=259641621103.3044]"
     ]
    },
    {
     "name": "stdout",
     "output_type": "stream",
     "text": [
      "Época 4/10, Perda Treinamento: 262966049182.7040, Perda Validação: 259641621103.3044\n"
     ]
    },
    {
     "name": "stderr",
     "output_type": "stream",
     "text": [
      "Época 5/10:  40%|████      | 4/10 [27:57<41:56, 419.47s/época, Perda Treinamento=262966049182.7040, Perda Validação=259641621103.3044]\n"
     ]
    },
    {
     "ename": "KeyboardInterrupt",
     "evalue": "",
     "output_type": "error",
     "traceback": [
      "\u001b[0;31m---------------------------------------------------------------------------\u001b[0m",
      "\u001b[0;31mKeyboardInterrupt\u001b[0m                         Traceback (most recent call last)",
      "Cell \u001b[0;32mIn[14], line 55\u001b[0m\n\u001b[1;32m     52\u001b[0m sequences2_batch \u001b[38;5;241m=\u001b[39m [seq\u001b[38;5;241m.\u001b[39mto(\u001b[38;5;124m'\u001b[39m\u001b[38;5;124mcuda\u001b[39m\u001b[38;5;124m'\u001b[39m) \u001b[38;5;28;01mfor\u001b[39;00m seq \u001b[38;5;129;01min\u001b[39;00m sequences2_batch]\n\u001b[1;32m     53\u001b[0m targets_batch \u001b[38;5;241m=\u001b[39m targets_batch\u001b[38;5;241m.\u001b[39mto(\u001b[38;5;124m'\u001b[39m\u001b[38;5;124mcuda\u001b[39m\u001b[38;5;124m'\u001b[39m)\n\u001b[0;32m---> 55\u001b[0m outputs \u001b[38;5;241m=\u001b[39m model_order(sequences1_batch, sequences2_batch)\n\u001b[1;32m     56\u001b[0m loss \u001b[38;5;241m=\u001b[39m criterion(outputs, targets_batch)\n\u001b[1;32m     57\u001b[0m validation_loss \u001b[38;5;241m+\u001b[39m\u001b[38;5;241m=\u001b[39m loss\u001b[38;5;241m.\u001b[39mitem()\n",
      "File \u001b[0;32m~/anaconda3/lib/python3.12/site-packages/torch/nn/modules/module.py:1553\u001b[0m, in \u001b[0;36mModule._wrapped_call_impl\u001b[0;34m(self, *args, **kwargs)\u001b[0m\n\u001b[1;32m   1551\u001b[0m     \u001b[38;5;28;01mreturn\u001b[39;00m \u001b[38;5;28mself\u001b[39m\u001b[38;5;241m.\u001b[39m_compiled_call_impl(\u001b[38;5;241m*\u001b[39margs, \u001b[38;5;241m*\u001b[39m\u001b[38;5;241m*\u001b[39mkwargs)  \u001b[38;5;66;03m# type: ignore[misc]\u001b[39;00m\n\u001b[1;32m   1552\u001b[0m \u001b[38;5;28;01melse\u001b[39;00m:\n\u001b[0;32m-> 1553\u001b[0m     \u001b[38;5;28;01mreturn\u001b[39;00m \u001b[38;5;28mself\u001b[39m\u001b[38;5;241m.\u001b[39m_call_impl(\u001b[38;5;241m*\u001b[39margs, \u001b[38;5;241m*\u001b[39m\u001b[38;5;241m*\u001b[39mkwargs)\n",
      "File \u001b[0;32m~/anaconda3/lib/python3.12/site-packages/torch/nn/modules/module.py:1562\u001b[0m, in \u001b[0;36mModule._call_impl\u001b[0;34m(self, *args, **kwargs)\u001b[0m\n\u001b[1;32m   1557\u001b[0m \u001b[38;5;66;03m# If we don't have any hooks, we want to skip the rest of the logic in\u001b[39;00m\n\u001b[1;32m   1558\u001b[0m \u001b[38;5;66;03m# this function, and just call forward.\u001b[39;00m\n\u001b[1;32m   1559\u001b[0m \u001b[38;5;28;01mif\u001b[39;00m \u001b[38;5;129;01mnot\u001b[39;00m (\u001b[38;5;28mself\u001b[39m\u001b[38;5;241m.\u001b[39m_backward_hooks \u001b[38;5;129;01mor\u001b[39;00m \u001b[38;5;28mself\u001b[39m\u001b[38;5;241m.\u001b[39m_backward_pre_hooks \u001b[38;5;129;01mor\u001b[39;00m \u001b[38;5;28mself\u001b[39m\u001b[38;5;241m.\u001b[39m_forward_hooks \u001b[38;5;129;01mor\u001b[39;00m \u001b[38;5;28mself\u001b[39m\u001b[38;5;241m.\u001b[39m_forward_pre_hooks\n\u001b[1;32m   1560\u001b[0m         \u001b[38;5;129;01mor\u001b[39;00m _global_backward_pre_hooks \u001b[38;5;129;01mor\u001b[39;00m _global_backward_hooks\n\u001b[1;32m   1561\u001b[0m         \u001b[38;5;129;01mor\u001b[39;00m _global_forward_hooks \u001b[38;5;129;01mor\u001b[39;00m _global_forward_pre_hooks):\n\u001b[0;32m-> 1562\u001b[0m     \u001b[38;5;28;01mreturn\u001b[39;00m forward_call(\u001b[38;5;241m*\u001b[39margs, \u001b[38;5;241m*\u001b[39m\u001b[38;5;241m*\u001b[39mkwargs)\n\u001b[1;32m   1564\u001b[0m \u001b[38;5;28;01mtry\u001b[39;00m:\n\u001b[1;32m   1565\u001b[0m     result \u001b[38;5;241m=\u001b[39m \u001b[38;5;28;01mNone\u001b[39;00m\n",
      "Cell \u001b[0;32mIn[11], line 26\u001b[0m, in \u001b[0;36mRegressionRNN.forward\u001b[0;34m(self, sequences1, sequences2)\u001b[0m\n\u001b[1;32m     23\u001b[0m padded_sequences1 \u001b[38;5;241m=\u001b[39m nn\u001b[38;5;241m.\u001b[39mutils\u001b[38;5;241m.\u001b[39mrnn\u001b[38;5;241m.\u001b[39mpad_sequence(sequences1, batch_first\u001b[38;5;241m=\u001b[39m\u001b[38;5;28;01mTrue\u001b[39;00m)\n\u001b[1;32m     24\u001b[0m packed_input1 \u001b[38;5;241m=\u001b[39m nn\u001b[38;5;241m.\u001b[39mutils\u001b[38;5;241m.\u001b[39mrnn\u001b[38;5;241m.\u001b[39mpack_padded_sequence(\n\u001b[1;32m     25\u001b[0m     padded_sequences1, lengths1\u001b[38;5;241m.\u001b[39mcpu(), batch_first\u001b[38;5;241m=\u001b[39m\u001b[38;5;28;01mTrue\u001b[39;00m, enforce_sorted\u001b[38;5;241m=\u001b[39m\u001b[38;5;28;01mFalse\u001b[39;00m)\n\u001b[0;32m---> 26\u001b[0m packed_output1, (h_n1, c_n1) \u001b[38;5;241m=\u001b[39m \u001b[38;5;28mself\u001b[39m\u001b[38;5;241m.\u001b[39mrnn1(packed_input1)\n\u001b[1;32m     27\u001b[0m output1, _ \u001b[38;5;241m=\u001b[39m nn\u001b[38;5;241m.\u001b[39mutils\u001b[38;5;241m.\u001b[39mrnn\u001b[38;5;241m.\u001b[39mpad_packed_sequence(packed_output1, batch_first\u001b[38;5;241m=\u001b[39m\u001b[38;5;28;01mTrue\u001b[39;00m)\n\u001b[1;32m     28\u001b[0m batch_size1 \u001b[38;5;241m=\u001b[39m padded_sequences1\u001b[38;5;241m.\u001b[39msize(\u001b[38;5;241m0\u001b[39m)\n",
      "File \u001b[0;32m~/anaconda3/lib/python3.12/site-packages/torch/nn/modules/module.py:1553\u001b[0m, in \u001b[0;36mModule._wrapped_call_impl\u001b[0;34m(self, *args, **kwargs)\u001b[0m\n\u001b[1;32m   1551\u001b[0m     \u001b[38;5;28;01mreturn\u001b[39;00m \u001b[38;5;28mself\u001b[39m\u001b[38;5;241m.\u001b[39m_compiled_call_impl(\u001b[38;5;241m*\u001b[39margs, \u001b[38;5;241m*\u001b[39m\u001b[38;5;241m*\u001b[39mkwargs)  \u001b[38;5;66;03m# type: ignore[misc]\u001b[39;00m\n\u001b[1;32m   1552\u001b[0m \u001b[38;5;28;01melse\u001b[39;00m:\n\u001b[0;32m-> 1553\u001b[0m     \u001b[38;5;28;01mreturn\u001b[39;00m \u001b[38;5;28mself\u001b[39m\u001b[38;5;241m.\u001b[39m_call_impl(\u001b[38;5;241m*\u001b[39margs, \u001b[38;5;241m*\u001b[39m\u001b[38;5;241m*\u001b[39mkwargs)\n",
      "File \u001b[0;32m~/anaconda3/lib/python3.12/site-packages/torch/nn/modules/module.py:1562\u001b[0m, in \u001b[0;36mModule._call_impl\u001b[0;34m(self, *args, **kwargs)\u001b[0m\n\u001b[1;32m   1557\u001b[0m \u001b[38;5;66;03m# If we don't have any hooks, we want to skip the rest of the logic in\u001b[39;00m\n\u001b[1;32m   1558\u001b[0m \u001b[38;5;66;03m# this function, and just call forward.\u001b[39;00m\n\u001b[1;32m   1559\u001b[0m \u001b[38;5;28;01mif\u001b[39;00m \u001b[38;5;129;01mnot\u001b[39;00m (\u001b[38;5;28mself\u001b[39m\u001b[38;5;241m.\u001b[39m_backward_hooks \u001b[38;5;129;01mor\u001b[39;00m \u001b[38;5;28mself\u001b[39m\u001b[38;5;241m.\u001b[39m_backward_pre_hooks \u001b[38;5;129;01mor\u001b[39;00m \u001b[38;5;28mself\u001b[39m\u001b[38;5;241m.\u001b[39m_forward_hooks \u001b[38;5;129;01mor\u001b[39;00m \u001b[38;5;28mself\u001b[39m\u001b[38;5;241m.\u001b[39m_forward_pre_hooks\n\u001b[1;32m   1560\u001b[0m         \u001b[38;5;129;01mor\u001b[39;00m _global_backward_pre_hooks \u001b[38;5;129;01mor\u001b[39;00m _global_backward_hooks\n\u001b[1;32m   1561\u001b[0m         \u001b[38;5;129;01mor\u001b[39;00m _global_forward_hooks \u001b[38;5;129;01mor\u001b[39;00m _global_forward_pre_hooks):\n\u001b[0;32m-> 1562\u001b[0m     \u001b[38;5;28;01mreturn\u001b[39;00m forward_call(\u001b[38;5;241m*\u001b[39margs, \u001b[38;5;241m*\u001b[39m\u001b[38;5;241m*\u001b[39mkwargs)\n\u001b[1;32m   1564\u001b[0m \u001b[38;5;28;01mtry\u001b[39;00m:\n\u001b[1;32m   1565\u001b[0m     result \u001b[38;5;241m=\u001b[39m \u001b[38;5;28;01mNone\u001b[39;00m\n",
      "File \u001b[0;32m~/anaconda3/lib/python3.12/site-packages/torch/nn/modules/rnn.py:920\u001b[0m, in \u001b[0;36mLSTM.forward\u001b[0;34m(self, input, hx)\u001b[0m\n\u001b[1;32m    917\u001b[0m     result \u001b[38;5;241m=\u001b[39m _VF\u001b[38;5;241m.\u001b[39mlstm(\u001b[38;5;28minput\u001b[39m, hx, \u001b[38;5;28mself\u001b[39m\u001b[38;5;241m.\u001b[39m_flat_weights, \u001b[38;5;28mself\u001b[39m\u001b[38;5;241m.\u001b[39mbias, \u001b[38;5;28mself\u001b[39m\u001b[38;5;241m.\u001b[39mnum_layers,\n\u001b[1;32m    918\u001b[0m                       \u001b[38;5;28mself\u001b[39m\u001b[38;5;241m.\u001b[39mdropout, \u001b[38;5;28mself\u001b[39m\u001b[38;5;241m.\u001b[39mtraining, \u001b[38;5;28mself\u001b[39m\u001b[38;5;241m.\u001b[39mbidirectional, \u001b[38;5;28mself\u001b[39m\u001b[38;5;241m.\u001b[39mbatch_first)\n\u001b[1;32m    919\u001b[0m \u001b[38;5;28;01melse\u001b[39;00m:\n\u001b[0;32m--> 920\u001b[0m     result \u001b[38;5;241m=\u001b[39m _VF\u001b[38;5;241m.\u001b[39mlstm(\u001b[38;5;28minput\u001b[39m, batch_sizes, hx, \u001b[38;5;28mself\u001b[39m\u001b[38;5;241m.\u001b[39m_flat_weights, \u001b[38;5;28mself\u001b[39m\u001b[38;5;241m.\u001b[39mbias,\n\u001b[1;32m    921\u001b[0m                       \u001b[38;5;28mself\u001b[39m\u001b[38;5;241m.\u001b[39mnum_layers, \u001b[38;5;28mself\u001b[39m\u001b[38;5;241m.\u001b[39mdropout, \u001b[38;5;28mself\u001b[39m\u001b[38;5;241m.\u001b[39mtraining, \u001b[38;5;28mself\u001b[39m\u001b[38;5;241m.\u001b[39mbidirectional)\n\u001b[1;32m    922\u001b[0m output \u001b[38;5;241m=\u001b[39m result[\u001b[38;5;241m0\u001b[39m]\n\u001b[1;32m    923\u001b[0m hidden \u001b[38;5;241m=\u001b[39m result[\u001b[38;5;241m1\u001b[39m:]\n",
      "\u001b[0;31mKeyboardInterrupt\u001b[0m: "
     ]
    }
   ],
   "source": [
    "from torch.utils.tensorboard import SummaryWriter\n",
    "from tqdm import tqdm\n",
    "\n",
    "# Inicializar o writer do TensorBoard\n",
    "writer = SummaryWriter('runs/treinamento_regressao_rnn')\n",
    "\n",
    "# Inicializar o contador de passos\n",
    "step = 0\n",
    "\n",
    "# Envolver o loop de épocas com tqdm para mostrar o progresso das épocas\n",
    "epoch_progress = tqdm(range(num_epochs), desc='Treinamento', unit='época')\n",
    "\n",
    "for epoch in epoch_progress:\n",
    "    # Atualizar a descrição da barra de progresso com a época atual\n",
    "    epoch_progress.set_description(f'Época {epoch+1}/{num_epochs}')\n",
    "    \n",
    "    # Treinamento\n",
    "    model_order.train()\n",
    "    train_loss = 0.0\n",
    "\n",
    "    for sequences1_batch, sequences2_batch, targets_batch in train_dataloader:\n",
    "        optimizer.zero_grad()\n",
    "        \n",
    "        # Transferir dados para GPU\n",
    "        sequences1_batch = [seq.to('cuda') for seq in sequences1_batch]\n",
    "        sequences2_batch = [seq.to('cuda') for seq in sequences2_batch]\n",
    "        targets_batch = targets_batch.to('cuda')\n",
    "        \n",
    "        # Forward pass\n",
    "        outputs = model_order(sequences1_batch, sequences2_batch)\n",
    "        loss = criterion(outputs, targets_batch)\n",
    "        \n",
    "        # Backward pass e otimização\n",
    "        loss.backward()\n",
    "        optimizer.step()\n",
    "        \n",
    "        train_loss += loss.item()\n",
    "        \n",
    "        # Registrar a perda de treinamento a cada passo\n",
    "        writer.add_scalar('Perda_Treinamento_Passo', loss.item(), step)\n",
    "        step += 1\n",
    "    \n",
    "    avg_train_loss = train_loss / len(train_dataloader)\n",
    "    \n",
    "    # Validação\n",
    "    model_order.eval()\n",
    "    validation_loss = 0.0\n",
    "    \n",
    "    with torch.no_grad():\n",
    "        for sequences1_batch, sequences2_batch, targets_batch in validation_dataloader:\n",
    "            sequences1_batch = [seq.to('cuda') for seq in sequences1_batch]\n",
    "            sequences2_batch = [seq.to('cuda') for seq in sequences2_batch]\n",
    "            targets_batch = targets_batch.to('cuda')\n",
    "            \n",
    "            outputs = model_order(sequences1_batch, sequences2_batch)\n",
    "            loss = criterion(outputs, targets_batch)\n",
    "            validation_loss += loss.item()\n",
    "    \n",
    "    avg_validation_loss = validation_loss / len(validation_dataloader)\n",
    "    \n",
    "    # Registrar as métricas de validação por época (opcional)\n",
    "    writer.add_scalar('Perda_Validação_Epoca', avg_validation_loss, epoch+1)\n",
    "    \n",
    "    # Atualizar a descrição da barra com as perdas atuais\n",
    "    epoch_progress.set_postfix({'Perda Treinamento': f'{avg_train_loss:.4f}', \n",
    "                                 'Perda Validação': f'{avg_validation_loss:.4f}'})\n",
    "    \n",
    "    # Exibir as métricas no console\n",
    "    tqdm.write(f'Época {epoch+1}/{num_epochs}, Perda Treinamento: {avg_train_loss:.4f}, Perda Validação: {avg_validation_loss:.4f}')\n",
    "\n",
    "# Fechar o SummaryWriter ao final do treinamento\n",
    "writer.close()"
   ]
  },
  {
   "cell_type": "code",
   "execution_count": 15,
   "metadata": {},
   "outputs": [],
   "source": [
    "# Fechar a conexão com o banco de dados\n",
    "conn.close()"
   ]
  }
 ],
 "metadata": {
  "kernelspec": {
   "display_name": "base",
   "language": "python",
   "name": "python3"
  },
  "language_info": {
   "codemirror_mode": {
    "name": "ipython",
    "version": 3
   },
   "file_extension": ".py",
   "mimetype": "text/x-python",
   "name": "python",
   "nbconvert_exporter": "python",
   "pygments_lexer": "ipython3",
   "version": "3.12.2"
  }
 },
 "nbformat": 4,
 "nbformat_minor": 2
}
