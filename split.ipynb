{
 "cells": [
  {
   "cell_type": "code",
   "execution_count": 1,
   "metadata": {},
   "outputs": [],
   "source": [
    "from transformers import AutoTokenizer\n",
    "\n",
    "tokenizer = AutoTokenizer.from_pretrained(\"unsloth/Llama-3.2-1B\", legacy=False)"
   ]
  },
  {
   "cell_type": "code",
   "execution_count": 2,
   "metadata": {},
   "outputs": [],
   "source": [
    "from langchain.text_splitter import RecursiveCharacterTextSplitter\n",
    "\n",
    "def length_function(text: str) -> int:\n",
    "    return len(tokenizer(text)['input_ids'])"
   ]
  },
  {
   "cell_type": "code",
   "execution_count": 11,
   "metadata": {},
   "outputs": [],
   "source": [
    "def splitter_length(text: str, name: str, use_tqdm: bool = True):\n",
    "    sizes_length = [16, 32, 64, 128, 256, 512, 1024]\n",
    "    \n",
    "    for size in sizes_length:\n",
    "        overlap = int(size / 5)\n",
    "        splitter = RecursiveCharacterTextSplitter(\n",
    "            chunk_size=size, \n",
    "            chunk_overlap=overlap,\n",
    "            length_function=length_function,\n",
    "        )\n",
    "\n",
    "        splits = splitter.split_text(text)\n",
    "        splits = [split for split in splits if len(split) > 1]  # Filtra splits com tamanho > 1\n",
    "\n",
    "        if use_tqdm:\n",
    "            iterator = tqdm(splits, desc=f\"Processando chunks de tamanho {size}\")\n",
    "        else:\n",
    "            iterator = splits\n",
    "\n",
    "        inserts = []\n",
    "        last_found = 0  # Rastro da posição atual no texto\n",
    "\n",
    "        for split in iterator:\n",
    "            # Ajusta a posição de busca para incluir a sobreposição\n",
    "            search_start = max(last_found - overlap, 0)\n",
    "            indice = text.find(split, search_start)\n",
    "            \n",
    "            if indice == -1:\n",
    "                # Se não encontrado a partir de search_start, tenta buscar globalmente\n",
    "                indice = text.find(split)\n",
    "                if indice == -1:\n",
    "                    print(f\"Split não encontrado: {split[:30]}...\")\n",
    "                    continue\n",
    "\n",
    "            inserts.append((split, indice, name))\n",
    "            # Atualiza a posição atual levando em conta a sobreposição\n",
    "            last_found = indice + len(split) - overlap\n",
    "\n",
    "        # Insere os dados em lote no banco de dados\n",
    "        if inserts:\n",
    "            try:\n",
    "                conn.executemany(\"\"\"\n",
    "                    INSERT INTO dataset (content, indice, name)\n",
    "                    VALUES (?, ?, ?)\n",
    "                \"\"\", inserts)\n",
    "                conn.commit()\n",
    "            except Exception as e:\n",
    "                print(f\"Erro ao inserir dados no DuckDB: {e}\")"
   ]
  },
  {
   "cell_type": "code",
   "execution_count": 3,
   "metadata": {},
   "outputs": [],
   "source": [
    "import numpy as np\n",
    "\n",
    "def signed_log_transform(y):\n",
    "    return np.sign(y) * np.log1p(np.abs(y))\n",
    "\n",
    "def inverse_signed_log_transform(y_transformed):\n",
    "    return np.sign(y_transformed) * (np.expm1(np.abs(y_transformed)))\n",
    "\n",
    "def dissimilaridade(S):\n",
    "\tepsilon = 0\n",
    "\tif S == 0:\n",
    "\t\tmax_x = np.log(np.finfo(np.float32).max)\n",
    "\t\tepsilon = (1/(max_x-1))\n",
    "        \n",
    "\treturn (1 - (S+epsilon)) / (S+epsilon)"
   ]
  },
  {
   "cell_type": "code",
   "execution_count": 4,
   "metadata": {},
   "outputs": [],
   "source": [
    "import html2text\n",
    "from cleantext import clean\n",
    "\n",
    "# Configurar o conversor\n",
    "converter = html2text.HTML2Text()\n",
    "converter.ignore_links = True\n",
    "converter.ignore_images = True\n",
    "converter.ignore_tables = True\n",
    "\n",
    "def cleartext(decoded_html):\n",
    "\ttexto_limpo = converter.handle(decoded_html)\n",
    "\ttexto_limpo = clean(\n",
    "\t\ttexto_limpo,\n",
    "\t\tfix_unicode=True,\n",
    "\t\tto_ascii=False,\n",
    "\t\tlower=False,\n",
    "\t\tno_line_breaks=True,\n",
    "\t\tno_urls=True,\n",
    "\t\tno_emails=True,\n",
    "\t\tno_phone_numbers=True,\n",
    "\t\tno_numbers=False,\n",
    "\t\tno_digits=False,\n",
    "\t\tno_currency_symbols=True,\n",
    "\t\tno_punct=False,  # Defina como True se quiser remover pontuação\n",
    "\t\treplace_with_punct=\"\",\n",
    "\t\treplace_with_url=\"\",\n",
    "\t\treplace_with_email=\"\",\n",
    "\t\treplace_with_phone_number=\"\",\n",
    "\t\treplace_with_number=\"\",\n",
    "\t\treplace_with_digit=\"\",\n",
    "\t\treplace_with_currency_symbol=\"\"\n",
    "\t)\n",
    "\n",
    "\treturn texto_limpo"
   ]
  },
  {
   "cell_type": "code",
   "execution_count": 1,
   "metadata": {},
   "outputs": [],
   "source": [
    "import duckdb\n",
    "from tqdm import tqdm\n",
    "\n",
    "# Conectar ou criar o banco de dados DuckDB\n",
    "conn = duckdb.connect('books.duckdb')"
   ]
  },
  {
   "cell_type": "code",
   "execution_count": 6,
   "metadata": {},
   "outputs": [
    {
     "data": {
      "text/plain": [
       "<duckdb.duckdb.DuckDBPyConnection at 0x7489f8bcb630>"
      ]
     },
     "execution_count": 6,
     "metadata": {},
     "output_type": "execute_result"
    }
   ],
   "source": [
    "# Criar a tabela de e-mails se não existir\n",
    "conn.execute(\"\"\"\n",
    "CREATE SEQUENCE IF NOT EXISTS serial;\n",
    "             \n",
    "CREATE TABLE IF NOT EXISTS dataset (\n",
    "    id INTEGER DEFAULT nextval('serial'),\n",
    "    name VARCHAR(255),\n",
    "    content TEXT,\n",
    "    indice INTEGER\n",
    ")\n",
    "\"\"\")"
   ]
  },
  {
   "cell_type": "code",
   "execution_count": 7,
   "metadata": {},
   "outputs": [
    {
     "name": "stdout",
     "output_type": "stream",
     "text": [
      "./books/Unknown - ana rosa.txt\n"
     ]
    },
    {
     "name": "stderr",
     "output_type": "stream",
     "text": [
      "Processando chunks de tamanho 16: 100%|██████████| 16019/16019 [00:42<00:00, 376.05it/s]\n",
      "Processando chunks de tamanho 32: 100%|██████████| 7952/7952 [00:48<00:00, 163.56it/s]\n",
      "Processando chunks de tamanho 64: 100%|██████████| 3956/3956 [00:05<00:00, 788.20it/s]\n",
      "Processando chunks de tamanho 128: 100%|██████████| 1997/1997 [00:04<00:00, 458.78it/s]\n",
      "Processando chunks de tamanho 256: 100%|██████████| 1004/1004 [00:02<00:00, 499.09it/s]\n",
      "Processando chunks de tamanho 512: 100%|██████████| 502/502 [00:00<00:00, 780.78it/s]\n",
      "Processando chunks de tamanho 1024: 100%|██████████| 251/251 [00:00<00:00, 798.05it/s]\n"
     ]
    },
    {
     "name": "stdout",
     "output_type": "stream",
     "text": [
      "./books/Ao Seu Lado - Kasie West.txt\n"
     ]
    },
    {
     "name": "stderr",
     "output_type": "stream",
     "text": [
      "Processando chunks de tamanho 16: 100%|██████████| 18661/18661 [01:11<00:00, 260.48it/s]\n",
      "Processando chunks de tamanho 32: 100%|██████████| 9238/9238 [00:17<00:00, 537.61it/s]\n",
      "Processando chunks de tamanho 64: 100%|██████████| 4601/4601 [00:10<00:00, 419.01it/s]\n",
      "Processando chunks de tamanho 128: 100%|██████████| 2322/2322 [00:07<00:00, 321.76it/s]\n",
      "Processando chunks de tamanho 256: 100%|██████████| 1167/1167 [00:01<00:00, 711.42it/s]\n",
      "Processando chunks de tamanho 512: 100%|██████████| 584/584 [00:05<00:00, 98.29it/s] \n",
      "Processando chunks de tamanho 1024: 100%|██████████| 292/292 [00:03<00:00, 78.88it/s] \n"
     ]
    },
    {
     "name": "stdout",
     "output_type": "stream",
     "text": [
      "./books/Amor em Roma - Sarah Adams.txt\n"
     ]
    },
    {
     "name": "stderr",
     "output_type": "stream",
     "text": [
      "Processando chunks de tamanho 16: 100%|██████████| 26844/26844 [01:19<00:00, 336.28it/s]\n",
      "Processando chunks de tamanho 32: 100%|██████████| 13283/13283 [00:53<00:00, 250.04it/s]\n",
      "Processando chunks de tamanho 64: 100%|██████████| 6593/6593 [00:18<00:00, 354.29it/s]\n",
      "Processando chunks de tamanho 128: 100%|██████████| 3328/3328 [00:06<00:00, 497.73it/s]\n",
      "Processando chunks de tamanho 256: 100%|██████████| 1673/1673 [00:04<00:00, 365.09it/s]\n",
      "Processando chunks de tamanho 512: 100%|██████████| 836/836 [00:01<00:00, 788.03it/s]\n",
      "Processando chunks de tamanho 1024: 100%|██████████| 418/418 [00:00<00:00, 801.54it/s]\n"
     ]
    },
    {
     "name": "stdout",
     "output_type": "stream",
     "text": [
      "./books/The Rule Book - Sarah Adams.txt\n"
     ]
    },
    {
     "name": "stderr",
     "output_type": "stream",
     "text": [
      "Processando chunks de tamanho 16: 100%|██████████| 27169/27169 [01:29<00:00, 302.79it/s]\n",
      "Processando chunks de tamanho 32: 100%|██████████| 13314/13314 [00:31<00:00, 422.07it/s]\n",
      "Processando chunks de tamanho 64: 100%|██████████| 6600/6600 [00:13<00:00, 474.01it/s]\n",
      "Processando chunks de tamanho 128: 100%|██████████| 3318/3318 [00:11<00:00, 295.46it/s]\n",
      "Processando chunks de tamanho 256: 100%|██████████| 1667/1667 [00:05<00:00, 315.84it/s]\n",
      "Processando chunks de tamanho 512: 100%|██████████| 834/834 [00:07<00:00, 105.54it/s]\n",
      "Processando chunks de tamanho 1024: 100%|██████████| 417/417 [00:04<00:00, 91.41it/s] \n"
     ]
    },
    {
     "name": "stdout",
     "output_type": "stream",
     "text": [
      "./books/Marriage for One - Ella Maise.txt\n"
     ]
    },
    {
     "name": "stderr",
     "output_type": "stream",
     "text": [
      "Processando chunks de tamanho 16: 100%|██████████| 39144/39144 [01:51<00:00, 350.34it/s]\n",
      "Processando chunks de tamanho 32: 100%|██████████| 19202/19202 [01:12<00:00, 266.26it/s]\n",
      "Processando chunks de tamanho 64: 100%|██████████| 9514/9514 [00:21<00:00, 432.90it/s]\n",
      "Processando chunks de tamanho 128: 100%|██████████| 4780/4780 [00:15<00:00, 299.59it/s]\n",
      "Processando chunks de tamanho 256: 100%|██████████| 2401/2401 [00:04<00:00, 542.46it/s]\n",
      "Processando chunks de tamanho 512: 100%|██████████| 1201/1201 [00:11<00:00, 102.88it/s]\n",
      "Processando chunks de tamanho 1024: 100%|██████████| 600/600 [00:07<00:00, 80.89it/s] \n"
     ]
    },
    {
     "name": "stdout",
     "output_type": "stream",
     "text": [
      "./books/The Worst Best Man - Mia Sosa.txt\n"
     ]
    },
    {
     "name": "stderr",
     "output_type": "stream",
     "text": [
      "Processando chunks de tamanho 16: 100%|██████████| 25066/25066 [01:04<00:00, 386.36it/s]\n",
      "Processando chunks de tamanho 32: 100%|██████████| 12315/12315 [00:33<00:00, 367.77it/s]\n",
      "Processando chunks de tamanho 64: 100%|██████████| 6103/6103 [00:47<00:00, 129.75it/s]\n",
      "Processando chunks de tamanho 128: 100%|██████████| 3073/3073 [00:04<00:00, 743.88it/s]\n",
      "Processando chunks de tamanho 256: 100%|██████████| 1543/1543 [00:01<00:00, 802.32it/s]\n",
      "Processando chunks de tamanho 512: 100%|██████████| 772/772 [00:01<00:00, 444.26it/s]\n",
      "Processando chunks de tamanho 1024: 100%|██████████| 386/386 [00:00<00:00, 725.10it/s]\n"
     ]
    },
    {
     "name": "stdout",
     "output_type": "stream",
     "text": [
      "./books/Para sempre seu - Abby Jimenez.txt\n"
     ]
    },
    {
     "name": "stderr",
     "output_type": "stream",
     "text": [
      "Processando chunks de tamanho 16: 100%|██████████| 31401/31401 [01:51<00:00, 282.73it/s]\n",
      "Processando chunks de tamanho 32: 100%|██████████| 15568/15568 [00:35<00:00, 444.32it/s]\n",
      "Processando chunks de tamanho 64: 100%|██████████| 7741/7741 [00:21<00:00, 360.41it/s]\n",
      "Processando chunks de tamanho 128: 100%|██████████| 3909/3909 [00:13<00:00, 290.54it/s]\n",
      "Processando chunks de tamanho 256: 100%|██████████| 1964/1964 [00:22<00:00, 88.90it/s] \n",
      "Processando chunks de tamanho 512: 100%|██████████| 982/982 [00:14<00:00, 66.28it/s]\n",
      "Processando chunks de tamanho 1024: 100%|██████████| 491/491 [00:00<00:00, 794.21it/s]\n"
     ]
    },
    {
     "name": "stdout",
     "output_type": "stream",
     "text": [
      "./books/O efeito Graham - Elle Kennedy.txt\n"
     ]
    },
    {
     "name": "stderr",
     "output_type": "stream",
     "text": [
      "Processando chunks de tamanho 16: 100%|██████████| 43178/43178 [02:14<00:00, 320.90it/s]\n",
      "Processando chunks de tamanho 32: 100%|██████████| 21425/21425 [00:44<00:00, 479.55it/s]\n",
      "Processando chunks de tamanho 64: 100%|██████████| 10636/10636 [00:24<00:00, 428.95it/s]\n",
      "Processando chunks de tamanho 128: 100%|██████████| 5372/5372 [00:11<00:00, 473.92it/s]\n",
      "Processando chunks de tamanho 256: 100%|██████████| 2699/2699 [00:37<00:00, 72.29it/s]\n",
      "Processando chunks de tamanho 512: 100%|██████████| 1350/1350 [00:02<00:00, 471.30it/s]\n",
      "Processando chunks de tamanho 1024: 100%|██████████| 675/675 [00:00<00:00, 765.23it/s]\n"
     ]
    },
    {
     "name": "stdout",
     "output_type": "stream",
     "text": [
      "./books/Um feitico de amor - Kate Robb.txt\n"
     ]
    },
    {
     "name": "stderr",
     "output_type": "stream",
     "text": [
      "Processando chunks de tamanho 16: 100%|██████████| 27580/27580 [01:06<00:00, 416.51it/s]\n",
      "Processando chunks de tamanho 32: 100%|██████████| 13623/13623 [01:03<00:00, 216.12it/s]\n",
      "Processando chunks de tamanho 64: 100%|██████████| 6767/6767 [00:08<00:00, 818.20it/s]\n",
      "Processando chunks de tamanho 128: 100%|██████████| 3419/3419 [00:08<00:00, 422.65it/s]\n",
      "Processando chunks de tamanho 256: 100%|██████████| 1717/1717 [00:03<00:00, 562.68it/s]\n",
      "Processando chunks de tamanho 512: 100%|██████████| 859/859 [00:03<00:00, 266.22it/s]\n",
      "Processando chunks de tamanho 1024: 100%|██████████| 430/430 [00:00<00:00, 727.27it/s]\n"
     ]
    },
    {
     "name": "stdout",
     "output_type": "stream",
     "text": [
      "./books/Mais que Amigos - Lauren Layne.txt\n"
     ]
    },
    {
     "name": "stderr",
     "output_type": "stream",
     "text": [
      "Processando chunks de tamanho 16: 100%|██████████| 17845/17845 [00:47<00:00, 376.56it/s]\n",
      "Processando chunks de tamanho 32: 100%|██████████| 8866/8866 [00:49<00:00, 178.17it/s]\n",
      "Processando chunks de tamanho 64: 100%|██████████| 4396/4396 [00:06<00:00, 714.57it/s]\n",
      "Processando chunks de tamanho 128: 100%|██████████| 2224/2224 [00:07<00:00, 306.47it/s]\n",
      "Processando chunks de tamanho 256: 100%|██████████| 1117/1117 [00:01<00:00, 769.72it/s]\n",
      "Processando chunks de tamanho 512: 100%|██████████| 559/559 [00:00<00:00, 747.16it/s]\n",
      "Processando chunks de tamanho 1024: 100%|██████████| 279/279 [00:00<00:00, 678.65it/s]\n"
     ]
    },
    {
     "name": "stdout",
     "output_type": "stream",
     "text": [
      "./books/Operacao paixao - Carlie Walker.txt\n"
     ]
    },
    {
     "name": "stderr",
     "output_type": "stream",
     "text": [
      "Processando chunks de tamanho 16: 100%|██████████| 29836/29836 [01:56<00:00, 255.16it/s]\n",
      "Processando chunks de tamanho 32: 100%|██████████| 14749/14749 [00:39<00:00, 369.11it/s]\n",
      "Processando chunks de tamanho 64: 100%|██████████| 7334/7334 [00:17<00:00, 430.26it/s]\n",
      "Processando chunks de tamanho 128: 100%|██████████| 3705/3705 [00:12<00:00, 292.60it/s]\n",
      "Processando chunks de tamanho 256: 100%|██████████| 1862/1862 [00:06<00:00, 288.04it/s]\n",
      "Processando chunks de tamanho 512: 100%|██████████| 931/931 [00:01<00:00, 783.71it/s]\n",
      "Processando chunks de tamanho 1024: 100%|██████████| 465/465 [00:00<00:00, 797.01it/s]\n"
     ]
    },
    {
     "name": "stdout",
     "output_type": "stream",
     "text": [
      "./books/Os numeros do amor - Helen Hoang.txt\n"
     ]
    },
    {
     "name": "stderr",
     "output_type": "stream",
     "text": [
      "Processando chunks de tamanho 16: 100%|██████████| 25538/25538 [01:27<00:00, 293.24it/s]\n",
      "Processando chunks de tamanho 32: 100%|██████████| 12649/12649 [00:21<00:00, 598.83it/s]\n",
      "Processando chunks de tamanho 64: 100%|██████████| 6299/6299 [00:16<00:00, 385.71it/s]\n",
      "Processando chunks de tamanho 128: 100%|██████████| 3184/3184 [00:06<00:00, 507.83it/s]\n",
      "Processando chunks de tamanho 256: 100%|██████████| 1600/1600 [00:05<00:00, 279.46it/s]\n",
      "Processando chunks de tamanho 512: 100%|██████████| 800/800 [00:02<00:00, 307.36it/s]\n",
      "Processando chunks de tamanho 1024: 100%|██████████| 400/400 [00:01<00:00, 322.60it/s]\n"
     ]
    },
    {
     "name": "stdout",
     "output_type": "stream",
     "text": [
      "./books/Missao Romance - Lyssa Kay Adams.txt\n"
     ]
    },
    {
     "name": "stderr",
     "output_type": "stream",
     "text": [
      "Processando chunks de tamanho 16: 100%|██████████| 24535/24535 [00:58<00:00, 420.15it/s]\n",
      "Processando chunks de tamanho 32: 100%|██████████| 12164/12164 [00:55<00:00, 220.97it/s]\n",
      "Processando chunks de tamanho 64: 100%|██████████| 6044/6044 [00:13<00:00, 463.42it/s]\n",
      "Processando chunks de tamanho 128: 100%|██████████| 3052/3052 [00:07<00:00, 392.51it/s]\n",
      "Processando chunks de tamanho 256: 100%|██████████| 1534/1534 [00:02<00:00, 512.42it/s]\n",
      "Processando chunks de tamanho 512: 100%|██████████| 767/767 [00:03<00:00, 196.02it/s]\n",
      "Processando chunks de tamanho 1024: 100%|██████████| 384/384 [00:00<00:00, 748.52it/s]\n"
     ]
    },
    {
     "name": "stdout",
     "output_type": "stream",
     "text": [
      "./books/Dez Dates Surpresa - Ashley Elston.txt\n"
     ]
    },
    {
     "name": "stderr",
     "output_type": "stream",
     "text": [
      "Processando chunks de tamanho 16: 100%|██████████| 21873/21873 [01:25<00:00, 255.57it/s]\n",
      "Processando chunks de tamanho 32: 100%|██████████| 10835/10835 [00:19<00:00, 568.78it/s]\n",
      "Processando chunks de tamanho 64: 100%|██████████| 5375/5375 [00:12<00:00, 436.24it/s]\n",
      "Processando chunks de tamanho 128: 100%|██████████| 2715/2715 [00:09<00:00, 298.78it/s]\n",
      "Processando chunks de tamanho 256: 100%|██████████| 1363/1363 [00:03<00:00, 424.18it/s]\n",
      "Processando chunks de tamanho 512: 100%|██████████| 682/682 [00:04<00:00, 157.66it/s]\n",
      "Processando chunks de tamanho 1024: 100%|██████████| 341/341 [00:00<00:00, 750.87it/s]\n"
     ]
    },
    {
     "name": "stdout",
     "output_type": "stream",
     "text": [
      "./books/Declinio de um homem - Osamu Dazai.txt\n"
     ]
    },
    {
     "name": "stderr",
     "output_type": "stream",
     "text": [
      "Processando chunks de tamanho 16: 100%|██████████| 9379/9379 [00:23<00:00, 404.84it/s]\n",
      "Processando chunks de tamanho 32: 100%|██████████| 4652/4652 [00:11<00:00, 405.53it/s]\n",
      "Processando chunks de tamanho 64: 100%|██████████| 2320/2320 [00:06<00:00, 386.44it/s]\n",
      "Processando chunks de tamanho 128: 100%|██████████| 1170/1170 [00:03<00:00, 371.40it/s]\n",
      "Processando chunks de tamanho 256: 100%|██████████| 588/588 [00:00<00:00, 763.05it/s]\n",
      "Processando chunks de tamanho 512: 100%|██████████| 294/294 [00:00<00:00, 752.52it/s]\n",
      "Processando chunks de tamanho 1024: 100%|██████████| 147/147 [00:00<00:00, 757.35it/s]\n"
     ]
    },
    {
     "name": "stdout",
     "output_type": "stream",
     "text": [
      "./books/O principio do coracao - Helen Hoang.txt\n"
     ]
    },
    {
     "name": "stderr",
     "output_type": "stream",
     "text": [
      "Processando chunks de tamanho 16: 100%|██████████| 26246/26246 [01:34<00:00, 278.17it/s]\n",
      "Processando chunks de tamanho 32: 100%|██████████| 13019/13019 [00:29<00:00, 440.96it/s]\n",
      "Processando chunks de tamanho 64: 100%|██████████| 6466/6466 [00:13<00:00, 467.37it/s]\n",
      "Processando chunks de tamanho 128: 100%|██████████| 3263/3263 [00:38<00:00, 84.03it/s] \n",
      "Processando chunks de tamanho 256: 100%|██████████| 1640/1640 [00:02<00:00, 619.83it/s]\n",
      "Processando chunks de tamanho 512: 100%|██████████| 820/820 [00:01<00:00, 793.47it/s]\n",
      "Processando chunks de tamanho 1024: 100%|██████████| 410/410 [00:00<00:00, 830.47it/s]\n"
     ]
    },
    {
     "name": "stdout",
     "output_type": "stream",
     "text": [
      "./books/The Trouble with Love - Lauren Layne.txt\n"
     ]
    },
    {
     "name": "stderr",
     "output_type": "stream",
     "text": [
      "Processando chunks de tamanho 16: 100%|██████████| 18065/18065 [00:41<00:00, 432.81it/s]\n",
      "Processando chunks de tamanho 32: 100%|██████████| 8884/8884 [00:18<00:00, 472.99it/s]\n",
      "Processando chunks de tamanho 64: 100%|██████████| 4402/4402 [00:10<00:00, 411.91it/s]\n",
      "Processando chunks de tamanho 128: 100%|██████████| 2214/2214 [00:08<00:00, 268.33it/s]\n",
      "Processando chunks de tamanho 256: 100%|██████████| 1112/1112 [00:10<00:00, 104.78it/s]\n",
      "Processando chunks de tamanho 512: 100%|██████████| 556/556 [00:05<00:00, 105.05it/s]\n",
      "Processando chunks de tamanho 1024: 100%|██████████| 278/278 [00:06<00:00, 44.44it/s]\n"
     ]
    },
    {
     "name": "stdout",
     "output_type": "stream",
     "text": [
      "./books/A cancao de Aquiles - Madeline Miller.txt\n"
     ]
    },
    {
     "name": "stderr",
     "output_type": "stream",
     "text": [
      "Processando chunks de tamanho 16: 100%|██████████| 30032/30032 [01:21<00:00, 370.29it/s]\n",
      "Processando chunks de tamanho 32: 100%|██████████| 14947/14947 [01:05<00:00, 229.61it/s]\n",
      "Processando chunks de tamanho 64: 100%|██████████| 7438/7438 [00:09<00:00, 781.86it/s]\n",
      "Processando chunks de tamanho 128: 100%|██████████| 3762/3762 [00:07<00:00, 472.13it/s]\n",
      "Processando chunks de tamanho 256: 100%|██████████| 1890/1890 [00:02<00:00, 818.20it/s]\n",
      "Processando chunks de tamanho 512: 100%|██████████| 945/945 [00:01<00:00, 813.78it/s]\n",
      "Processando chunks de tamanho 1024: 100%|██████████| 473/473 [00:01<00:00, 343.79it/s]\n"
     ]
    },
    {
     "name": "stdout",
     "output_type": "stream",
     "text": [
      "./books/O Crime do Padre Amaro - Eca de Queiros.txt\n"
     ]
    },
    {
     "name": "stderr",
     "output_type": "stream",
     "text": [
      "Processando chunks de tamanho 16: 100%|██████████| 42598/42598 [02:18<00:00, 307.84it/s] \n",
      "Processando chunks de tamanho 32: 100%|██████████| 21201/21201 [00:57<00:00, 366.74it/s]\n",
      "Processando chunks de tamanho 64: 100%|██████████| 10581/10581 [00:25<00:00, 408.46it/s]\n",
      "Processando chunks de tamanho 128: 100%|██████████| 5344/5344 [01:03<00:00, 84.56it/s] \n",
      "Processando chunks de tamanho 256: 100%|██████████| 2684/2684 [00:03<00:00, 784.18it/s]\n",
      "Processando chunks de tamanho 512: 100%|██████████| 1342/1342 [00:02<00:00, 654.71it/s]\n",
      "Processando chunks de tamanho 1024: 100%|██████████| 671/671 [00:00<00:00, 688.39it/s]\n"
     ]
    },
    {
     "name": "stdout",
     "output_type": "stream",
     "text": [
      "./books/Love the One You're With - Lauren Layne.txt\n"
     ]
    },
    {
     "name": "stderr",
     "output_type": "stream",
     "text": [
      "Processando chunks de tamanho 16: 100%|██████████| 20129/20129 [00:44<00:00, 449.19it/s]\n",
      "Processando chunks de tamanho 32: 100%|██████████| 9903/9903 [00:24<00:00, 396.64it/s]\n",
      "Processando chunks de tamanho 64: 100%|██████████| 4905/4905 [00:46<00:00, 104.49it/s]\n",
      "Processando chunks de tamanho 128: 100%|██████████| 2467/2467 [00:03<00:00, 785.18it/s]\n",
      "Processando chunks de tamanho 256: 100%|██████████| 1239/1239 [00:01<00:00, 778.66it/s]\n",
      "Processando chunks de tamanho 512: 100%|██████████| 620/620 [00:00<00:00, 715.68it/s]\n",
      "Processando chunks de tamanho 1024: 100%|██████████| 310/310 [00:00<00:00, 786.91it/s]\n"
     ]
    },
    {
     "name": "stdout",
     "output_type": "stream",
     "text": [
      "./books/Sozinha ou acompanhada_ - Mazey Eddings.txt\n"
     ]
    },
    {
     "name": "stderr",
     "output_type": "stream",
     "text": [
      "Processando chunks de tamanho 16: 100%|██████████| 26727/26727 [01:17<00:00, 346.01it/s]\n",
      "Processando chunks de tamanho 32: 100%|██████████| 13247/13247 [00:50<00:00, 260.88it/s]\n",
      "Processando chunks de tamanho 64: 100%|██████████| 6582/6582 [00:23<00:00, 284.49it/s]\n",
      "Processando chunks de tamanho 128: 100%|██████████| 3326/3326 [00:04<00:00, 830.35it/s]\n",
      "Processando chunks de tamanho 256: 100%|██████████| 1672/1672 [00:02<00:00, 802.59it/s]\n",
      "Processando chunks de tamanho 512: 100%|██████████| 836/836 [00:01<00:00, 511.58it/s]\n",
      "Processando chunks de tamanho 1024: 100%|██████████| 418/418 [00:01<00:00, 252.58it/s]\n"
     ]
    },
    {
     "name": "stdout",
     "output_type": "stream",
     "text": [
      "./books/Visoes de Descartes - Olavo de Carvalho.txt\n"
     ]
    },
    {
     "name": "stderr",
     "output_type": "stream",
     "text": [
      "Processando chunks de tamanho 16: 100%|██████████| 18171/18171 [01:19<00:00, 228.43it/s]\n",
      "Processando chunks de tamanho 32: 100%|██████████| 9008/9008 [00:13<00:00, 661.42it/s]\n",
      "Processando chunks de tamanho 64: 100%|██████████| 4488/4488 [00:09<00:00, 473.71it/s]\n",
      "Processando chunks de tamanho 128: 100%|██████████| 2264/2264 [00:05<00:00, 382.03it/s]\n",
      "Processando chunks de tamanho 256: 100%|██████████| 1138/1138 [00:02<00:00, 548.17it/s]\n",
      "Processando chunks de tamanho 512: 100%|██████████| 569/569 [00:01<00:00, 294.98it/s]\n",
      "Processando chunks de tamanho 1024: 100%|██████████| 285/285 [00:00<00:00, 288.91it/s]\n"
     ]
    },
    {
     "name": "stdout",
     "output_type": "stream",
     "text": [
      "./books/Clube do livro dos homens - Adams, Lyssa Kay.txt\n"
     ]
    },
    {
     "name": "stderr",
     "output_type": "stream",
     "text": [
      "Processando chunks de tamanho 16: 100%|██████████| 24260/24260 [01:30<00:00, 267.26it/s]\n",
      "Processando chunks de tamanho 32: 100%|██████████| 12048/12048 [00:26<00:00, 446.33it/s]\n",
      "Processando chunks de tamanho 64: 100%|██████████| 5988/5988 [00:12<00:00, 473.07it/s]\n",
      "Processando chunks de tamanho 128: 100%|██████████| 3025/3025 [00:09<00:00, 316.86it/s]\n",
      "Processando chunks de tamanho 256: 100%|██████████| 1521/1521 [00:02<00:00, 711.21it/s]\n",
      "Processando chunks de tamanho 512: 100%|██████████| 760/760 [00:02<00:00, 315.46it/s]\n",
      "Processando chunks de tamanho 1024: 100%|██████████| 380/380 [00:00<00:00, 647.92it/s]\n"
     ]
    },
    {
     "name": "stdout",
     "output_type": "stream",
     "text": [
      "./books/Uma farsa de amor na Espanha_ Conteudo Ext - Armas, Elena.txt\n"
     ]
    },
    {
     "name": "stderr",
     "output_type": "stream",
     "text": [
      "Processando chunks de tamanho 16: 100%|██████████| 2346/2346 [00:02<00:00, 808.78it/s]\n",
      "Processando chunks de tamanho 32: 100%|██████████| 1161/1161 [00:02<00:00, 462.62it/s]\n",
      "Processando chunks de tamanho 64: 100%|██████████| 580/580 [00:01<00:00, 355.46it/s]\n",
      "Processando chunks de tamanho 128: 100%|██████████| 292/292 [00:00<00:00, 331.21it/s]\n",
      "Processando chunks de tamanho 256: 100%|██████████| 147/147 [00:00<00:00, 316.90it/s]\n",
      "Processando chunks de tamanho 512: 100%|██████████| 74/74 [00:00<00:00, 304.08it/s]\n",
      "Processando chunks de tamanho 1024: 100%|██████████| 37/37 [00:00<00:00, 297.22it/s]\n"
     ]
    },
    {
     "name": "stdout",
     "output_type": "stream",
     "text": [
      "./books/Ed & Lorraine Warren - Lugar Sombrio - Carmen Reed.txt\n"
     ]
    },
    {
     "name": "stderr",
     "output_type": "stream",
     "text": [
      "Processando chunks de tamanho 16: 100%|██████████| 26614/26614 [01:35<00:00, 277.26it/s]\n",
      "Processando chunks de tamanho 32: 100%|██████████| 13220/13220 [00:35<00:00, 373.32it/s]\n",
      "Processando chunks de tamanho 64: 100%|██████████| 6580/6580 [00:46<00:00, 143.00it/s]\n",
      "Processando chunks de tamanho 128: 100%|██████████| 3324/3324 [00:04<00:00, 799.33it/s]\n",
      "Processando chunks de tamanho 256: 100%|██████████| 1669/1669 [00:02<00:00, 793.14it/s]\n",
      "Processando chunks de tamanho 512: 100%|██████████| 835/835 [00:01<00:00, 739.44it/s]\n",
      "Processando chunks de tamanho 1024: 100%|██████████| 417/417 [00:00<00:00, 785.00it/s]\n"
     ]
    },
    {
     "name": "stdout",
     "output_type": "stream",
     "text": [
      "./books/A longa marcha da vaca para o brejo_ E, lo - de Carvalho, Olavo.txt\n"
     ]
    },
    {
     "name": "stderr",
     "output_type": "stream",
     "text": [
      "Processando chunks de tamanho 16: 100%|██████████| 20961/20961 [00:55<00:00, 380.39it/s]\n",
      "Processando chunks de tamanho 32: 100%|██████████| 10447/10447 [00:32<00:00, 317.31it/s]\n",
      "Processando chunks de tamanho 64: 100%|██████████| 5200/5200 [00:28<00:00, 181.54it/s]\n",
      "Processando chunks de tamanho 128: 100%|██████████| 2624/2624 [00:04<00:00, 595.00it/s]\n",
      "Processando chunks de tamanho 256: 100%|██████████| 1319/1319 [00:01<00:00, 786.12it/s]\n",
      "Processando chunks de tamanho 512: 100%|██████████| 659/659 [00:00<00:00, 790.92it/s]\n",
      "Processando chunks de tamanho 1024: 100%|██████████| 330/330 [00:00<00:00, 807.86it/s]\n"
     ]
    },
    {
     "name": "stdout",
     "output_type": "stream",
     "text": [
      "./books/D__wwwroot_cleverpdf-web_4707484_Demonolog - Desconhecido.txt\n"
     ]
    },
    {
     "name": "stderr",
     "output_type": "stream",
     "text": [
      "Processando chunks de tamanho 16: 100%|██████████| 28032/28032 [01:09<00:00, 405.87it/s]\n",
      "Processando chunks de tamanho 32: 100%|██████████| 13931/13931 [00:56<00:00, 244.68it/s]\n",
      "Processando chunks de tamanho 64: 100%|██████████| 6932/6932 [00:25<00:00, 274.82it/s]\n",
      "Processando chunks de tamanho 128: 100%|██████████| 3504/3504 [00:04<00:00, 765.32it/s]\n",
      "Processando chunks de tamanho 256: 100%|██████████| 1759/1759 [00:02<00:00, 799.64it/s]\n",
      "Processando chunks de tamanho 512: 100%|██████████| 880/880 [00:02<00:00, 322.97it/s]\n",
      "Processando chunks de tamanho 1024: 100%|██████████| 440/440 [00:00<00:00, 668.89it/s]\n"
     ]
    },
    {
     "name": "stdout",
     "output_type": "stream",
     "text": [
      "./books/The American Roommate Experiment_ A Novel - Elena Armas.txt\n"
     ]
    },
    {
     "name": "stderr",
     "output_type": "stream",
     "text": [
      "Processando chunks de tamanho 16: 100%|██████████| 31764/31764 [01:47<00:00, 295.62it/s]\n",
      "Processando chunks de tamanho 32: 100%|██████████| 15618/15618 [00:46<00:00, 334.58it/s]\n",
      "Processando chunks de tamanho 64: 100%|██████████| 7735/7735 [00:47<00:00, 163.76it/s]\n",
      "Processando chunks de tamanho 128: 100%|██████████| 3892/3892 [00:05<00:00, 726.37it/s]\n",
      "Processando chunks de tamanho 256: 100%|██████████| 1956/1956 [00:05<00:00, 331.10it/s]\n",
      "Processando chunks de tamanho 512: 100%|██████████| 978/978 [00:01<00:00, 767.49it/s]\n",
      "Processando chunks de tamanho 1024: 100%|██████████| 489/489 [00:00<00:00, 726.77it/s]\n"
     ]
    },
    {
     "name": "stdout",
     "output_type": "stream",
     "text": [
      "./books/I Think I Love You_ An Exciting New Romanc - Lauren Layne.txt\n"
     ]
    },
    {
     "name": "stderr",
     "output_type": "stream",
     "text": [
      "Processando chunks de tamanho 16: 100%|██████████| 18054/18054 [00:50<00:00, 356.09it/s]\n",
      "Processando chunks de tamanho 32: 100%|██████████| 8948/8948 [00:51<00:00, 172.55it/s]\n",
      "Processando chunks de tamanho 64: 100%|██████████| 4441/4441 [00:05<00:00, 789.64it/s]\n",
      "Processando chunks de tamanho 128: 100%|██████████| 2245/2245 [00:02<00:00, 825.26it/s]\n",
      "Processando chunks de tamanho 256: 100%|██████████| 1128/1128 [00:01<00:00, 838.07it/s]\n",
      "Processando chunks de tamanho 512: 100%|██████████| 564/564 [00:00<00:00, 694.86it/s]\n",
      "Processando chunks de tamanho 1024: 100%|██████████| 282/282 [00:00<00:00, 843.75it/s]\n"
     ]
    },
    {
     "name": "stdout",
     "output_type": "stream",
     "text": [
      "./books/Just One Night_ Sex, Love & Stiletto Serie - Lauren Layne.txt\n"
     ]
    },
    {
     "name": "stderr",
     "output_type": "stream",
     "text": [
      "Processando chunks de tamanho 16: 100%|██████████| 18950/18950 [00:45<00:00, 412.35it/s]\n",
      "Processando chunks de tamanho 32: 100%|██████████| 9300/9300 [00:22<00:00, 421.05it/s]\n",
      "Processando chunks de tamanho 64: 100%|██████████| 4610/4610 [00:44<00:00, 104.59it/s]\n",
      "Processando chunks de tamanho 128: 100%|██████████| 2318/2318 [00:02<00:00, 826.15it/s]\n",
      "Processando chunks de tamanho 256: 100%|██████████| 1165/1165 [00:02<00:00, 519.44it/s]\n",
      "Processando chunks de tamanho 512: 100%|██████████| 582/582 [00:00<00:00, 836.65it/s]\n",
      "Processando chunks de tamanho 1024: 100%|██████████| 291/291 [00:00<00:00, 816.80it/s]\n"
     ]
    },
    {
     "name": "stdout",
     "output_type": "stream",
     "text": [
      "./books/Estupidamente apaixonados - Lyssa Kay Adams.txt\n"
     ]
    },
    {
     "name": "stderr",
     "output_type": "stream",
     "text": [
      "Processando chunks de tamanho 16: 100%|██████████| 25588/25588 [01:06<00:00, 385.32it/s]\n",
      "Processando chunks de tamanho 32: 100%|██████████| 12682/12682 [00:57<00:00, 221.69it/s]\n",
      "Processando chunks de tamanho 64: 100%|██████████| 6308/6308 [00:07<00:00, 816.40it/s]\n",
      "Processando chunks de tamanho 128: 100%|██████████| 3188/3188 [00:03<00:00, 821.10it/s]\n",
      "Processando chunks de tamanho 256: 100%|██████████| 1601/1601 [00:04<00:00, 323.04it/s]\n",
      "Processando chunks de tamanho 512: 100%|██████████| 801/801 [00:01<00:00, 577.89it/s]\n",
      "Processando chunks de tamanho 1024: 100%|██████████| 400/400 [00:00<00:00, 828.73it/s]\n"
     ]
    },
    {
     "name": "stdout",
     "output_type": "stream",
     "text": [
      "./books/Aristoteles em nova perspectiva - Olavo de Carvalho.txt\n"
     ]
    },
    {
     "name": "stderr",
     "output_type": "stream",
     "text": [
      "Processando chunks de tamanho 16: 100%|██████████| 10677/10677 [00:24<00:00, 439.98it/s]\n",
      "Processando chunks de tamanho 32: 100%|██████████| 5283/5283 [00:14<00:00, 375.65it/s]\n",
      "Processando chunks de tamanho 64: 100%|██████████| 2633/2633 [00:07<00:00, 356.58it/s]\n",
      "Processando chunks de tamanho 128: 100%|██████████| 1328/1328 [00:02<00:00, 506.04it/s]\n",
      "Processando chunks de tamanho 256: 100%|██████████| 668/668 [00:02<00:00, 302.23it/s]\n",
      "Processando chunks de tamanho 512: 100%|██████████| 334/334 [00:01<00:00, 268.62it/s]\n",
      "Processando chunks de tamanho 1024: 100%|██████████| 167/167 [00:00<00:00, 289.94it/s]\n"
     ]
    },
    {
     "name": "stdout",
     "output_type": "stream",
     "text": [
      "./books/O imbecil coletivo _ Atualidades incultura - Olavo de Carvalho.txt\n"
     ]
    },
    {
     "name": "stderr",
     "output_type": "stream",
     "text": [
      "Processando chunks de tamanho 16: 100%|██████████| 43342/43342 [02:14<00:00, 322.63it/s]\n",
      "Processando chunks de tamanho 32: 100%|██████████| 21555/21555 [01:20<00:00, 267.14it/s]\n",
      "Processando chunks de tamanho 64: 100%|██████████| 10738/10738 [00:24<00:00, 446.65it/s]\n",
      "Processando chunks de tamanho 128: 100%|██████████| 5422/5422 [00:15<00:00, 354.58it/s]\n",
      "Processando chunks de tamanho 256: 100%|██████████| 2724/2724 [00:03<00:00, 792.14it/s]\n",
      "Processando chunks de tamanho 512: 100%|██████████| 1362/1362 [00:03<00:00, 353.03it/s]\n",
      "Processando chunks de tamanho 1024: 100%|██████████| 681/681 [00:00<00:00, 692.41it/s]\n"
     ]
    },
    {
     "name": "stdout",
     "output_type": "stream",
     "text": [
      "./books/O jardim das Aflicoes_ de Epicuro a ressur - Olavo de Carvalho.txt\n"
     ]
    },
    {
     "name": "stderr",
     "output_type": "stream",
     "text": [
      "Processando chunks de tamanho 16: 100%|██████████| 41060/41060 [02:03<00:00, 333.55it/s]\n",
      "Processando chunks de tamanho 32: 100%|██████████| 20423/20423 [00:53<00:00, 382.82it/s]\n",
      "Processando chunks de tamanho 64: 100%|██████████| 10170/10170 [00:32<00:00, 312.05it/s]\n",
      "Processando chunks de tamanho 128: 100%|██████████| 5138/5138 [00:28<00:00, 181.23it/s]\n",
      "Processando chunks de tamanho 256: 100%|██████████| 2581/2581 [00:03<00:00, 775.63it/s]\n",
      "Processando chunks de tamanho 512: 100%|██████████| 1291/1291 [00:01<00:00, 806.16it/s]\n",
      "Processando chunks de tamanho 1024: 100%|██████████| 645/645 [00:00<00:00, 762.10it/s]\n"
     ]
    },
    {
     "name": "stdout",
     "output_type": "stream",
     "text": [
      "./books/O minimo que voce precisa saber para nao s - Olavo de Carvalho.txt\n"
     ]
    },
    {
     "name": "stderr",
     "output_type": "stream",
     "text": [
      "Processando chunks de tamanho 16: 100%|██████████| 69286/69286 [03:22<00:00, 341.94it/s]\n",
      "Processando chunks de tamanho 32: 100%|██████████| 34315/34315 [01:24<00:00, 408.20it/s]\n",
      "Processando chunks de tamanho 64: 100%|██████████| 17060/17060 [01:03<00:00, 267.21it/s]\n",
      "Processando chunks de tamanho 128: 100%|██████████| 8616/8616 [00:19<00:00, 431.60it/s]\n",
      "Processando chunks de tamanho 256: 100%|██████████| 4330/4330 [00:09<00:00, 448.04it/s]\n",
      "Processando chunks de tamanho 512: 100%|██████████| 2165/2165 [00:03<00:00, 665.74it/s]\n",
      "Processando chunks de tamanho 1024: 100%|██████████| 1083/1083 [00:02<00:00, 362.56it/s]\n"
     ]
    },
    {
     "name": "stdout",
     "output_type": "stream",
     "text": [
      "./books/Biblia Sagrada Nova Almeida Atualizada - Sociedade Biblica do Brasil.txt\n"
     ]
    },
    {
     "name": "stderr",
     "output_type": "stream",
     "text": [
      "Processando chunks de tamanho 16: 100%|██████████| 240436/240436 [14:31<00:00, 276.04it/s] \n",
      "Processando chunks de tamanho 32: 100%|██████████| 117950/117950 [06:53<00:00, 285.06it/s]\n",
      "Processando chunks de tamanho 64: 100%|██████████| 58952/58952 [03:10<00:00, 309.80it/s]\n",
      "Processando chunks de tamanho 128: 100%|██████████| 29765/29765 [01:18<00:00, 379.18it/s]\n",
      "Processando chunks de tamanho 256: 100%|██████████| 14957/14957 [00:33<00:00, 442.73it/s]\n",
      "Processando chunks de tamanho 512: 100%|██████████| 7477/7477 [00:16<00:00, 457.99it/s]\n",
      "Processando chunks de tamanho 1024: 100%|██████████| 3739/3739 [00:06<00:00, 545.38it/s]\n"
     ]
    }
   ],
   "source": [
    "import os\n",
    "\n",
    "for f in os.listdir('./books'):\n",
    "\tif os.path.isfile(os.path.join('./books', f)):\n",
    "\t\twith open(os.path.join('./books', f), 'r', encoding='utf-8') as file:\n",
    "\t\t\tprint(os.path.join('./books', f))\n",
    "\t\t\tsplitter_length(cleartext(file.read()),f)"
   ]
  },
  {
   "cell_type": "code",
   "execution_count": 14,
   "metadata": {},
   "outputs": [
    {
     "data": {
      "text/html": [
       "<div>\n",
       "<style scoped>\n",
       "    .dataframe tbody tr th:only-of-type {\n",
       "        vertical-align: middle;\n",
       "    }\n",
       "\n",
       "    .dataframe tbody tr th {\n",
       "        vertical-align: top;\n",
       "    }\n",
       "\n",
       "    .dataframe thead th {\n",
       "        text-align: right;\n",
       "    }\n",
       "</style>\n",
       "<table border=\"1\" class=\"dataframe\">\n",
       "  <thead>\n",
       "    <tr style=\"text-align: right;\">\n",
       "      <th></th>\n",
       "      <th>id</th>\n",
       "      <th>title</th>\n",
       "      <th>context</th>\n",
       "      <th>question</th>\n",
       "      <th>answers</th>\n",
       "      <th>answer_text</th>\n",
       "      <th>text</th>\n",
       "    </tr>\n",
       "  </thead>\n",
       "  <tbody>\n",
       "    <tr>\n",
       "      <th>0</th>\n",
       "      <td>56be85543aeaaa14008c9063</td>\n",
       "      <td>Beyoncé</td>\n",
       "      <td>Beyoncé Giselle Knowles-Carter (/biːˈjɒnseɪ/ b...</td>\n",
       "      <td>When did Beyonce start becoming popular?</td>\n",
       "      <td>{'text': ['in the late 1990s'], 'answer_start'...</td>\n",
       "      <td>in the late 1990s</td>\n",
       "      <td>Beyoncé Giselle Knowles-Carter (/biːˈjɒnseɪ/ b...</td>\n",
       "    </tr>\n",
       "    <tr>\n",
       "      <th>1</th>\n",
       "      <td>56be85543aeaaa14008c9065</td>\n",
       "      <td>Beyoncé</td>\n",
       "      <td>Beyoncé Giselle Knowles-Carter (/biːˈjɒnseɪ/ b...</td>\n",
       "      <td>What areas did Beyonce compete in when she was...</td>\n",
       "      <td>{'text': ['singing and dancing'], 'answer_star...</td>\n",
       "      <td>singing and dancing</td>\n",
       "      <td>Beyoncé Giselle Knowles-Carter (/biːˈjɒnseɪ/ b...</td>\n",
       "    </tr>\n",
       "    <tr>\n",
       "      <th>2</th>\n",
       "      <td>56be85543aeaaa14008c9066</td>\n",
       "      <td>Beyoncé</td>\n",
       "      <td>Beyoncé Giselle Knowles-Carter (/biːˈjɒnseɪ/ b...</td>\n",
       "      <td>When did Beyonce leave Destiny's Child and bec...</td>\n",
       "      <td>{'text': ['2003'], 'answer_start': [526]}</td>\n",
       "      <td>2003</td>\n",
       "      <td>Beyoncé Giselle Knowles-Carter (/biːˈjɒnseɪ/ b...</td>\n",
       "    </tr>\n",
       "    <tr>\n",
       "      <th>3</th>\n",
       "      <td>56bf6b0f3aeaaa14008c9601</td>\n",
       "      <td>Beyoncé</td>\n",
       "      <td>Beyoncé Giselle Knowles-Carter (/biːˈjɒnseɪ/ b...</td>\n",
       "      <td>In what city and state did Beyonce  grow up?</td>\n",
       "      <td>{'text': ['Houston, Texas'], 'answer_start': [...</td>\n",
       "      <td>Houston, Texas</td>\n",
       "      <td>Beyoncé Giselle Knowles-Carter (/biːˈjɒnseɪ/ b...</td>\n",
       "    </tr>\n",
       "    <tr>\n",
       "      <th>4</th>\n",
       "      <td>56bf6b0f3aeaaa14008c9602</td>\n",
       "      <td>Beyoncé</td>\n",
       "      <td>Beyoncé Giselle Knowles-Carter (/biːˈjɒnseɪ/ b...</td>\n",
       "      <td>In which decade did Beyonce become famous?</td>\n",
       "      <td>{'text': ['late 1990s'], 'answer_start': [276]}</td>\n",
       "      <td>late 1990s</td>\n",
       "      <td>Beyoncé Giselle Knowles-Carter (/biːˈjɒnseɪ/ b...</td>\n",
       "    </tr>\n",
       "    <tr>\n",
       "      <th>...</th>\n",
       "      <td>...</td>\n",
       "      <td>...</td>\n",
       "      <td>...</td>\n",
       "      <td>...</td>\n",
       "      <td>...</td>\n",
       "      <td>...</td>\n",
       "      <td>...</td>\n",
       "    </tr>\n",
       "    <tr>\n",
       "      <th>142187</th>\n",
       "      <td>5737aafd1c456719005744ff</td>\n",
       "      <td>Force</td>\n",
       "      <td>The pound-force has a metric counterpart, less...</td>\n",
       "      <td>What is the seldom used force unit equal to on...</td>\n",
       "      <td>{'text': ['sthène', 'sthène', 'sthène', 'sthèn...</td>\n",
       "      <td>sthène</td>\n",
       "      <td>The pound-force has a metric counterpart, less...</td>\n",
       "    </tr>\n",
       "    <tr>\n",
       "      <th>142188</th>\n",
       "      <td>5ad28ad0d7d075001a4299cc</td>\n",
       "      <td>Force</td>\n",
       "      <td>The pound-force has a metric counterpart, less...</td>\n",
       "      <td>What does not have a metric counterpart?</td>\n",
       "      <td>{'text': [], 'answer_start': []}</td>\n",
       "      <td></td>\n",
       "      <td>The pound-force has a metric counterpart, less...</td>\n",
       "    </tr>\n",
       "    <tr>\n",
       "      <th>142189</th>\n",
       "      <td>5ad28ad0d7d075001a4299cd</td>\n",
       "      <td>Force</td>\n",
       "      <td>The pound-force has a metric counterpart, less...</td>\n",
       "      <td>What is the force exerted by standard gravity ...</td>\n",
       "      <td>{'text': [], 'answer_start': []}</td>\n",
       "      <td></td>\n",
       "      <td>The pound-force has a metric counterpart, less...</td>\n",
       "    </tr>\n",
       "    <tr>\n",
       "      <th>142190</th>\n",
       "      <td>5ad28ad0d7d075001a4299ce</td>\n",
       "      <td>Force</td>\n",
       "      <td>The pound-force has a metric counterpart, less...</td>\n",
       "      <td>What force leads to a commonly used unit of mass?</td>\n",
       "      <td>{'text': [], 'answer_start': []}</td>\n",
       "      <td></td>\n",
       "      <td>The pound-force has a metric counterpart, less...</td>\n",
       "    </tr>\n",
       "    <tr>\n",
       "      <th>142191</th>\n",
       "      <td>5ad28ad0d7d075001a4299cf</td>\n",
       "      <td>Force</td>\n",
       "      <td>The pound-force has a metric counterpart, less...</td>\n",
       "      <td>What force is part of the modern SI system?</td>\n",
       "      <td>{'text': [], 'answer_start': []}</td>\n",
       "      <td></td>\n",
       "      <td>The pound-force has a metric counterpart, less...</td>\n",
       "    </tr>\n",
       "  </tbody>\n",
       "</table>\n",
       "<p>142192 rows × 7 columns</p>\n",
       "</div>"
      ],
      "text/plain": [
       "                              id    title  \\\n",
       "0       56be85543aeaaa14008c9063  Beyoncé   \n",
       "1       56be85543aeaaa14008c9065  Beyoncé   \n",
       "2       56be85543aeaaa14008c9066  Beyoncé   \n",
       "3       56bf6b0f3aeaaa14008c9601  Beyoncé   \n",
       "4       56bf6b0f3aeaaa14008c9602  Beyoncé   \n",
       "...                          ...      ...   \n",
       "142187  5737aafd1c456719005744ff    Force   \n",
       "142188  5ad28ad0d7d075001a4299cc    Force   \n",
       "142189  5ad28ad0d7d075001a4299cd    Force   \n",
       "142190  5ad28ad0d7d075001a4299ce    Force   \n",
       "142191  5ad28ad0d7d075001a4299cf    Force   \n",
       "\n",
       "                                                  context  \\\n",
       "0       Beyoncé Giselle Knowles-Carter (/biːˈjɒnseɪ/ b...   \n",
       "1       Beyoncé Giselle Knowles-Carter (/biːˈjɒnseɪ/ b...   \n",
       "2       Beyoncé Giselle Knowles-Carter (/biːˈjɒnseɪ/ b...   \n",
       "3       Beyoncé Giselle Knowles-Carter (/biːˈjɒnseɪ/ b...   \n",
       "4       Beyoncé Giselle Knowles-Carter (/biːˈjɒnseɪ/ b...   \n",
       "...                                                   ...   \n",
       "142187  The pound-force has a metric counterpart, less...   \n",
       "142188  The pound-force has a metric counterpart, less...   \n",
       "142189  The pound-force has a metric counterpart, less...   \n",
       "142190  The pound-force has a metric counterpart, less...   \n",
       "142191  The pound-force has a metric counterpart, less...   \n",
       "\n",
       "                                                 question  \\\n",
       "0                When did Beyonce start becoming popular?   \n",
       "1       What areas did Beyonce compete in when she was...   \n",
       "2       When did Beyonce leave Destiny's Child and bec...   \n",
       "3           In what city and state did Beyonce  grow up?    \n",
       "4              In which decade did Beyonce become famous?   \n",
       "...                                                   ...   \n",
       "142187  What is the seldom used force unit equal to on...   \n",
       "142188           What does not have a metric counterpart?   \n",
       "142189  What is the force exerted by standard gravity ...   \n",
       "142190  What force leads to a commonly used unit of mass?   \n",
       "142191        What force is part of the modern SI system?   \n",
       "\n",
       "                                                  answers  \\\n",
       "0       {'text': ['in the late 1990s'], 'answer_start'...   \n",
       "1       {'text': ['singing and dancing'], 'answer_star...   \n",
       "2               {'text': ['2003'], 'answer_start': [526]}   \n",
       "3       {'text': ['Houston, Texas'], 'answer_start': [...   \n",
       "4         {'text': ['late 1990s'], 'answer_start': [276]}   \n",
       "...                                                   ...   \n",
       "142187  {'text': ['sthène', 'sthène', 'sthène', 'sthèn...   \n",
       "142188                   {'text': [], 'answer_start': []}   \n",
       "142189                   {'text': [], 'answer_start': []}   \n",
       "142190                   {'text': [], 'answer_start': []}   \n",
       "142191                   {'text': [], 'answer_start': []}   \n",
       "\n",
       "                answer_text                                               text  \n",
       "0         in the late 1990s  Beyoncé Giselle Knowles-Carter (/biːˈjɒnseɪ/ b...  \n",
       "1       singing and dancing  Beyoncé Giselle Knowles-Carter (/biːˈjɒnseɪ/ b...  \n",
       "2                      2003  Beyoncé Giselle Knowles-Carter (/biːˈjɒnseɪ/ b...  \n",
       "3            Houston, Texas  Beyoncé Giselle Knowles-Carter (/biːˈjɒnseɪ/ b...  \n",
       "4                late 1990s  Beyoncé Giselle Knowles-Carter (/biːˈjɒnseɪ/ b...  \n",
       "...                     ...                                                ...  \n",
       "142187               sthène  The pound-force has a metric counterpart, less...  \n",
       "142188                       The pound-force has a metric counterpart, less...  \n",
       "142189                       The pound-force has a metric counterpart, less...  \n",
       "142190                       The pound-force has a metric counterpart, less...  \n",
       "142191                       The pound-force has a metric counterpart, less...  \n",
       "\n",
       "[142192 rows x 7 columns]"
      ]
     },
     "execution_count": 14,
     "metadata": {},
     "output_type": "execute_result"
    }
   ],
   "source": [
    "import pandas as pd\n",
    "\n",
    "splits = {'train': 'squad_v2/train-00000-of-00001.parquet', 'validation': 'squad_v2/validation-00000-of-00001.parquet'}\n",
    "\n",
    "# Carregar os dados de treino e validação em DataFrames separados\n",
    "df_train = pd.read_parquet(\"hf://datasets/rajpurkar/squad_v2/\" + splits[\"train\"])\n",
    "df_validation = pd.read_parquet(\"hf://datasets/rajpurkar/squad_v2/\" + splits[\"validation\"])\n",
    "\n",
    "# Concatenar os dois DataFrames\n",
    "df = pd.concat([df_train, df_validation], ignore_index=True)\n",
    "\n",
    "# Extrair o texto da resposta, verificando se a lista de respostas não está vazia\n",
    "df['answer_text'] = df['answers'].apply(lambda x: x['text'][0] if len(x['text']) > 0 else '')\n",
    "\n",
    "# Concatenar a pergunta com a resposta em uma nova coluna\n",
    "df['text'] = df['context'] + \" \" + df['question'] + \" \" + df['answer_text']\n",
    "df"
   ]
  },
  {
   "cell_type": "code",
   "execution_count": 15,
   "metadata": {},
   "outputs": [
    {
     "name": "stderr",
     "output_type": "stream",
     "text": [
      "squad_v2: 100%|██████████| 142192/142192 [8:35:05<00:00,  4.60it/s]   \n"
     ]
    }
   ],
   "source": [
    "for index, row in tqdm(df.iterrows(), total=df.shape[0], desc=\"squad_v2\"):\n",
    "\tsplitter_length(row['text'],row['id'],use_tqdm=False)"
   ]
  },
  {
   "cell_type": "code",
   "execution_count": 13,
   "metadata": {},
   "outputs": [
    {
     "data": {
      "text/html": [
       "<div>\n",
       "<style scoped>\n",
       "    .dataframe tbody tr th:only-of-type {\n",
       "        vertical-align: middle;\n",
       "    }\n",
       "\n",
       "    .dataframe tbody tr th {\n",
       "        vertical-align: top;\n",
       "    }\n",
       "\n",
       "    .dataframe thead th {\n",
       "        text-align: right;\n",
       "    }\n",
       "</style>\n",
       "<table border=\"1\" class=\"dataframe\">\n",
       "  <thead>\n",
       "    <tr style=\"text-align: right;\">\n",
       "      <th></th>\n",
       "      <th>sentence1</th>\n",
       "      <th>sentence2</th>\n",
       "      <th>score</th>\n",
       "      <th>Diferença</th>\n",
       "    </tr>\n",
       "  </thead>\n",
       "  <tbody>\n",
       "    <tr>\n",
       "      <th>0</th>\n",
       "      <td>A plane is taking off.</td>\n",
       "      <td>An air plane is taking off.</td>\n",
       "      <td>1.00</td>\n",
       "      <td>0.000000e+00</td>\n",
       "    </tr>\n",
       "    <tr>\n",
       "      <th>1</th>\n",
       "      <td>A man is playing a large flute.</td>\n",
       "      <td>A man is playing a flute.</td>\n",
       "      <td>0.76</td>\n",
       "      <td>3.713415e-01</td>\n",
       "    </tr>\n",
       "    <tr>\n",
       "      <th>2</th>\n",
       "      <td>A man is spreading shreded cheese on a pizza.</td>\n",
       "      <td>A man is spreading shredded cheese on an uncoo...</td>\n",
       "      <td>0.76</td>\n",
       "      <td>3.713415e-01</td>\n",
       "    </tr>\n",
       "    <tr>\n",
       "      <th>3</th>\n",
       "      <td>Three men are playing chess.</td>\n",
       "      <td>Two men are playing chess.</td>\n",
       "      <td>0.52</td>\n",
       "      <td>1.517023e+00</td>\n",
       "    </tr>\n",
       "    <tr>\n",
       "      <th>4</th>\n",
       "      <td>A man is playing the cello.</td>\n",
       "      <td>A man seated is playing the cello.</td>\n",
       "      <td>0.85</td>\n",
       "      <td>1.929993e-01</td>\n",
       "    </tr>\n",
       "    <tr>\n",
       "      <th>...</th>\n",
       "      <td>...</td>\n",
       "      <td>...</td>\n",
       "      <td>...</td>\n",
       "      <td>...</td>\n",
       "    </tr>\n",
       "    <tr>\n",
       "      <th>5744</th>\n",
       "      <td>Severe Gales As Storm Clodagh Hits Britain</td>\n",
       "      <td>Merkel pledges NATO solidarity with Latvia</td>\n",
       "      <td>0.00</td>\n",
       "      <td>4.605222e+37</td>\n",
       "    </tr>\n",
       "    <tr>\n",
       "      <th>5745</th>\n",
       "      <td>Dozens of Egyptians hostages taken by Libyan t...</td>\n",
       "      <td>Egyptian boat crash death toll rises as more b...</td>\n",
       "      <td>0.00</td>\n",
       "      <td>4.605222e+37</td>\n",
       "    </tr>\n",
       "    <tr>\n",
       "      <th>5746</th>\n",
       "      <td>President heading to Bahrain</td>\n",
       "      <td>President Xi: China to continue help to fight ...</td>\n",
       "      <td>0.00</td>\n",
       "      <td>4.605222e+37</td>\n",
       "    </tr>\n",
       "    <tr>\n",
       "      <th>5747</th>\n",
       "      <td>China, India vow to further bilateral ties</td>\n",
       "      <td>China Scrambles to Reassure Jittery Stock Traders</td>\n",
       "      <td>0.00</td>\n",
       "      <td>4.605222e+37</td>\n",
       "    </tr>\n",
       "    <tr>\n",
       "      <th>5748</th>\n",
       "      <td>Putin spokesman: Doping charges appear unfounded</td>\n",
       "      <td>The Latest on Severe Weather: 1 Dead in Texas ...</td>\n",
       "      <td>0.00</td>\n",
       "      <td>4.605222e+37</td>\n",
       "    </tr>\n",
       "  </tbody>\n",
       "</table>\n",
       "<p>5749 rows × 4 columns</p>\n",
       "</div>"
      ],
      "text/plain": [
       "                                              sentence1  \\\n",
       "0                                A plane is taking off.   \n",
       "1                       A man is playing a large flute.   \n",
       "2         A man is spreading shreded cheese on a pizza.   \n",
       "3                          Three men are playing chess.   \n",
       "4                           A man is playing the cello.   \n",
       "...                                                 ...   \n",
       "5744         Severe Gales As Storm Clodagh Hits Britain   \n",
       "5745  Dozens of Egyptians hostages taken by Libyan t...   \n",
       "5746                       President heading to Bahrain   \n",
       "5747         China, India vow to further bilateral ties   \n",
       "5748   Putin spokesman: Doping charges appear unfounded   \n",
       "\n",
       "                                              sentence2  score     Diferença  \n",
       "0                           An air plane is taking off.   1.00  0.000000e+00  \n",
       "1                             A man is playing a flute.   0.76  3.713415e-01  \n",
       "2     A man is spreading shredded cheese on an uncoo...   0.76  3.713415e-01  \n",
       "3                            Two men are playing chess.   0.52  1.517023e+00  \n",
       "4                    A man seated is playing the cello.   0.85  1.929993e-01  \n",
       "...                                                 ...    ...           ...  \n",
       "5744         Merkel pledges NATO solidarity with Latvia   0.00  4.605222e+37  \n",
       "5745  Egyptian boat crash death toll rises as more b...   0.00  4.605222e+37  \n",
       "5746  President Xi: China to continue help to fight ...   0.00  4.605222e+37  \n",
       "5747  China Scrambles to Reassure Jittery Stock Traders   0.00  4.605222e+37  \n",
       "5748  The Latest on Severe Weather: 1 Dead in Texas ...   0.00  4.605222e+37  \n",
       "\n",
       "[5749 rows x 4 columns]"
      ]
     },
     "execution_count": 13,
     "metadata": {},
     "output_type": "execute_result"
    }
   ],
   "source": [
    "import pandas as pd\n",
    "\n",
    "splits = {'train': 'data/train-00000-of-00001.parquet', 'validation': 'data/validation-00000-of-00001.parquet', 'test': 'data/test-00000-of-00001.parquet'}\n",
    "df_train = pd.read_parquet(\"hf://datasets/sentence-transformers/stsb/\" + splits[\"train\"])\n",
    "#df_validation = pd.read_parquet(\"hf://datasets/sentence-transformers/stsb/\" + splits[\"validation\"])\n",
    "#df_test = pd.read_parquet(\"hf://datasets/sentence-transformers/stsb/\" + splits[\"test\"])\n",
    "#df = pd.concat([df_train, df_validation,df_test], ignore_index=True)\n",
    "\n",
    "df_train['Diferença'] = df_train['score'].apply(lambda x: inverse_signed_log_transform(dissimilaridade(x)))\n",
    "df_train"
   ]
  },
  {
   "cell_type": "code",
   "execution_count": null,
   "metadata": {},
   "outputs": [
    {
     "name": "stderr",
     "output_type": "stream",
     "text": [
      "sentence-transformers: 100%|██████████| 5749/5749 [00:50<00:00, 113.35it/s]\n"
     ]
    }
   ],
   "source": [
    "import uuid\n",
    "\n",
    "for index, row in tqdm(df_train.iterrows(), total=df_train.shape[0], desc=\"sentence-transformers\"):\n",
    "    run_uid = uuid.uuid4().hex[:6]\n",
    "    \n",
    "\t# Como esse dataset não tem a posição pode estar no passado ou no futuro\n",
    "    inserts = [\n",
    "        (row['sentence1'], -(row['score']/2), run_uid),\n",
    "        (row['sentence2'], (row['score']/2), run_uid),\n",
    "        (row['sentence1'], (row['score']/2), run_uid),\n",
    "        (row['sentence2'], -(row['score']/2), run_uid)\n",
    "    ]\n",
    "    try:\n",
    "        # Usar executemany para inserir múltiplas linhas de uma vez\n",
    "        conn.executemany(\"\"\"\n",
    "            INSERT INTO dataset (content, indice, name)\n",
    "            VALUES (?, ?, ?)\n",
    "        \"\"\", inserts)\n",
    "    except Exception as e:\n",
    "        print(f\"Erro ao inserir dados no DuckDB: {e}\")"
   ]
  },
  {
   "cell_type": "code",
   "execution_count": 7,
   "metadata": {},
   "outputs": [
    {
     "name": "stdout",
     "output_type": "stream",
     "text": [
      "IterableDatasetDict({\n",
      "    train: IterableDataset({\n",
      "        features: ['text', 'id', 'dump', 'url', 'date', 'file_path', 'language', 'language_score', 'token_count'],\n",
      "        n_shards: 1\n",
      "    })\n",
      "})\n"
     ]
    }
   ],
   "source": [
    "from datasets import load_dataset\n",
    "\n",
    "# Carrega o dataset em modo de streaming\n",
    "fw = load_dataset(\"./fineweb\", streaming=True)\n",
    "\n",
    "# Verifique os splits disponíveis (como 'train', 'test', etc.)\n",
    "print(fw)"
   ]
  },
  {
   "cell_type": "code",
   "execution_count": 8,
   "metadata": {},
   "outputs": [
    {
     "name": "stderr",
     "output_type": "stream",
     "text": [
      "fineweb: 8667it [2:56:53,  1.22s/it]\n"
     ]
    }
   ],
   "source": [
    "sizes_length = [16, 32, 64, 128, 256, 512, 1024]\n",
    "use_tqdm = False\n",
    "counter = 0\n",
    "max_samples = 2303690\n",
    "\n",
    "for sample in tqdm(fw['train'], desc=\"fineweb\"):\n",
    "\tif counter >= max_samples:\n",
    "\t\tbreak\n",
    "\t\n",
    "\ttext = cleartext(sample['text'])\n",
    "\tname = sample['url']\n",
    "\t\n",
    "\tfor size in sizes_length:\n",
    "\t\toverlap = int(size / 5)\n",
    "\t\tsplitter = RecursiveCharacterTextSplitter(\n",
    "\t\t\tchunk_size=size, \n",
    "\t\t\tchunk_overlap=overlap,\n",
    "\t\t\tlength_function=length_function,\n",
    "\t\t)\n",
    "\n",
    "\t\tsplits = splitter.split_text(text)\n",
    "\t\tsplits = [split for split in splits if len(split) > 1]  # Filtra splits com tamanho > 1\n",
    "\n",
    "\t\tif use_tqdm:\n",
    "\t\t\titerator = tqdm(splits, desc=f\"Processando chunks de tamanho {size}\")\n",
    "\t\telse:\n",
    "\t\t\titerator = splits\n",
    "\n",
    "\t\tinserts = []\n",
    "\t\tlast_found = 0  # Rastro da posição atual no texto\n",
    "\n",
    "\t\tfor split in iterator:\n",
    "\t\t\t# Ajusta a posição de busca para incluir a sobreposição\n",
    "\t\t\tsearch_start = max(last_found - overlap, 0)\n",
    "\t\t\tindice = text.find(split, search_start)\n",
    "\t\t\t\n",
    "\t\t\tif indice == -1:\n",
    "\t\t\t\t# Se não encontrado a partir de search_start, tenta buscar globalmente\n",
    "\t\t\t\tindice = text.find(split)\n",
    "\t\t\t\tif indice == -1:\n",
    "\t\t\t\t\tprint(f\"Split não encontrado: {split[:30]}...\")\n",
    "\t\t\t\t\tcontinue\n",
    "\n",
    "\t\t\tinserts.append((split, indice, name))\n",
    "\t\t\tcounter += 1\n",
    "\t\t\t# Atualiza a posição atual levando em conta a sobreposição\n",
    "\t\t\tlast_found = indice + len(split) - overlap\n",
    "\n",
    "\t\t# Insere os dados em lote no banco de dados\n",
    "\t\tif inserts:\n",
    "\t\t\ttry:\n",
    "\t\t\t\tconn.executemany(\"\"\"\n",
    "\t\t\t\t\tINSERT INTO dataset (content, indice, name)\n",
    "\t\t\t\t\tVALUES (?, ?, ?)\n",
    "\t\t\t\t\"\"\", inserts)\n",
    "\t\t\t\tconn.commit()\n",
    "\t\t\texcept Exception as e:\n",
    "\t\t\t\tprint(f\"Erro ao inserir dados no DuckDB: {e}\")"
   ]
  },
  {
   "cell_type": "code",
   "execution_count": 15,
   "metadata": {},
   "outputs": [
    {
     "data": {
      "text/html": [
       "<div>\n",
       "<style scoped>\n",
       "    .dataframe tbody tr th:only-of-type {\n",
       "        vertical-align: middle;\n",
       "    }\n",
       "\n",
       "    .dataframe tbody tr th {\n",
       "        vertical-align: top;\n",
       "    }\n",
       "\n",
       "    .dataframe thead th {\n",
       "        text-align: right;\n",
       "    }\n",
       "</style>\n",
       "<table border=\"1\" class=\"dataframe\">\n",
       "  <thead>\n",
       "    <tr style=\"text-align: right;\">\n",
       "      <th></th>\n",
       "      <th>id</th>\n",
       "      <th>name</th>\n",
       "      <th>content</th>\n",
       "      <th>indice</th>\n",
       "    </tr>\n",
       "  </thead>\n",
       "  <tbody>\n",
       "    <tr>\n",
       "      <th>0</th>\n",
       "      <td>1</td>\n",
       "      <td>Unknown - ana rosa.txt</td>\n",
       "      <td>Disponibilização : Lizzie</td>\n",
       "      <td>0</td>\n",
       "    </tr>\n",
       "    <tr>\n",
       "      <th>1</th>\n",
       "      <td>2</td>\n",
       "      <td>Unknown - ana rosa.txt</td>\n",
       "      <td>Lizzie Tradução: Andréa,</td>\n",
       "      <td>19</td>\n",
       "    </tr>\n",
       "    <tr>\n",
       "      <th>2</th>\n",
       "      <td>3</td>\n",
       "      <td>Unknown - ana rosa.txt</td>\n",
       "      <td>Elisangela e Regina Revisão</td>\n",
       "      <td>44</td>\n",
       "    </tr>\n",
       "    <tr>\n",
       "      <th>3</th>\n",
       "      <td>4</td>\n",
       "      <td>Unknown - ana rosa.txt</td>\n",
       "      <td>Inicial: Andréa e Elisangela</td>\n",
       "      <td>72</td>\n",
       "    </tr>\n",
       "    <tr>\n",
       "      <th>4</th>\n",
       "      <td>5</td>\n",
       "      <td>Unknown - ana rosa.txt</td>\n",
       "      <td>Revisão Final: Sophy</td>\n",
       "      <td>101</td>\n",
       "    </tr>\n",
       "    <tr>\n",
       "      <th>...</th>\n",
       "      <td>...</td>\n",
       "      <td>...</td>\n",
       "      <td>...</td>\n",
       "      <td>...</td>\n",
       "    </tr>\n",
       "    <tr>\n",
       "      <th>2315183</th>\n",
       "      <td>2315184</td>\n",
       "      <td>77b9af</td>\n",
       "      <td>President Xi: China to continue help to fight ...</td>\n",
       "      <td>0</td>\n",
       "    </tr>\n",
       "    <tr>\n",
       "      <th>2315184</th>\n",
       "      <td>2315185</td>\n",
       "      <td>6d0dba</td>\n",
       "      <td>China, India vow to further bilateral ties</td>\n",
       "      <td>0</td>\n",
       "    </tr>\n",
       "    <tr>\n",
       "      <th>2315185</th>\n",
       "      <td>2315186</td>\n",
       "      <td>6d0dba</td>\n",
       "      <td>China Scrambles to Reassure Jittery Stock Traders</td>\n",
       "      <td>0</td>\n",
       "    </tr>\n",
       "    <tr>\n",
       "      <th>2315186</th>\n",
       "      <td>2315187</td>\n",
       "      <td>bca375</td>\n",
       "      <td>Putin spokesman: Doping charges appear unfounded</td>\n",
       "      <td>0</td>\n",
       "    </tr>\n",
       "    <tr>\n",
       "      <th>2315187</th>\n",
       "      <td>2315188</td>\n",
       "      <td>bca375</td>\n",
       "      <td>The Latest on Severe Weather: 1 Dead in Texas ...</td>\n",
       "      <td>0</td>\n",
       "    </tr>\n",
       "  </tbody>\n",
       "</table>\n",
       "<p>2315188 rows × 4 columns</p>\n",
       "</div>"
      ],
      "text/plain": [
       "              id                    name  \\\n",
       "0              1  Unknown - ana rosa.txt   \n",
       "1              2  Unknown - ana rosa.txt   \n",
       "2              3  Unknown - ana rosa.txt   \n",
       "3              4  Unknown - ana rosa.txt   \n",
       "4              5  Unknown - ana rosa.txt   \n",
       "...          ...                     ...   \n",
       "2315183  2315184                  77b9af   \n",
       "2315184  2315185                  6d0dba   \n",
       "2315185  2315186                  6d0dba   \n",
       "2315186  2315187                  bca375   \n",
       "2315187  2315188                  bca375   \n",
       "\n",
       "                                                   content  indice  \n",
       "0                                Disponibilização : Lizzie       0  \n",
       "1                                 Lizzie Tradução: Andréa,      19  \n",
       "2                              Elisangela e Regina Revisão      44  \n",
       "3                             Inicial: Andréa e Elisangela      72  \n",
       "4                                     Revisão Final: Sophy     101  \n",
       "...                                                    ...     ...  \n",
       "2315183  President Xi: China to continue help to fight ...       0  \n",
       "2315184         China, India vow to further bilateral ties       0  \n",
       "2315185  China Scrambles to Reassure Jittery Stock Traders       0  \n",
       "2315186   Putin spokesman: Doping charges appear unfounded       0  \n",
       "2315187  The Latest on Severe Weather: 1 Dead in Texas ...       0  \n",
       "\n",
       "[2315188 rows x 4 columns]"
      ]
     },
     "execution_count": 15,
     "metadata": {},
     "output_type": "execute_result"
    }
   ],
   "source": [
    "df = conn.execute(\"\"\"SELECT * FROM dataset \"\"\").df()\n",
    "df"
   ]
  },
  {
   "cell_type": "code",
   "execution_count": 16,
   "metadata": {},
   "outputs": [
    {
     "data": {
      "image/png": "[encoded data removed]",
      "text/plain": [
       "<Figure size 800x400 with 1 Axes>"
      ]
     },
     "metadata": {},
     "output_type": "display_data"
    }
   ],
   "source": [
    "# @title indice\n",
    "\n",
    "from matplotlib import pyplot as plt\n",
    "df['indice'].plot(kind='line', figsize=(8, 4), title='indice')\n",
    "plt.gca().spines[['top', 'right']].set_visible(False)"
   ]
  },
  {
   "cell_type": "code",
   "execution_count": 2,
   "metadata": {},
   "outputs": [
    {
     "data": {
      "text/html": [
       "<div>\n",
       "<style scoped>\n",
       "    .dataframe tbody tr th:only-of-type {\n",
       "        vertical-align: middle;\n",
       "    }\n",
       "\n",
       "    .dataframe tbody tr th {\n",
       "        vertical-align: top;\n",
       "    }\n",
       "\n",
       "    .dataframe thead th {\n",
       "        text-align: right;\n",
       "    }\n",
       "</style>\n",
       "<table border=\"1\" class=\"dataframe\">\n",
       "  <thead>\n",
       "    <tr style=\"text-align: right;\">\n",
       "      <th></th>\n",
       "      <th>name</th>\n",
       "      <th>content1</th>\n",
       "      <th>content2</th>\n",
       "      <th>target_transformed</th>\n",
       "    </tr>\n",
       "  </thead>\n",
       "  <tbody>\n",
       "    <tr>\n",
       "      <th>0</th>\n",
       "      <td>O efeito Graham - Elle Kennedy.txt</td>\n",
       "      <td>dá uma risadinha. \"Vou ligar pro meu pai\", avi...</td>\n",
       "      <td>\"Eu também. Estava precisando</td>\n",
       "      <td>11.287417</td>\n",
       "    </tr>\n",
       "    <tr>\n",
       "      <th>1</th>\n",
       "      <td>I Think I Love You_ An Exciting New Romanc - L...</td>\n",
       "      <td>a trabalho, mas que ligaria</td>\n",
       "      <td>à parte — Nick disse com um olhar de advertênc...</td>\n",
       "      <td>-11.723737</td>\n",
       "    </tr>\n",
       "    <tr>\n",
       "      <th>2</th>\n",
       "      <td>D__wwwroot_cleverpdf-web_4707484_Demonolog - D...</td>\n",
       "      <td>'Qual é a sua</td>\n",
       "      <td>adentra em uma dimensão muito mais profunda — ...</td>\n",
       "      <td>13.126443</td>\n",
       "    </tr>\n",
       "    <tr>\n",
       "      <th>3</th>\n",
       "      <td>Marriage for One - Ella Maise.txt</td>\n",
       "      <td>any and all events, rarely</td>\n",
       "      <td>it just as it had</td>\n",
       "      <td>12.592470</td>\n",
       "    </tr>\n",
       "    <tr>\n",
       "      <th>4</th>\n",
       "      <td>Love the One You're With - Lauren Layne.txt</td>\n",
       "      <td>wrote about how couples who run together have ...</td>\n",
       "      <td>website on their respective home</td>\n",
       "      <td>-11.367900</td>\n",
       "    </tr>\n",
       "    <tr>\n",
       "      <th>...</th>\n",
       "      <td>...</td>\n",
       "      <td>...</td>\n",
       "      <td>...</td>\n",
       "      <td>...</td>\n",
       "    </tr>\n",
       "    <tr>\n",
       "      <th>29995</th>\n",
       "      <td>The American Roommate Experiment_ A Novel - El...</td>\n",
       "      <td>being the handsomest of them</td>\n",
       "      <td>Graham, are a boss-lady.\"</td>\n",
       "      <td>12.743156</td>\n",
       "    </tr>\n",
       "    <tr>\n",
       "      <th>29996</th>\n",
       "      <td>The Worst Best Man - Mia Sosa.txt</td>\n",
       "      <td>agreeable in this position. Despite the limpne...</td>\n",
       "      <td>stiff and high, until it settles in the air, s...</td>\n",
       "      <td>-11.322334</td>\n",
       "    </tr>\n",
       "    <tr>\n",
       "      <th>29997</th>\n",
       "      <td>Estupidamente apaixonados - Lyssa Kay Adams.txt</td>\n",
       "      <td>É óbvio que ela</td>\n",
       "      <td>Havia certa solidão em</td>\n",
       "      <td>-9.229260</td>\n",
       "    </tr>\n",
       "    <tr>\n",
       "      <th>29998</th>\n",
       "      <td>Missao Romance - Lyssa Kay Adams.txt</td>\n",
       "      <td>a verdade, a única mulher a quem conseguia se ...</td>\n",
       "      <td>dor, e Liv não entendeu nada. A maçaneta machu...</td>\n",
       "      <td>10.629392</td>\n",
       "    </tr>\n",
       "    <tr>\n",
       "      <th>29999</th>\n",
       "      <td>O efeito Graham - Elle Kennedy.txt</td>\n",
       "      <td>a cabeça. \"Isso é</td>\n",
       "      <td>para as garotas que não vou jantar com elas e ...</td>\n",
       "      <td>-11.355815</td>\n",
       "    </tr>\n",
       "  </tbody>\n",
       "</table>\n",
       "<p>30000 rows × 4 columns</p>\n",
       "</div>"
      ],
      "text/plain": [
       "                                                    name  \\\n",
       "0                     O efeito Graham - Elle Kennedy.txt   \n",
       "1      I Think I Love You_ An Exciting New Romanc - L...   \n",
       "2      D__wwwroot_cleverpdf-web_4707484_Demonolog - D...   \n",
       "3                      Marriage for One - Ella Maise.txt   \n",
       "4            Love the One You're With - Lauren Layne.txt   \n",
       "...                                                  ...   \n",
       "29995  The American Roommate Experiment_ A Novel - El...   \n",
       "29996                  The Worst Best Man - Mia Sosa.txt   \n",
       "29997    Estupidamente apaixonados - Lyssa Kay Adams.txt   \n",
       "29998               Missao Romance - Lyssa Kay Adams.txt   \n",
       "29999                 O efeito Graham - Elle Kennedy.txt   \n",
       "\n",
       "                                                content1  \\\n",
       "0      dá uma risadinha. \"Vou ligar pro meu pai\", avi...   \n",
       "1                            a trabalho, mas que ligaria   \n",
       "2                                          'Qual é a sua   \n",
       "3                             any and all events, rarely   \n",
       "4      wrote about how couples who run together have ...   \n",
       "...                                                  ...   \n",
       "29995                       being the handsomest of them   \n",
       "29996  agreeable in this position. Despite the limpne...   \n",
       "29997                                    É óbvio que ela   \n",
       "29998  a verdade, a única mulher a quem conseguia se ...   \n",
       "29999                                  a cabeça. \"Isso é   \n",
       "\n",
       "                                                content2  target_transformed  \n",
       "0                          \"Eu também. Estava precisando           11.287417  \n",
       "1      à parte — Nick disse com um olhar de advertênc...          -11.723737  \n",
       "2      adentra em uma dimensão muito mais profunda — ...           13.126443  \n",
       "3                                      it just as it had           12.592470  \n",
       "4                       website on their respective home          -11.367900  \n",
       "...                                                  ...                 ...  \n",
       "29995                          Graham, are a boss-lady.\"           12.743156  \n",
       "29996  stiff and high, until it settles in the air, s...          -11.322334  \n",
       "29997                             Havia certa solidão em           -9.229260  \n",
       "29998  dor, e Liv não entendeu nada. A maçaneta machu...           10.629392  \n",
       "29999  para as garotas que não vou jantar com elas e ...          -11.355815  \n",
       "\n",
       "[30000 rows x 4 columns]"
      ]
     },
     "execution_count": 2,
     "metadata": {},
     "output_type": "execute_result"
    }
   ],
   "source": [
    "df_training = conn.execute(\"\"\"\n",
    "WITH sampled_a AS (\n",
    "  SELECT id, indice, content, name\n",
    "  FROM (\n",
    "    SELECT\n",
    "      id,\n",
    "      indice,\n",
    "      content,\n",
    "      name,\n",
    "      ROW_NUMBER() OVER (PARTITION BY name ORDER BY RANDOM()) AS rn\n",
    "    FROM dataset\n",
    "  ) sub\n",
    "  WHERE rn <= 100 -- Número de amostras desejadas por grupo para 'a'\n",
    "),\n",
    "sampled_b AS (\n",
    "  SELECT id, indice, content, name\n",
    "  FROM (\n",
    "    SELECT\n",
    "      id,\n",
    "      indice,\n",
    "      content,\n",
    "      name,\n",
    "      ROW_NUMBER() OVER (PARTITION BY name ORDER BY RANDOM()) AS rn\n",
    "    FROM dataset\n",
    "  ) sub\n",
    "  WHERE rn <= 100 -- Número de amostras desejadas por grupo para 'b'\n",
    ")\n",
    "SELECT\n",
    "  a.name as name,\n",
    "  a.content AS content1,\n",
    "  b.content AS content2,\n",
    "  SIGN(a.indice - b.indice) * LN(1 + ABS(a.indice - b.indice)) AS target_transformed\n",
    "FROM sampled_a a\n",
    "JOIN sampled_b b\n",
    "  ON a.name = b.name\n",
    "  AND a.id != b.id\n",
    "ORDER BY RANDOM()\n",
    "LIMIT 30000;\n",
    "\"\"\").df()\n",
    "df_training"
   ]
  },
  {
   "cell_type": "code",
   "execution_count": 2,
   "metadata": {},
   "outputs": [
    {
     "data": {
      "image/png": "[encoded data removed]",
      "text/plain": [
       "<Figure size 640x480 with 1 Axes>"
      ]
     },
     "metadata": {},
     "output_type": "display_data"
    }
   ],
   "source": [
    "import matplotlib.pyplot as plt\n",
    "\n",
    "plt.hist(df_training['target_transformed'], bins=50, alpha=0.5, label='target_transformed')\n",
    "plt.legend()\n",
    "plt.show()"
   ]
  },
  {
   "cell_type": "code",
   "execution_count": 9,
   "metadata": {},
   "outputs": [],
   "source": [
    "# Fechar a conexão com o banco de dados\n",
    "conn.close()"
   ]
  },
  {
   "cell_type": "code",
   "execution_count": null,
   "metadata": {},
   "outputs": [
    {
     "data": {
      "application/vnd.jupyter.widget-view+json": {
       "model_id": "231a4a5eb5cc4bd090ee6ce6fbb2c110",
       "version_major": 2,
       "version_minor": 0
      },
      "text/plain": [
       "FloatProgress(value=0.0, layout=Layout(width='auto'), style=ProgressStyle(bar_color='black'))"
      ]
     },
     "metadata": {},
     "output_type": "display_data"
    },
    {
     "data": {
      "text/html": [
       "<div>\n",
       "<style scoped>\n",
       "    .dataframe tbody tr th:only-of-type {\n",
       "        vertical-align: middle;\n",
       "    }\n",
       "\n",
       "    .dataframe tbody tr th {\n",
       "        vertical-align: top;\n",
       "    }\n",
       "\n",
       "    .dataframe thead th {\n",
       "        text-align: right;\n",
       "    }\n",
       "</style>\n",
       "<table border=\"1\" class=\"dataframe\">\n",
       "  <thead>\n",
       "    <tr style=\"text-align: right;\">\n",
       "      <th></th>\n",
       "      <th>name</th>\n",
       "      <th>content1</th>\n",
       "      <th>content2</th>\n",
       "      <th>target_transformed</th>\n",
       "    </tr>\n",
       "  </thead>\n",
       "  <tbody>\n",
       "    <tr>\n",
       "      <th>0</th>\n",
       "      <td>http://www.bigw.org/members/</td>\n",
       "      <td>File Covers basic Unix commands, how to use e-...</td>\n",
       "      <td>Log Statistics You can now monitor the traffic...</td>\n",
       "      <td>-4.454347</td>\n",
       "    </tr>\n",
       "    <tr>\n",
       "      <th>1</th>\n",
       "      <td>http://transcentury.blogspot.com/2016/12/its-a...</td>\n",
       "      <td>Man. In Dog Man Unleashed, our hero has to</td>\n",
       "      <td>new rain gear. In \"Sitting Up Straight,\" a boy</td>\n",
       "      <td>-8.005033</td>\n",
       "    </tr>\n",
       "    <tr>\n",
       "      <th>2</th>\n",
       "      <td>http://www.upi.com/blog/2013/07/15/Trayvon-Mar...</td>\n",
       "      <td>said, several \"splinter groups\" have been more...</td>\n",
       "      <td>downtown, while police in riot gear watched ov...</td>\n",
       "      <td>-6.606650</td>\n",
       "    </tr>\n",
       "    <tr>\n",
       "      <th>3</th>\n",
       "      <td>http://www.ecologyandsociety.org/vol18/iss1/art4/</td>\n",
       "      <td>listed in Annex I of</td>\n",
       "      <td>the 92/43/EEC Habitats</td>\n",
       "      <td>8.882392</td>\n",
       "    </tr>\n",
       "    <tr>\n",
       "      <th>4</th>\n",
       "      <td>http://www.phonearena.com/news/LG-infographic-...</td>\n",
       "      <td>older. 20% of those</td>\n",
       "      <td>that 75% of Americans would have no problem us...</td>\n",
       "      <td>5.605802</td>\n",
       "    </tr>\n",
       "    <tr>\n",
       "      <th>...</th>\n",
       "      <td>...</td>\n",
       "      <td>...</td>\n",
       "      <td>...</td>\n",
       "      <td>...</td>\n",
       "    </tr>\n",
       "    <tr>\n",
       "      <th>29995</th>\n",
       "      <td>http://nbpd.org/services/vacationcheck.asp</td>\n",
       "      <td>Not Stopped Stopped Picked</td>\n",
       "      <td>Any pets at the residence</td>\n",
       "      <td>-5.676754</td>\n",
       "    </tr>\n",
       "    <tr>\n",
       "      <th>29996</th>\n",
       "      <td>https://fascinaction.hettich.com/en-de/misc-na...</td>\n",
       "      <td>pages may also have contents subject to the co...</td>\n",
       "      <td>and the like) of its Internet pages. The prote...</td>\n",
       "      <td>6.100319</td>\n",
       "    </tr>\n",
       "    <tr>\n",
       "      <th>29997</th>\n",
       "      <td>http://forums.devshed.com/mail-server-help-111...</td>\n",
       "      <td>are using. I've done a little research and I know</td>\n",
       "      <td>call RR I'm guessing they'll give you an addre...</td>\n",
       "      <td>-7.107425</td>\n",
       "    </tr>\n",
       "    <tr>\n",
       "      <th>29998</th>\n",
       "      <td>http://psychology.wikia.com/wiki/Semantic_Web</td>\n",
       "      <td>such as items for sale</td>\n",
       "      <td>late 1980s and early</td>\n",
       "      <td>-7.788626</td>\n",
       "    </tr>\n",
       "    <tr>\n",
       "      <th>29999</th>\n",
       "      <td>https://www.sharesmagazine.co.uk/funds/fund/NOU5</td>\n",
       "      <td>sectors.Mr. Reeve's service with the firm date...</td>\n",
       "      <td>was responsible for covering Singapore</td>\n",
       "      <td>-6.930495</td>\n",
       "    </tr>\n",
       "  </tbody>\n",
       "</table>\n",
       "<p>30000 rows × 4 columns</p>\n",
       "</div>"
      ],
      "text/plain": [
       "                                                    name  \\\n",
       "0                           http://www.bigw.org/members/   \n",
       "1      http://transcentury.blogspot.com/2016/12/its-a...   \n",
       "2      http://www.upi.com/blog/2013/07/15/Trayvon-Mar...   \n",
       "3      http://www.ecologyandsociety.org/vol18/iss1/art4/   \n",
       "4      http://www.phonearena.com/news/LG-infographic-...   \n",
       "...                                                  ...   \n",
       "29995         http://nbpd.org/services/vacationcheck.asp   \n",
       "29996  https://fascinaction.hettich.com/en-de/misc-na...   \n",
       "29997  http://forums.devshed.com/mail-server-help-111...   \n",
       "29998      http://psychology.wikia.com/wiki/Semantic_Web   \n",
       "29999   https://www.sharesmagazine.co.uk/funds/fund/NOU5   \n",
       "\n",
       "                                                content1  \\\n",
       "0      File Covers basic Unix commands, how to use e-...   \n",
       "1             Man. In Dog Man Unleashed, our hero has to   \n",
       "2      said, several \"splinter groups\" have been more...   \n",
       "3                                   listed in Annex I of   \n",
       "4                                    older. 20% of those   \n",
       "...                                                  ...   \n",
       "29995                         Not Stopped Stopped Picked   \n",
       "29996  pages may also have contents subject to the co...   \n",
       "29997  are using. I've done a little research and I know   \n",
       "29998                             such as items for sale   \n",
       "29999  sectors.Mr. Reeve's service with the firm date...   \n",
       "\n",
       "                                                content2  target_transformed  \n",
       "0      Log Statistics You can now monitor the traffic...           -4.454347  \n",
       "1         new rain gear. In \"Sitting Up Straight,\" a boy           -8.005033  \n",
       "2      downtown, while police in riot gear watched ov...           -6.606650  \n",
       "3                                 the 92/43/EEC Habitats            8.882392  \n",
       "4      that 75% of Americans would have no problem us...            5.605802  \n",
       "...                                                  ...                 ...  \n",
       "29995                          Any pets at the residence           -5.676754  \n",
       "29996  and the like) of its Internet pages. The prote...            6.100319  \n",
       "29997  call RR I'm guessing they'll give you an addre...           -7.107425  \n",
       "29998                               late 1980s and early           -7.788626  \n",
       "29999             was responsible for covering Singapore           -6.930495  \n",
       "\n",
       "[30000 rows x 4 columns]"
      ]
     },
     "execution_count": 1,
     "metadata": {},
     "output_type": "execute_result"
    }
   ],
   "source": [
    "import duckdb\n",
    "from tqdm import tqdm\n",
    "\n",
    "# Caminhos para os bancos de dados\n",
    "db1_path = 'fineweb.duckdb'  # Substitua pelo caminho do seu primeiro banco de dados\n",
    "db2_path = 'books.duckdb'  # Substitua pelo caminho do seu segundo banco de dados\n",
    "\n",
    "# Alias para o segundo banco de dados\n",
    "alias_db2 = 'db2_alias'\n",
    "\n",
    "# Conectar ao banco de dados principal\n",
    "conn = duckdb.connect(database=db1_path, read_only=False)\n",
    "\n",
    "\n",
    "# Anexar o segundo banco de dados\n",
    "conn.execute(f\"ATTACH DATABASE '{db2_path}' AS {alias_db2}\")\n",
    "\n",
    "# Verificar esquemas (opcional, mas recomendado)\n",
    "schema_main = conn.execute(\"DESCRIBE dataset\").fetchdf()\n",
    "schema_db2 = conn.execute(f\"DESCRIBE {alias_db2}.dataset\").fetchdf()\n",
    "\n",
    "if not schema_main.equals(schema_db2):\n",
    "\traise Exception(\"Os esquemas das tabelas 'dataset' nos dois bancos de dados não são compatíveis.\")\n",
    "\n",
    "# Executar a consulta modificada\n",
    "df_training = conn.execute(f\"\"\"\n",
    "WITH combined_dataset AS (\n",
    "\tSELECT * FROM dataset\n",
    "\tUNION ALL\n",
    "\tSELECT * FROM {alias_db2}.dataset\n",
    "),\n",
    "sampled_a AS (\n",
    "\tSELECT id, indice, content, name\n",
    "\tFROM (\n",
    "\tSELECT\n",
    "\t\tid,\n",
    "\t\tindice,\n",
    "\t\tcontent,\n",
    "\t\tname,\n",
    "\t\tROW_NUMBER() OVER (PARTITION BY name ORDER BY RANDOM()) AS rn\n",
    "\tFROM combined_dataset\n",
    "\t) sub\n",
    "\tWHERE rn <= 100\n",
    "),\n",
    "sampled_b AS (\n",
    "\tSELECT id, indice, content, name\n",
    "\tFROM (\n",
    "\tSELECT\n",
    "\t\tid,\n",
    "\t\tindice,\n",
    "\t\tcontent,\n",
    "\t\tname,\n",
    "\t\tROW_NUMBER() OVER (PARTITION BY name ORDER BY RANDOM()) AS rn\n",
    "\tFROM combined_dataset\n",
    "\t) sub\n",
    "\tWHERE rn <= 100\n",
    ")\n",
    "SELECT\n",
    "\ta.name AS name,\n",
    "\ta.content AS content1,\n",
    "\tb.content AS content2,\n",
    "\tSIGN(a.indice - b.indice) * LN(1 + ABS(a.indice - b.indice)) AS target_transformed\n",
    "FROM sampled_a a\n",
    "JOIN sampled_b b\n",
    "\tON a.name = b.name\n",
    "\tAND a.id != b.id\n",
    "ORDER BY RANDOM()\n",
    "LIMIT 30000;\n",
    "\"\"\").df()\n",
    "\n",
    "df_training"
   ]
  },
  {
   "cell_type": "code",
   "execution_count": 3,
   "metadata": {},
   "outputs": [],
   "source": [
    "conn.execute(f\"DETACH DATABASE {alias_db2}\")\n",
    "# Fechar a conexão com o banco de dados\n",
    "conn.close()"
   ]
  }
 ],
 "metadata": {
  "kernelspec": {
   "display_name": "base",
   "language": "python",
   "name": "python3"
  },
  "language_info": {
   "codemirror_mode": {
    "name": "ipython",
    "version": 3
   },
   "file_extension": ".py",
   "mimetype": "text/x-python",
   "name": "python",
   "nbconvert_exporter": "python",
   "pygments_lexer": "ipython3",
   "version": "3.12.2"
  }
 },
 "nbformat": 4,
 "nbformat_minor": 2
}
