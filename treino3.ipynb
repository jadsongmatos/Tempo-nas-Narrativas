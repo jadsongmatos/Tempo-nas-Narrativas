{
 "cells": [
  {
   "cell_type": "code",
   "execution_count": null,
   "metadata": {},
   "outputs": [
    {
     "data": {
      "application/vnd.jupyter.widget-view+json": {
       "model_id": "ec93eb29fd4b48d78e07049007e598e8",
       "version_major": 2,
       "version_minor": 0
      },
      "text/plain": [
       "FloatProgress(value=0.0, layout=Layout(width='auto'), style=ProgressStyle(bar_color='black'))"
      ]
     },
     "metadata": {},
     "output_type": "display_data"
    }
   ],
   "source": [
    "import duckdb\n",
    "\n",
    "# Conectar ao banco de dados principal\n",
    "conn = duckdb.connect(database='fineweb.duckdb', read_only=True)\n",
    "\n",
    "# Executar a consulta modificada\n",
    "df_training = conn.execute(f\"\"\"\n",
    "WITH sampled_a AS (\n",
    "    SELECT d.*\n",
    "    FROM dataset_details d\n",
    "),\n",
    "sampled_b AS (\n",
    "    SELECT d.*\n",
    "    FROM dataset_details d\n",
    ")\n",
    "SELECT\n",
    "    fn.name AS name,\n",
    "    a.content AS content1,\n",
    "    b.content AS content2,\n",
    "    a.indice - b.indice AS target,\n",
    "    SIGN(a.indice - b.indice) as teste,\n",
    "    SIGN(a.indice - b.indice) * (LN(1 + ABS(a.indice - b.indice)) / EXP(1)) AS target_transformed,\n",
    "    a.content_length AS a_content_length,\n",
    "    b.content_length AS b_content_length,\n",
    "    (a.content_length + b.content_length) as contents_length\n",
    "FROM sampled_a a\n",
    "JOIN sampled_b b ON a.name_id = b.name_id\n",
    "JOIN names fn ON fn.name_id = a.name_id\n",
    "WHERE contents_length < 5000\n",
    "ORDER BY contents_length DESC\n",
    "--ORDER BY ((a.content_length + b.content_length) * ((1/(1+ABS(target)))/100) ) DESC\n",
    "LIMIT 5000 OFFSET 0\n",
    "\"\"\").df()\n",
    "\n",
    "conn.close()\n",
    "\n",
    "df_training"
   ]
  },
  {
   "cell_type": "code",
   "execution_count": 4,
   "metadata": {},
   "outputs": [
    {
     "data": {
      "application/vnd.jupyter.widget-view+json": {
       "model_id": "0eca260e14864321ab8d7809aa368e2c",
       "version_major": 2,
       "version_minor": 0
      },
      "text/plain": [
       "FloatProgress(value=0.0, layout=Layout(width='auto'), style=ProgressStyle(bar_color='black'))"
      ]
     },
     "metadata": {},
     "output_type": "display_data"
    },
    {
     "data": {
      "application/vnd.jupyter.widget-view+json": {
       "model_id": "de67911ee83a45158b2331f8fdfcfb44",
       "version_major": 2,
       "version_minor": 0
      },
      "text/plain": [
       "FloatProgress(value=0.0, layout=Layout(width='auto'), style=ProgressStyle(bar_color='black'))"
      ]
     },
     "metadata": {},
     "output_type": "display_data"
    },
    {
     "data": {
      "application/vnd.jupyter.widget-view+json": {
       "model_id": "51b82463ff0e491ea0f4da56f1416a4d",
       "version_major": 2,
       "version_minor": 0
      },
      "text/plain": [
       "FloatProgress(value=0.0, layout=Layout(width='auto'), style=ProgressStyle(bar_color='black'))"
      ]
     },
     "metadata": {},
     "output_type": "display_data"
    },
    {
     "data": {
      "application/vnd.jupyter.widget-view+json": {
       "model_id": "7f406140f90e4cbc98071f6c6be19add",
       "version_major": 2,
       "version_minor": 0
      },
      "text/plain": [
       "FloatProgress(value=0.0, layout=Layout(width='auto'), style=ProgressStyle(bar_color='black'))"
      ]
     },
     "metadata": {},
     "output_type": "display_data"
    },
    {
     "data": {
      "application/vnd.jupyter.widget-view+json": {
       "model_id": "dac95eb41c9544bc989389b728c45bb0",
       "version_major": 2,
       "version_minor": 0
      },
      "text/plain": [
       "FloatProgress(value=0.0, layout=Layout(width='auto'), style=ProgressStyle(bar_color='black'))"
      ]
     },
     "metadata": {},
     "output_type": "display_data"
    },
    {
     "data": {
      "application/vnd.jupyter.widget-view+json": {
       "model_id": "f311cfdd5e2e4618a270af1665b33df8",
       "version_major": 2,
       "version_minor": 0
      },
      "text/plain": [
       "FloatProgress(value=0.0, layout=Layout(width='auto'), style=ProgressStyle(bar_color='black'))"
      ]
     },
     "metadata": {},
     "output_type": "display_data"
    },
    {
     "data": {
      "application/vnd.jupyter.widget-view+json": {
       "model_id": "586762b4f36d4649823c5eacd0104899",
       "version_major": 2,
       "version_minor": 0
      },
      "text/plain": [
       "FloatProgress(value=0.0, layout=Layout(width='auto'), style=ProgressStyle(bar_color='black'))"
      ]
     },
     "metadata": {},
     "output_type": "display_data"
    },
    {
     "data": {
      "application/vnd.jupyter.widget-view+json": {
       "model_id": "2aef02bdafa8460590918c444d8696fa",
       "version_major": 2,
       "version_minor": 0
      },
      "text/plain": [
       "FloatProgress(value=0.0, layout=Layout(width='auto'), style=ProgressStyle(bar_color='black'))"
      ]
     },
     "metadata": {},
     "output_type": "display_data"
    },
    {
     "data": {
      "application/vnd.jupyter.widget-view+json": {
       "model_id": "01a2c221b1b648ff909406b7602f7230",
       "version_major": 2,
       "version_minor": 0
      },
      "text/plain": [
       "FloatProgress(value=0.0, layout=Layout(width='auto'), style=ProgressStyle(bar_color='black'))"
      ]
     },
     "metadata": {},
     "output_type": "display_data"
    },
    {
     "data": {
      "application/vnd.jupyter.widget-view+json": {
       "model_id": "faa006586b9643eda7523fce1cf00645",
       "version_major": 2,
       "version_minor": 0
      },
      "text/plain": [
       "FloatProgress(value=0.0, layout=Layout(width='auto'), style=ProgressStyle(bar_color='black'))"
      ]
     },
     "metadata": {},
     "output_type": "display_data"
    },
    {
     "data": {
      "application/vnd.jupyter.widget-view+json": {
       "model_id": "3f5a97d5126045a8a8678ad5b868d0ba",
       "version_major": 2,
       "version_minor": 0
      },
      "text/plain": [
       "FloatProgress(value=0.0, layout=Layout(width='auto'), style=ProgressStyle(bar_color='black'))"
      ]
     },
     "metadata": {},
     "output_type": "display_data"
    },
    {
     "data": {
      "application/vnd.jupyter.widget-view+json": {
       "model_id": "75a09024b8d8465ab2c6f49c54cbb88d",
       "version_major": 2,
       "version_minor": 0
      },
      "text/plain": [
       "FloatProgress(value=0.0, layout=Layout(width='auto'), style=ProgressStyle(bar_color='black'))"
      ]
     },
     "metadata": {},
     "output_type": "display_data"
    },
    {
     "data": {
      "application/vnd.jupyter.widget-view+json": {
       "model_id": "f8322a9ee2504f3eb5810769514e9bc1",
       "version_major": 2,
       "version_minor": 0
      },
      "text/plain": [
       "FloatProgress(value=0.0, layout=Layout(width='auto'), style=ProgressStyle(bar_color='black'))"
      ]
     },
     "metadata": {},
     "output_type": "display_data"
    },
    {
     "data": {
      "application/vnd.jupyter.widget-view+json": {
       "model_id": "abf29dbd64464ef09d4fd27501e6578f",
       "version_major": 2,
       "version_minor": 0
      },
      "text/plain": [
       "FloatProgress(value=0.0, layout=Layout(width='auto'), style=ProgressStyle(bar_color='black'))"
      ]
     },
     "metadata": {},
     "output_type": "display_data"
    },
    {
     "data": {
      "application/vnd.jupyter.widget-view+json": {
       "model_id": "0441915f91d242908b84dec8dfb4eb92",
       "version_major": 2,
       "version_minor": 0
      },
      "text/plain": [
       "FloatProgress(value=0.0, layout=Layout(width='auto'), style=ProgressStyle(bar_color='black'))"
      ]
     },
     "metadata": {},
     "output_type": "display_data"
    },
    {
     "data": {
      "application/vnd.jupyter.widget-view+json": {
       "model_id": "62c867501c1f4763ad12faf1a5cc8646",
       "version_major": 2,
       "version_minor": 0
      },
      "text/plain": [
       "FloatProgress(value=0.0, layout=Layout(width='auto'), style=ProgressStyle(bar_color='black'))"
      ]
     },
     "metadata": {},
     "output_type": "display_data"
    },
    {
     "data": {
      "application/vnd.jupyter.widget-view+json": {
       "model_id": "ad898887ad6f4e16b705e516447c916e",
       "version_major": 2,
       "version_minor": 0
      },
      "text/plain": [
       "FloatProgress(value=0.0, layout=Layout(width='auto'), style=ProgressStyle(bar_color='black'))"
      ]
     },
     "metadata": {},
     "output_type": "display_data"
    },
    {
     "data": {
      "application/vnd.jupyter.widget-view+json": {
       "model_id": "83ae86eb682d4212a124dfa7fef5fe7b",
       "version_major": 2,
       "version_minor": 0
      },
      "text/plain": [
       "FloatProgress(value=0.0, layout=Layout(width='auto'), style=ProgressStyle(bar_color='black'))"
      ]
     },
     "metadata": {},
     "output_type": "display_data"
    },
    {
     "data": {
      "application/vnd.jupyter.widget-view+json": {
       "model_id": "15e34f5248b24eaead4bededa008c9f2",
       "version_major": 2,
       "version_minor": 0
      },
      "text/plain": [
       "FloatProgress(value=0.0, layout=Layout(width='auto'), style=ProgressStyle(bar_color='black'))"
      ]
     },
     "metadata": {},
     "output_type": "display_data"
    },
    {
     "data": {
      "application/vnd.jupyter.widget-view+json": {
       "model_id": "d695f2154762411bafa0aaf403aece38",
       "version_major": 2,
       "version_minor": 0
      },
      "text/plain": [
       "FloatProgress(value=0.0, layout=Layout(width='auto'), style=ProgressStyle(bar_color='black'))"
      ]
     },
     "metadata": {},
     "output_type": "display_data"
    },
    {
     "data": {
      "text/html": [
       "<div>\n",
       "<style scoped>\n",
       "    .dataframe tbody tr th:only-of-type {\n",
       "        vertical-align: middle;\n",
       "    }\n",
       "\n",
       "    .dataframe tbody tr th {\n",
       "        vertical-align: top;\n",
       "    }\n",
       "\n",
       "    .dataframe thead th {\n",
       "        text-align: right;\n",
       "    }\n",
       "</style>\n",
       "<table border=\"1\" class=\"dataframe\">\n",
       "  <thead>\n",
       "    <tr style=\"text-align: right;\">\n",
       "      <th></th>\n",
       "      <th>name</th>\n",
       "      <th>content1</th>\n",
       "      <th>content2</th>\n",
       "      <th>target</th>\n",
       "      <th>target_transformed</th>\n",
       "      <th>a_content_length</th>\n",
       "      <th>b_content_length</th>\n",
       "      <th>contents_length</th>\n",
       "    </tr>\n",
       "  </thead>\n",
       "  <tbody>\n",
       "    <tr>\n",
       "      <th>0</th>\n",
       "      <td>https://www.goodwinlaw.com/publications/2019/1...</td>\n",
       "      <td>will exclusively market and distribute Bioeq's...</td>\n",
       "      <td>It has been a busy week so far for biosimilar ...</td>\n",
       "      <td>1659</td>\n",
       "      <td>2.727669</td>\n",
       "      <td>461</td>\n",
       "      <td>2038</td>\n",
       "      <td>2499</td>\n",
       "    </tr>\n",
       "    <tr>\n",
       "      <th>1</th>\n",
       "      <td>https://www.wholehealthresources.com/articles/...</td>\n",
       "      <td>that recommendations can be customized for you...</td>\n",
       "      <td>safe and effective herbs that can clear lung, ...</td>\n",
       "      <td>435</td>\n",
       "      <td>2.235840</td>\n",
       "      <td>497</td>\n",
       "      <td>2002</td>\n",
       "      <td>2499</td>\n",
       "    </tr>\n",
       "    <tr>\n",
       "      <th>2</th>\n",
       "      <td>https://www.crimeandjustice.org.uk/publication...</td>\n",
       "      <td>demands. Alternative policy options exist, how...</td>\n",
       "      <td>need to acquiesce to such demands. Alternative...</td>\n",
       "      <td>26</td>\n",
       "      <td>1.212471</td>\n",
       "      <td>526</td>\n",
       "      <td>1973</td>\n",
       "      <td>2499</td>\n",
       "    </tr>\n",
       "    <tr>\n",
       "      <th>3</th>\n",
       "      <td>https://www.crimeandjustice.org.uk/publication...</td>\n",
       "      <td>sector cuts to be announced in the Comprehensi...</td>\n",
       "      <td>'offender' retains its utility in the complex ...</td>\n",
       "      <td>7256</td>\n",
       "      <td>3.270346</td>\n",
       "      <td>528</td>\n",
       "      <td>1971</td>\n",
       "      <td>2499</td>\n",
       "    </tr>\n",
       "    <tr>\n",
       "      <th>4</th>\n",
       "      <td>https://www.crimeandjustice.org.uk/publication...</td>\n",
       "      <td>to its ultimate conclusion in this instance, i...</td>\n",
       "      <td>of the term 'offender'. Crook argues that the ...</td>\n",
       "      <td>20760</td>\n",
       "      <td>3.657028</td>\n",
       "      <td>514</td>\n",
       "      <td>1985</td>\n",
       "      <td>2499</td>\n",
       "    </tr>\n",
       "    <tr>\n",
       "      <th>...</th>\n",
       "      <td>...</td>\n",
       "      <td>...</td>\n",
       "      <td>...</td>\n",
       "      <td>...</td>\n",
       "      <td>...</td>\n",
       "      <td>...</td>\n",
       "      <td>...</td>\n",
       "      <td>...</td>\n",
       "    </tr>\n",
       "    <tr>\n",
       "      <th>595</th>\n",
       "      <td>https://alvispat.wordpress.com/gosset-cavin-of...</td>\n",
       "      <td>Orator charges that before the death os his fa...</td>\n",
       "      <td>J (1851-) v. Richard Henry (ca1853-1896) vi. S...</td>\n",
       "      <td>3222</td>\n",
       "      <td>2.971755</td>\n",
       "      <td>1751</td>\n",
       "      <td>748</td>\n",
       "      <td>2499</td>\n",
       "    </tr>\n",
       "    <tr>\n",
       "      <th>596</th>\n",
       "      <td>http://cookeatshare.com/popular/apple-cake-usi...</td>\n",
       "      <td>Apple cake using apple pie filling Recipes / A...</td>\n",
       "      <td>Apple cake using apple pie filling Recipes / A...</td>\n",
       "      <td>0</td>\n",
       "      <td>0.000000</td>\n",
       "      <td>1687</td>\n",
       "      <td>812</td>\n",
       "      <td>2499</td>\n",
       "    </tr>\n",
       "    <tr>\n",
       "      <th>597</th>\n",
       "      <td>http://cookeatshare.com/popular/apple-cake-usi...</td>\n",
       "      <td>Apple cake using apple pie filling Recipes / A...</td>\n",
       "      <td>Apple cake using apple pie filling Recipes / A...</td>\n",
       "      <td>0</td>\n",
       "      <td>0.000000</td>\n",
       "      <td>812</td>\n",
       "      <td>1687</td>\n",
       "      <td>2499</td>\n",
       "    </tr>\n",
       "    <tr>\n",
       "      <th>598</th>\n",
       "      <td>http://metroland.net/back_issues/vol_26_no17/d...</td>\n",
       "      <td>establishments. Q: I tip the guys at the car w...</td>\n",
       "      <td>giving no extra money to take-out restaurants,...</td>\n",
       "      <td>1408</td>\n",
       "      <td>2.667360</td>\n",
       "      <td>1628</td>\n",
       "      <td>871</td>\n",
       "      <td>2499</td>\n",
       "    </tr>\n",
       "    <tr>\n",
       "      <th>599</th>\n",
       "      <td>http://metroland.net/back_issues/vol_26_no17/d...</td>\n",
       "      <td>a quarter, and calculate upward from there. Q:...</td>\n",
       "      <td>expect to frequent, slip the person a 10 on yo...</td>\n",
       "      <td>634</td>\n",
       "      <td>2.374156</td>\n",
       "      <td>857</td>\n",
       "      <td>1642</td>\n",
       "      <td>2499</td>\n",
       "    </tr>\n",
       "  </tbody>\n",
       "</table>\n",
       "<p>600 rows × 8 columns</p>\n",
       "</div>"
      ],
      "text/plain": [
       "                                                  name  \\\n",
       "0    https://www.goodwinlaw.com/publications/2019/1...   \n",
       "1    https://www.wholehealthresources.com/articles/...   \n",
       "2    https://www.crimeandjustice.org.uk/publication...   \n",
       "3    https://www.crimeandjustice.org.uk/publication...   \n",
       "4    https://www.crimeandjustice.org.uk/publication...   \n",
       "..                                                 ...   \n",
       "595  https://alvispat.wordpress.com/gosset-cavin-of...   \n",
       "596  http://cookeatshare.com/popular/apple-cake-usi...   \n",
       "597  http://cookeatshare.com/popular/apple-cake-usi...   \n",
       "598  http://metroland.net/back_issues/vol_26_no17/d...   \n",
       "599  http://metroland.net/back_issues/vol_26_no17/d...   \n",
       "\n",
       "                                              content1  \\\n",
       "0    will exclusively market and distribute Bioeq's...   \n",
       "1    that recommendations can be customized for you...   \n",
       "2    demands. Alternative policy options exist, how...   \n",
       "3    sector cuts to be announced in the Comprehensi...   \n",
       "4    to its ultimate conclusion in this instance, i...   \n",
       "..                                                 ...   \n",
       "595  Orator charges that before the death os his fa...   \n",
       "596  Apple cake using apple pie filling Recipes / A...   \n",
       "597  Apple cake using apple pie filling Recipes / A...   \n",
       "598  establishments. Q: I tip the guys at the car w...   \n",
       "599  a quarter, and calculate upward from there. Q:...   \n",
       "\n",
       "                                              content2  target  \\\n",
       "0    It has been a busy week so far for biosimilar ...    1659   \n",
       "1    safe and effective herbs that can clear lung, ...     435   \n",
       "2    need to acquiesce to such demands. Alternative...      26   \n",
       "3    'offender' retains its utility in the complex ...    7256   \n",
       "4    of the term 'offender'. Crook argues that the ...   20760   \n",
       "..                                                 ...     ...   \n",
       "595  J (1851-) v. Richard Henry (ca1853-1896) vi. S...    3222   \n",
       "596  Apple cake using apple pie filling Recipes / A...       0   \n",
       "597  Apple cake using apple pie filling Recipes / A...       0   \n",
       "598  giving no extra money to take-out restaurants,...    1408   \n",
       "599  expect to frequent, slip the person a 10 on yo...     634   \n",
       "\n",
       "     target_transformed  a_content_length  b_content_length  contents_length  \n",
       "0              2.727669               461              2038             2499  \n",
       "1              2.235840               497              2002             2499  \n",
       "2              1.212471               526              1973             2499  \n",
       "3              3.270346               528              1971             2499  \n",
       "4              3.657028               514              1985             2499  \n",
       "..                  ...               ...               ...              ...  \n",
       "595            2.971755              1751               748             2499  \n",
       "596            0.000000              1687               812             2499  \n",
       "597            0.000000               812              1687             2499  \n",
       "598            2.667360              1628               871             2499  \n",
       "599            2.374156               857              1642             2499  \n",
       "\n",
       "[600 rows x 8 columns]"
      ]
     },
     "execution_count": 4,
     "metadata": {},
     "output_type": "execute_result"
    }
   ],
   "source": [
    "import duckdb\n",
    "import matplotlib.pyplot as plt\n",
    "import pandas as pd\n",
    "\n",
    "# Conectar ao banco de dados principal\n",
    "conn = duckdb.connect(database='fineweb.duckdb', read_only=True)\n",
    "\n",
    "offset = 0\n",
    "batch_size = 30\n",
    "\n",
    "def fetch_data():\n",
    "    global offset\n",
    "    \n",
    "    query = f\"\"\"        \n",
    "WITH sampled_a AS (\n",
    "    SELECT d.*\n",
    "    FROM dataset_details d\n",
    "),\n",
    "sampled_b AS (\n",
    "    SELECT d.*\n",
    "    FROM dataset_details d\n",
    ")\n",
    "SELECT\n",
    "    fn.name AS name,\n",
    "    a.content AS content1,\n",
    "    b.content AS content2,\n",
    "    a.indice - b.indice AS target,\n",
    "    SIGN(a.indice - b.indice) * (LN(1 + ABS(a.indice - b.indice))/EXP(1)) AS target_transformed,\n",
    "    a.content_length AS a_content_length,\n",
    "    b.content_length AS b_content_length,\n",
    "    (a.content_length + b.content_length) as contents_length\n",
    "FROM sampled_a a\n",
    "JOIN sampled_b b ON a.name_id = b.name_id\n",
    "JOIN names fn ON fn.name_id = a.name_id\n",
    "WHERE contents_length < 2500 and target >= 0 and a.id > {offset}\n",
    "ORDER BY contents_length DESC\n",
    "LIMIT {batch_size}\n",
    "        \"\"\"\n",
    "    df = conn.execute(query).df()\n",
    "    offset += batch_size  # Increment by batch_size for correct paginatio\n",
    "\n",
    "    return df\n",
    "\n",
    "\n",
    "df = pd.DataFrame()\n",
    "\n",
    "for i in range(20):\n",
    "    df = pd.concat([df, fetch_data()], ignore_index=True)\n",
    "\n",
    "df"
   ]
  },
  {
   "cell_type": "code",
   "execution_count": 5,
   "metadata": {},
   "outputs": [],
   "source": [
    "df_reversed = df.copy()\n",
    "\n",
    "# Inverter as colunas 'content1' e 'content2'\n",
    "df_reversed[['content1', 'content2']] = df_reversed[['content2', 'content1']]\n",
    "\n",
    "# Negar os valores da coluna 'target_transformed'\n",
    "df_reversed['target_transformed'] = -df_reversed['target_transformed']\n",
    "\n",
    "# Concatenar o DataFrame original com o invertido\n",
    "df = pd.concat([df, df_reversed], ignore_index=True)"
   ]
  },
  {
   "cell_type": "code",
   "execution_count": 6,
   "metadata": {},
   "outputs": [
    {
     "data": {
      "image/png": "[encoded data removed]",
      "text/plain": [
       "<Figure size 640x480 with 1 Axes>"
      ]
     },
     "metadata": {},
     "output_type": "display_data"
    }
   ],
   "source": [
    "plt.hist(df['target_transformed'], bins=50, alpha=0.5, label='target')\n",
    "plt.legend()\n",
    "plt.show()"
   ]
  },
  {
   "cell_type": "code",
   "execution_count": 22,
   "metadata": {},
   "outputs": [
    {
     "name": "stdout",
     "output_type": "stream",
     "text": [
      "torch.Size([150, 2, 39, 2048]) torch.Size([150]) torch.Size([150])\n"
     ]
    }
   ],
   "source": [
    "#  Converter DataLoader para iterador\n",
    "data_iter = iter(train_dataloader)\n",
    "# Pegar o primeiro lote\n",
    "embeddings, lengths, targets = next(data_iter)\n",
    "print(embeddings.shape,lengths.shape,targets.shape)"
   ]
  },
  {
   "cell_type": "code",
   "execution_count": 48,
   "metadata": {},
   "outputs": [
    {
     "name": "stdout",
     "output_type": "stream",
     "text": [
      "torch.Size([150, 2, 45, 2048]) torch.Size([150, 2]) torch.Size([150])\n"
     ]
    }
   ],
   "source": [
    "embeddings, lengths, targets = next(data_iter)\n",
    "print(embeddings.shape,lengths.shape,targets.shape)"
   ]
  },
  {
   "cell_type": "code",
   "execution_count": 78,
   "metadata": {},
   "outputs": [
    {
     "data": {
      "text/plain": [
       "torch.Size([150, 2, 17, 2048])"
      ]
     },
     "execution_count": 78,
     "metadata": {},
     "output_type": "execute_result"
    }
   ],
   "source": [
    "#  Converter DataLoader para iterador\n",
    "data_iter = iter(validation_dataloader)\n",
    "# Pegar o primeiro lote\n",
    "embeddings, lengths, targets = next(data_iter)\n",
    "embeddings.shape"
   ]
  },
  {
   "cell_type": "code",
   "execution_count": 1,
   "metadata": {},
   "outputs": [],
   "source": [
    "desvios_padrao = 1#4\n",
    "\n",
    "import numpy as np\n",
    "\n",
    "def signed_transform(y):\n",
    "    \"\"\"\n",
    "    Aplica a transformação assinada: ln(1 + |y|) / e¹\n",
    "    \"\"\"\n",
    "    return np.sign(y) * np.log1p(np.abs(y)) / np.exp(1)\n",
    "\n",
    "def inverse_signed_transform(y_transformed):\n",
    "    \"\"\"\n",
    "    Aplica a transformação inversa: e^(e¹ * |y_transformed|) - 1\n",
    "    \"\"\"\n",
    "    return np.sign(y_transformed) * (np.exp((np.exp(1)) * np.abs(y_transformed)) - 1)\n",
    "\n",
    "def dissimilaridade(S):\n",
    "    \"\"\"\n",
    "    Calcula a dissimilaridade com ajuste para S igual a zero.\n",
    "    \"\"\"\n",
    "    epsilon = 0\n",
    "    if S == 0:\n",
    "        max_x = np.log(np.finfo(np.float32).max)\n",
    "        epsilon = 1 / (max_x - 1)\n",
    "    \n",
    "    return (1 - (S + epsilon)) / (S + epsilon)"
   ]
  },
  {
   "cell_type": "code",
   "execution_count": 2,
   "metadata": {},
   "outputs": [
    {
     "name": "stdout",
     "output_type": "stream",
     "text": [
      "negative_threshold: -0.25499459743395353\n",
      "positive_threshold: 0.25499459743395353\n"
     ]
    }
   ],
   "source": [
    "# Definir os limites para considerar positivo ou negativo\n",
    "negative_threshold = signed_transform(-1)/desvios_padrao\n",
    "positive_threshold = signed_transform(1)/desvios_padrao\n",
    "\n",
    "print(\"negative_threshold:\", negative_threshold)\n",
    "print(\"positive_threshold:\", positive_threshold)"
   ]
  },
  {
   "cell_type": "code",
   "execution_count": 3,
   "metadata": {},
   "outputs": [
    {
     "name": "stdout",
     "output_type": "stream",
     "text": [
      "Using GPU: NVIDIA GeForce RTX 3050 Laptop GPU\n"
     ]
    }
   ],
   "source": [
    "import torch\n",
    "import gc\n",
    "\n",
    "if not torch.cuda.is_available():\n",
    "    print(\"CUDA is not available. Please ensure you have a compatible GPU and drivers installed.\")\n",
    "else:\n",
    "    print(f\"Using GPU: {torch.cuda.get_device_name(0)}\")"
   ]
  },
  {
   "cell_type": "code",
   "execution_count": 4,
   "metadata": {},
   "outputs": [],
   "source": [
    "import torch\n",
    "import numpy as np\n",
    "from transformers import AutoTokenizer\n",
    "import os\n",
    "\n",
    "# Definir paralelismo corretamente\n",
    "os.environ[\"TOKENIZERS_PARALLELISM\"] = \"true\"\n",
    "\n",
    "class TextToEmbedding:\n",
    "    def __init__(self, weights_path, num_ids=128256, vector_size=2048, device='cpu'):\n",
    "        \"\"\"\n",
    "        Inicializa a classe TextToEmbedding sem padding fixo.\n",
    "\n",
    "        Args:\n",
    "            weights_path (str): Caminho para o arquivo .npy que contém os pesos.\n",
    "            num_ids (int, opcional): Número total de IDs. Padrão é 128256.\n",
    "            vector_size (int, opcional): Tamanho de cada vetor de embedding. Padrão é 2048.\n",
    "            device (str, opcional): Dispositivo para carregar os tensores ('cpu' ou 'cuda'). Padrão é 'cpu'.\n",
    "        \"\"\"\n",
    "\t\t\n",
    "        self.device = device\n",
    "\n",
    "        # Carrega o tokenizer sem padding fixo\n",
    "        self.tokenizer = AutoTokenizer.from_pretrained(\"unsloth/Llama-3.2-1B\", use_fast=True)\n",
    "        \n",
    "        # Carrega os pesos a partir do arquivo .npy\n",
    "        try:\n",
    "            weights_np = np.load(weights_path)\n",
    "            self.weights = torch.from_numpy(weights_np).to(self.device)\n",
    "        except FileNotFoundError:\n",
    "            raise FileNotFoundError(f\"O arquivo de pesos '{weights_path}' não foi encontrado.\")\n",
    "        except Exception as e:\n",
    "            raise RuntimeError(f\"Erro ao carregar os pesos: {e}\")\n",
    "        \n",
    "        # Verifica a forma dos pesos\n",
    "        if self.weights.shape != (num_ids, vector_size):\n",
    "            raise ValueError(f\"O formato do arquivo weights.npy é {self.weights.shape}, mas era esperado {(num_ids, vector_size)}.\")\n",
    "\n",
    "embedding_generator = TextToEmbedding(\"weights_half.npy\", device='cpu')"
   ]
  },
  {
   "cell_type": "code",
   "execution_count": 5,
   "metadata": {},
   "outputs": [],
   "source": [
    "import pandas as pd\n",
    "import torch\n",
    "from torch.utils.data import Dataset, DataLoader\n",
    "import numpy as np\n",
    "\n",
    "class SequenceDataset_val(Dataset):\n",
    "    def __init__(self, df):\n",
    "        self.df = df.reset_index(drop=True)\n",
    "\n",
    "        # Normalizar o target\n",
    "        self.df['target_norm'] = self.df['target_transformed'] / desvios_padrao\n",
    "        #self.df['target_norm'] = scaler.transform(self.df[['target_transformed']])\n",
    "\n",
    "        # Definir o número de elementos originais em cada coluna\n",
    "        num_content1 = len(self.df['content1'])\n",
    "\n",
    "        # Combinar as duas colunas de conteúdo em uma lista\n",
    "        contents = list(self.df['content1']) + list(self.df['content2'])\n",
    "\n",
    "        # Tokenização combinada\n",
    "        encoding = embedding_generator.tokenizer(\n",
    "            contents,\n",
    "            return_tensors=\"pt\",\n",
    "            padding=True,  # Padding dinâmico\n",
    "            truncation=True\n",
    "        )\n",
    "\n",
    "        # Separar os encodings de volta para cada conjunto\n",
    "        encoding1 = {key: encoding[key][:num_content1] for key in encoding.keys()}\n",
    "        encoding2 = {key: encoding[key][num_content1:] for key in encoding.keys()}\n",
    "\n",
    "        # Converter para o dispositivo\n",
    "        input_ids1 = encoding1['input_ids'].to(embedding_generator.device)\n",
    "        attention_mask1 = encoding1['attention_mask'].to(embedding_generator.device)\n",
    "        input_ids2 = encoding2['input_ids'].to(embedding_generator.device)\n",
    "        attention_mask2 = encoding2['attention_mask'].to(embedding_generator.device)\n",
    "\n",
    "        # Obter embeddings\n",
    "        embeddings1 = embedding_generator.weights[input_ids1]\n",
    "        embeddings2 = embedding_generator.weights[input_ids2]\n",
    "\n",
    "        # Concatenar as duas sequências no eixo 1\n",
    "        self.embeddings = torch.stack([embeddings1, embeddings2], dim=1)  # (batch_size, 2, seq_length, vector_size)\n",
    "\n",
    "        # Calcular comprimentos\n",
    "        lengths1 = attention_mask1.sum(dim=1)\n",
    "        lengths2 = attention_mask2.sum(dim=1)\n",
    "        self.lengths = torch.stack([lengths1, lengths2], dim=1)  # (batch_size, 2)\n",
    "\n",
    "        # Calcular comprimento combinado (exemplo: máximo dos dois)\n",
    "        combined_lengths = torch.max(lengths1, lengths2)\n",
    "\n",
    "        # Obter índices ordenados em ordem decrescente de comprimento combinado\n",
    "        sorted_idx = combined_lengths.argsort(descending=True)\n",
    "\n",
    "        # Ordenar embeddings, comprimentos e targets\n",
    "        self.embeddings = self.embeddings[sorted_idx]\n",
    "        self.lengths = self.lengths[sorted_idx]\n",
    "        self.targets = torch.tensor(self.df['target_norm'].values, dtype=torch.float16)[sorted_idx]\n",
    "\n",
    "    def __len__(self):\n",
    "        return len(self.df)\n",
    "\n",
    "    def __getitem__(self, idx):\n",
    "        return self.embeddings[idx], self.lengths[idx], self.targets[idx]"
   ]
  },
  {
   "cell_type": "code",
   "execution_count": 6,
   "metadata": {},
   "outputs": [],
   "source": [
    "import torch\n",
    "from torch.utils.data import IterableDataset, DataLoader\n",
    "import duckdb\n",
    "from tqdm import tqdm\n",
    "import pandas as pd\n",
    "\n",
    "db1_path = 'fineweb.duckdb'\n",
    "batch_size = 30\n",
    "\n",
    "class IterableSequenceDataset(IterableDataset):\n",
    "\tdef __init__(self, db1_path, batch_size):\n",
    "\t\tsuper(IterableSequenceDataset, self).__init__()\n",
    "\t\tself.db1_path = db1_path\n",
    "\t\tself.batch_size = batch_size\n",
    "\t\tself.offset = 0\n",
    "\n",
    "\tdef _fetch_data(self, conn):\n",
    "\t\tquery = f\"\"\"        \n",
    "WITH sampled_a AS (\n",
    "\tSELECT d.*\n",
    "\tFROM dataset_details d\n",
    "),\n",
    "sampled_b AS (\n",
    "\tSELECT d.*\n",
    "\tFROM dataset_details d\n",
    ")\n",
    "SELECT\n",
    "\tfn.name AS name,\n",
    "\ta.content AS content1,\n",
    "\tb.content AS content2,\n",
    "\ta.indice - b.indice AS target,\n",
    "\tSIGN(target) * (LN(1 + ABS(target))/EXP(1)) AS target_transformed,\n",
    "\ta.content_length AS a_content_length,\n",
    "\tb.content_length AS b_content_length,\n",
    "\t(a.content_length + b.content_length) as contents_length\n",
    "FROM sampled_a a\n",
    "JOIN sampled_b b ON a.name_id = b.name_id\n",
    "JOIN names fn ON fn.name_id = a.name_id\n",
    "WHERE contents_length < 2600 and target >= 0 and a.id > {self.offset}\n",
    "ORDER BY contents_length DESC\n",
    "LIMIT {self.batch_size}\n",
    "\t\t\"\"\"\n",
    "\t\tdf = conn.execute(query).df()\n",
    "\t\tself.offset += batch_size\n",
    "\n",
    "\t\tdf_reversed = df.copy()\n",
    "\n",
    "\t\t# Inverter as colunas 'content1' e 'content2'\n",
    "\t\tdf_reversed[['content1', 'content2']] = df_reversed[['content2', 'content1']]\n",
    "\n",
    "\t\t# Negar os valores da coluna 'target_transformed'\n",
    "\t\tdf_reversed['target_transformed'] = -df_reversed['target_transformed']\n",
    "\n",
    "\t\t# Concatenar o DataFrame original com o invertido\n",
    "\t\tdf = pd.concat([df, df_reversed], ignore_index=True)\n",
    "\n",
    "\t\t# Normalizar o target\n",
    "\t\tdf['target_norm'] = df['target_transformed'] / desvios_padrao\n",
    "\t\t#df['target_norm'] = scaler.transform(df[['target_transformed']])\n",
    "\n",
    "\t\t# Defina o número de elementos originais em cada coluna\n",
    "\t\tnum_content1 = len(df['content1'])\n",
    "\n",
    "\t\t# Combinar as duas colunas de conteúdo em uma lista\n",
    "\t\tcontents = list(df['content1']) + list(df['content2'])\n",
    "\n",
    "\t\t# Tokenização combinada\n",
    "\t\tencoding = embedding_generator.tokenizer(\n",
    "\t\t\tcontents,\n",
    "\t\t\treturn_tensors=\"pt\",\n",
    "\t\t\tpadding=True,  # Padding dinâmico\n",
    "\t\t\ttruncation=True\n",
    "\t\t)\n",
    "\n",
    "\t\t# Separar os encodings de volta para cada conjunto\n",
    "\t\tencoding1 = {key: encoding[key][:num_content1] for key in encoding.keys()}\n",
    "\t\tencoding2 = {key: encoding[key][num_content1:] for key in encoding.keys()}\n",
    "\n",
    "\t\t# Converter para o dispositivo\n",
    "\t\tinput_ids1 = encoding1['input_ids'].to(embedding_generator.device)\n",
    "\t\tattention_mask1 = encoding1['attention_mask'].to(embedding_generator.device)\n",
    "\t\tinput_ids2 = encoding2['input_ids'].to(embedding_generator.device)\n",
    "\t\tattention_mask2 = encoding2['attention_mask'].to(embedding_generator.device)\n",
    "\n",
    "\t\t# Obter embeddings\n",
    "\t\tembeddings1 = embedding_generator.weights[input_ids1]\n",
    "\t\tembeddings2 = embedding_generator.weights[input_ids2]\n",
    "\n",
    "\t\t# Concatenar as duas sequências no eixo 1\n",
    "\t\tembeddings = torch.stack([embeddings1, embeddings2], dim=1)  # (batch_size, 2, seq_length, vector_size)\n",
    "\n",
    "\t\t# Calcular comprimentos\n",
    "\t\tlengths1 = attention_mask1.sum(dim=1)\n",
    "\t\tlengths2 = attention_mask2.sum(dim=1)\n",
    "\t\tlengths = torch.stack([lengths1, lengths2], dim=1)  # (batch_size, 2)\n",
    "\n",
    "\t\t# Calcular comprimento combinado (máximo dos dois)\n",
    "\t\tcombined_lengths = torch.max(lengths1, lengths2)\n",
    "\n",
    "\t\t# Obter índices ordenados em ordem decrescente de comprimento combinado\n",
    "\t\tsorted_idx = combined_lengths.argsort(descending=True)\n",
    "\n",
    "\t\t# Ordenar embeddings, comprimentos e targets\n",
    "\t\tembeddings = embeddings[sorted_idx]\n",
    "\t\tlengths = lengths[sorted_idx]\n",
    "\t\ttargets = torch.tensor(df['target_norm'].values, dtype=torch.float16)[sorted_idx]\n",
    "\n",
    "\t\treturn embeddings, lengths, targets\n",
    "\n",
    "\tdef __iter__(self):\n",
    "\t\t\"\"\"\n",
    "\t\tIterator que gera dados continuamente.\n",
    "\n",
    "\t\tYields:\n",
    "\t\t\ttuple: (embeddings, lengths, targets) para cada amostra.\n",
    "\t\t\"\"\"\n",
    "\t\t# Estabelecer conexão com DuckDB\n",
    "\t\tconn = duckdb.connect(database=self.db1_path, read_only=True)\n",
    "\t\tconn.execute(\"SET enable_progress_bar=false\")\n",
    "\n",
    "\t\t# Anexar o segundo banco de dados com um alias 'db2'\n",
    "\t\t#conn.execute(f\"ATTACH '{self.db2_path}' AS db2\")\n",
    "\n",
    "\t\ttry:\n",
    "\t\t\twhile True:\n",
    "\t\t\t\tembeddings, lengths, targets = self._fetch_data(conn)\n",
    "\t\t\t\tif embeddings is None:\n",
    "\t\t\t\t\tbreak  # Termina a iteração se não houver mais dados\n",
    "\n",
    "\t\t\t\tyield embeddings, lengths, targets\n",
    "\t\t\t\t\n",
    "\t\tfinally:\n",
    "\t\t\t# Garantir que a conexão seja fechada quando o iterador for finalizado\n",
    "\t\t\tconn.close()"
   ]
  },
  {
   "cell_type": "code",
   "execution_count": 7,
   "metadata": {},
   "outputs": [],
   "source": [
    "import pandas as pd\n",
    "\n",
    "data = {\n",
    "    'content1': [\n",
    "        \"A tempestade durou várias horas durante a noite.\",\n",
    "        \"Ele estudou intensamente para o exame.\",\n",
    "        \"A fábrica reduziu a emissão de poluentes.\",\n",
    "        \"Maria começou a praticar exercícios regularmente.\",\n",
    "        \"O motor do carro parou de funcionar.\",\n",
    "        \"Houve uma forte seca na região.\",\n",
    "        \"Ela começou a dormir melhor.\",\n",
    "        \"A escola adotou uma alimentação saudável.\",\n",
    "        \"O projeto teve apoio governamental.\",\n",
    "        \"A internet caiu durante a reunião.\",\n",
    "        \"Ele começou a economizar dinheiro mensalmente.\",\n",
    "        \"A estrada estava em péssimo estado de conservação.\",\n",
    "        \"O sistema de ar condicionado foi desligado no escritório.\",\n",
    "        \"A empresa investiu em marketing digital.\",\n",
    "        \"Ana não revisou o relatório antes de enviar.\",\n",
    "        \"As crianças brincaram no parque até tarde.\",\n",
    "        \"O curso de capacitação foi oferecido aos funcionários.\",\n",
    "        \"Ele comprou um celular novo com câmera de alta qualidade.\",\n",
    "        \"A reforma no prédio foi concluída.\",\n",
    "        \"A região teve um crescimento populacional rápido.\",\n",
    "        \"Carla começou a meditar diariamente.\",\n",
    "        \"O atleta intensificou seu treino antes da competição.\",\n",
    "        \"O sinal de celular na região foi ampliado.\",\n",
    "        \"As temperaturas caíram drasticamente durante o inverno.\",\n",
    "        \"Ele não configurou o alarme antes de dormir.\",\n",
    "        \"A empresa ofereceu benefícios extras para seus funcionários.\",\n",
    "        \"Houve um vazamento de gás na cozinha do restaurante.\",\n",
    "        \"A biblioteca da escola foi modernizada com novos livros e tecnologia.\",\n",
    "        \"Marcos passou a fazer pausas regulares durante o expediente.\",\n",
    "        \"A empresa desenvolveu um aplicativo intuitivo para clientes.\",\n",
    "        \"Devido ao aumento das chuvas nas últimas semanas, o nível dos rios subiu rapidamente e ultrapassou a capacidade das barragens.\",\n",
    "        \"Ela decidiu começar uma rotina de alimentação balanceada, exercícios físicos regulares e meditação diária para melhorar sua saúde física e mental.\",\n",
    "        \"A empresa, que sofria com baixos índices de produtividade, implementou uma nova estratégia de gestão focada no desenvolvimento dos funcionários e na cultura organizacional.\",\n",
    "        \"O governo lançou um programa nacional de reciclagem e incentivou a participação ativa dos cidadãos por meio de campanhas de conscientização em escolas, empresas e residências.\",\n",
    "        \"Após uma longa estiagem que afetou grande parte do território agrícola do país, o governo implementou um pacote emergencial de apoio aos agricultores, incluindo subsídios e incentivos para a recuperação das lavouras.\",\n",
    "        \"Ele deixou o celular carregando a noite inteira sem usar carregadores de segurança e em um local sem ventilação.\",\n",
    "        \"A comunidade local se uniu para limpar e revitalizar a praça abandonada, que estava sem manutenção há anos e havia se tornado um ponto de descarte irregular de lixo.\",\n",
    "        \"Durante a reforma do prédio, descobriu-se que a estrutura tinha falhas graves, e o prazo para conclusão foi ampliado em seis meses para garantir a segurança.\",\n",
    "        \"Um furacão atingiu a região costeira do país, com ventos de mais de 200 km/h, causando destruição em várias cidades e deixando milhares de pessoas desabrigadas.\",\n",
    "        \"Ela esqueceu de regar a planta de sua varanda durante o mês todo, e o clima estava seco.\",\n",
    "        \"João quebrou o braço jogando futebol.\",\n",
    "        \"Devido a uma combinação de fatores climáticos extremos, incluindo ventos fortes e chuvas intensas, a região sofreu graves danos estruturais e interrupção no fornecimento de energia elétrica por vários dias.\",\n",
    "        \"Ela esqueceu de levar o guarda-chuva.\",\n",
    "        \"A empresa adotou práticas sustentáveis em sua produção, reduzindo o uso de plástico e implementando programas de reciclagem.\",\n",
    "        \"A criança se recusou a comer legumes durante toda a semana.\",\n",
    "        \"Após anos de pesquisa e desenvolvimento, a equipe científica finalmente descobriu um método eficiente para produzir energia limpa a partir de fontes renováveis.\",\n",
    "        \"O café da manhã foi esquecido.\",\n",
    "        \"A iniciativa comunitária organizou mutirões de limpeza nas praias locais regularmente durante o verão.\",\n",
    "        \"Ele atualizou seu currículo e participou de várias entrevistas de emprego nos últimos meses.\",\n",
    "        \"O artista decidiu experimentar novas técnicas em suas pinturas, incorporando elementos digitais e materiais reciclados em suas obras.\"\n",
    "    ],\n",
    "    \"content2\": [\n",
    "        \"Pela manhã, muitas ruas estavam alagadas.\",\n",
    "        \"Conseguiu uma nota alta na prova.\",\n",
    "        \"A qualidade do ar na cidade melhorou.\",\n",
    "        \"Ela perdeu peso e aumentou sua energia.\",\n",
    "        \"Ele teve que chamar o guincho para levar o carro à oficina.\",\n",
    "        \"As plantações foram prejudicadas, e a colheita foi menor.\",\n",
    "        \"Sua disposição durante o dia melhorou significativamente.\",\n",
    "        \"Os alunos passaram a ter mais energia e melhor concentração.\",\n",
    "        \"Conseguiu concluir as fases iniciais rapidamente.\",\n",
    "        \"A comunicação com a equipe foi interrompida.\",\n",
    "        \"Conseguiu juntar uma quantia para uma viagem.\",\n",
    "        \"O trânsito ficou mais lento e perigoso para os motoristas.\",\n",
    "        \"O ambiente ficou quente e desconfortável para os funcionários.\",\n",
    "        \"As vendas aumentaram significativamente.\",\n",
    "        \"O documento continha erros e precisou ser corrigido.\",\n",
    "        \"Elas ficaram cansadas e dormiram rapidamente ao chegar em casa.\",\n",
    "        \"Eles melhoraram suas habilidades e eficiência no trabalho.\",\n",
    "        \"Passou a tirar fotos mais nítidas e de melhor resolução.\",\n",
    "        \"O local ficou mais seguro e esteticamente agradável.\",\n",
    "        \"A demanda por moradias e serviços aumentou consideravelmente.\",\n",
    "        \"Ela sentiu uma melhora no seu foco e redução do estresse.\",\n",
    "        \"Teve um melhor desempenho e conquistou o primeiro lugar.\",\n",
    "        \"A conexão ficou mais estável e acessível para os moradores.\",\n",
    "        \"A procura por agasalhos e cobertores aumentou nas lojas.\",\n",
    "        \"Acabou se atrasando para o trabalho na manhã seguinte.\",\n",
    "        \"A satisfação e motivação dos colaboradores aumentaram.\",\n",
    "        \"O local foi evacuado por segurança, e o serviço foi interrompido temporariamente.\",\n",
    "        \"Os alunos começaram a frequentá-la mais e a melhorar seu desempenho acadêmico.\",\n",
    "        \"Ele se sentiu mais produtivo e menos cansado ao final do dia.\",\n",
    "        \"O número de usuários aumentou rapidamente.\",\n",
    "        \"Diversas áreas urbanas e rurais foram afetadas por inundações, forçando muitas famílias a deixarem suas casas temporariamente.\",\n",
    "        \"Em poucos meses, notou uma grande melhora em sua disposição, concentração e níveis de energia, além de perder peso.\",\n",
    "        \"Em menos de um ano, a moral da equipe melhorou, a rotatividade diminuiu, e a produtividade geral aumentou em cerca de 30%.\",\n",
    "        \"Como resultado, houve uma redução significativa na quantidade de resíduos sólidos em aterros e uma maior economia de recursos naturais.\",\n",
    "        \"Em um ano, a produção agrícola voltou a níveis estáveis, e o impacto econômico negativo foi mitigado, beneficiando a população.\",\n",
    "        \"Pela manhã, o dispositivo estava superaquecido e apresentou danos permanentes na bateria, reduzindo sua capacidade de funcionamento.\",\n",
    "        \"Com a revitalização, a praça voltou a ser um local de encontro para moradores, e a segurança da área também melhorou.\",\n",
    "        \"Apesar do atraso, a reforma resultou em um edifício mais seguro, confortável e com um aumento significativo no valor do imóvel.\",\n",
    "        \"A resposta emergencial foi mobilizada rapidamente, com abrigos temporários e ajuda humanitária distribuída para minimizar o impacto nas vítimas.\",\n",
    "        \"A planta murchou completamente e, infelizmente, não conseguiu ser recuperada, tendo que ser substituída.\",\n",
    "        \"Ele ficou impossibilitado de trabalhar por duas semanas.\",\n",
    "        \"A comunidade teve que recorrer a abrigos temporários, e a economia local sofreu uma queda significativa devido à paralisação das atividades comerciais.\",\n",
    "        \"Ficou molhada durante o trajeto para o trabalho.\",\n",
    "        \"A reputação da empresa melhorou, atraindo consumidores conscientes e aumentando as vendas em 20%.\",\n",
    "        \"Sua mãe ficou preocupada com a falta de nutrientes na alimentação dele e decidiu consultar um nutricionista.\",\n",
    "        \"Isso resultou na redução significativa das emissões de carbono e no avanço tecnológico sustentável, beneficiando o meio ambiente globalmente.\",\n",
    "        \"Ela sentiu fome e falta de energia durante a manhã de trabalho.\",\n",
    "        \"As praias ficaram mais limpas e atraentes para turistas, além de promover a conscientização ambiental entre os moradores.\",\n",
    "        \"Finalmente recebeu uma oferta de trabalho em uma empresa renomada, melhorando sua estabilidade financeira.\",\n",
    "        \"Suas peças ganharam destaque em exposições internacionais, ampliando seu reconhecimento e alcance no mercado de arte.\"\n",
    "    ]\n",
    "}"
   ]
  },
  {
   "cell_type": "code",
   "execution_count": 12,
   "metadata": {},
   "outputs": [],
   "source": [
    "data = {\n",
    "    'content1': [\n",
    "        \"The storm lasted several hours during the night.\",\n",
    "        \"He studied intensively for the exam.\",\n",
    "        \"The factory reduced pollutant emissions.\",\n",
    "        \"Maria started exercising regularly.\",\n",
    "        \"The car's engine stopped working.\",\n",
    "        \"There was a severe drought in the region.\",\n",
    "        \"She started sleeping better.\",\n",
    "        \"The school adopted a healthy diet.\",\n",
    "        \"The project received government support.\",\n",
    "        \"The internet went down during the meeting.\",\n",
    "        \"He started saving money monthly.\",\n",
    "        \"The road was in a terrible state of preservation.\",\n",
    "        \"The air conditioning system was turned off in the office.\",\n",
    "        \"The company invested in digital marketing.\",\n",
    "        \"Ana did not review the report before sending it.\",\n",
    "        \"The children played in the park until late.\",\n",
    "        \"The training course was offered to the employees.\",\n",
    "        \"He bought a new cell phone with a high-quality camera.\",\n",
    "        \"The renovation of the building was completed.\",\n",
    "        \"The region experienced rapid population growth.\",\n",
    "        \"Carla started meditating daily.\",\n",
    "        \"The athlete intensified his training before the competition.\",\n",
    "        \"The cell signal in the region was expanded.\",\n",
    "        \"Temperatures dropped drastically during the winter.\",\n",
    "        \"He did not set the alarm before sleeping.\",\n",
    "        \"The company offered extra benefits to its employees.\",\n",
    "        \"There was a gas leak in the restaurant's kitchen.\",\n",
    "        \"The school's library was modernized with new books and technology.\",\n",
    "        \"Marcos started taking regular breaks during work hours.\",\n",
    "        \"The company developed an intuitive app for customers.\",\n",
    "        \"Due to increased rainfall in recent weeks, river levels rose rapidly and exceeded the capacity of the dams.\",\n",
    "        \"She decided to start a routine of balanced eating, regular physical exercise, and daily meditation to improve her physical and mental health.\",\n",
    "        \"The company, which was suffering from low productivity rates, implemented a new management strategy focused on employee development and organizational culture.\",\n",
    "        \"The government launched a national recycling program and encouraged active citizen participation through awareness campaigns in schools, companies, and homes.\",\n",
    "        \"After a long drought that affected much of the country's agricultural territory, the government implemented an emergency support package for farmers, including subsidies and incentives for crop recovery.\",\n",
    "        \"He left his cell phone charging overnight without using safety chargers and in an unventilated area.\",\n",
    "        \"The local community came together to clean and revitalize the abandoned square, which had been unmaintained for years and had become a site for irregular waste disposal.\",\n",
    "        \"During the building's renovation, it was discovered that the structure had serious flaws, and the completion deadline was extended by six months to ensure safety.\",\n",
    "        \"A hurricane hit the country's coastal region, with winds exceeding 200 km/h, causing destruction in several cities and leaving thousands of people homeless.\",\n",
    "        \"She forgot to water her balcony plant all month, and the weather was dry.\",\n",
    "        \"João broke his arm playing football.\",\n",
    "        \"Due to a combination of extreme weather factors, including strong winds and heavy rains, the region suffered severe structural damage and power supply interruption for several days.\",\n",
    "        \"She forgot to take her umbrella.\",\n",
    "        \"The company adopted sustainable practices in its production, reducing the use of plastic and implementing recycling programs.\",\n",
    "        \"The child refused to eat vegetables throughout the week.\",\n",
    "        \"After years of research and development, the scientific team finally discovered an efficient method to produce clean energy from renewable sources.\",\n",
    "        \"Breakfast was forgotten.\",\n",
    "        \"The community initiative organized beach cleanup drives regularly during the summer.\",\n",
    "        \"He updated his resume and participated in several job interviews in recent months.\",\n",
    "        \"The artist decided to experiment with new techniques in his paintings, incorporating digital elements and recycled materials into his works.\"\n",
    "    ],\n",
    "    'content2': [\n",
    "        \"In the morning, many streets were flooded.\",\n",
    "        \"He achieved a high score on the exam.\",\n",
    "        \"The air quality in the city improved.\",\n",
    "        \"She lost weight and increased her energy.\",\n",
    "        \"He had to call a tow truck to take the car to the garage.\",\n",
    "        \"The crops were damaged, and the harvest was smaller.\",\n",
    "        \"Her disposition during the day improved significantly.\",\n",
    "        \"The students began to have more energy and better concentration.\",\n",
    "        \"He managed to complete the initial phases quickly.\",\n",
    "        \"Communication with the team was interrupted.\",\n",
    "        \"He managed to save an amount for a trip.\",\n",
    "        \"Traffic became slower and more dangerous for drivers.\",\n",
    "        \"The environment became hot and uncomfortable for the employees.\",\n",
    "        \"Sales increased significantly.\",\n",
    "        \"The document contained errors and needed to be corrected.\",\n",
    "        \"They became tired and slept quickly upon arriving home.\",\n",
    "        \"They improved their skills and efficiency at work.\",\n",
    "        \"He started taking sharper and higher-resolution photos.\",\n",
    "        \"The place became safer and more aesthetically pleasing.\",\n",
    "        \"The demand for housing and services increased considerably.\",\n",
    "        \"She felt an improvement in her focus and a reduction in stress.\",\n",
    "        \"He had better performance and won first place.\",\n",
    "        \"The connection became more stable and accessible for residents.\",\n",
    "        \"The demand for coats and blankets increased in stores.\",\n",
    "        \"He ended up being late for work the next morning.\",\n",
    "        \"The satisfaction and motivation of employees increased.\",\n",
    "        \"The location was evacuated for safety, and the service was temporarily interrupted.\",\n",
    "        \"The students began attending it more and improving their academic performance.\",\n",
    "        \"He felt more productive and less tired at the end of the day.\",\n",
    "        \"The number of users increased rapidly.\",\n",
    "        \"Several urban and rural areas were affected by floods, forcing many families to leave their homes temporarily.\",\n",
    "        \"In a few months, she noticed a great improvement in her disposition, concentration, and energy levels, in addition to losing weight.\",\n",
    "        \"In less than a year, team morale improved, turnover decreased, and overall productivity increased by about 30%.\",\n",
    "        \"As a result, there was a significant reduction in the amount of solid waste in landfills and greater conservation of natural resources.\",\n",
    "        \"In one year, agricultural production returned to stable levels, and the negative economic impact was mitigated, benefiting the population.\",\n",
    "        \"In the morning, the device was overheated and sustained permanent damage to the battery, reducing its operating capacity.\",\n",
    "        \"With the revitalization, the square became a meeting place for residents again, and the area's safety also improved.\",\n",
    "        \"Despite the delay, the renovation resulted in a safer, more comfortable building with a significant increase in property value.\",\n",
    "        \"The emergency response was mobilized quickly, with temporary shelters and humanitarian aid distributed to minimize the impact on the victims.\",\n",
    "        \"The plant withered completely and, unfortunately, could not be recovered, having to be replaced.\",\n",
    "        \"He was unable to work for two weeks.\",\n",
    "        \"The community had to resort to temporary shelters, and the local economy suffered a significant downturn due to the shutdown of commercial activities.\",\n",
    "        \"She got wet during the commute to work.\",\n",
    "        \"The company's reputation improved, attracting conscious consumers and increasing sales by 20%.\",\n",
    "        \"His mother was worried about the lack of nutrients in his diet and decided to consult a nutritionist.\",\n",
    "        \"This resulted in a significant reduction in carbon emissions and sustainable technological advancement, benefiting the global environment.\",\n",
    "        \"She felt hungry and lacked energy during the morning of work.\",\n",
    "        \"The beaches became cleaner and more attractive to tourists, as well as promoting environmental awareness among residents.\",\n",
    "        \"She finally received a job offer from a renowned company, improving her financial stability.\",\n",
    "        \"His pieces gained prominence in international exhibitions, expanding his recognition and reach in the art market.\"\n",
    "    ]\n",
    "}"
   ]
  },
  {
   "cell_type": "code",
   "execution_count": 13,
   "metadata": {},
   "outputs": [
    {
     "data": {
      "text/html": [
       "<div>\n",
       "<style scoped>\n",
       "    .dataframe tbody tr th:only-of-type {\n",
       "        vertical-align: middle;\n",
       "    }\n",
       "\n",
       "    .dataframe tbody tr th {\n",
       "        vertical-align: top;\n",
       "    }\n",
       "\n",
       "    .dataframe thead th {\n",
       "        text-align: right;\n",
       "    }\n",
       "</style>\n",
       "<table border=\"1\" class=\"dataframe\">\n",
       "  <thead>\n",
       "    <tr style=\"text-align: right;\">\n",
       "      <th></th>\n",
       "      <th>target_transformed</th>\n",
       "      <th>content1</th>\n",
       "      <th>content2</th>\n",
       "    </tr>\n",
       "  </thead>\n",
       "  <tbody>\n",
       "    <tr>\n",
       "      <th>0</th>\n",
       "      <td>0.000000</td>\n",
       "      <td>The storm lasted several hours during the night.</td>\n",
       "      <td>The storm lasted several hours during the night.</td>\n",
       "    </tr>\n",
       "    <tr>\n",
       "      <th>1</th>\n",
       "      <td>0.000000</td>\n",
       "      <td>He studied intensively for the exam.</td>\n",
       "      <td>He studied intensively for the exam.</td>\n",
       "    </tr>\n",
       "    <tr>\n",
       "      <th>2</th>\n",
       "      <td>0.000000</td>\n",
       "      <td>The factory reduced pollutant emissions.</td>\n",
       "      <td>The factory reduced pollutant emissions.</td>\n",
       "    </tr>\n",
       "    <tr>\n",
       "      <th>3</th>\n",
       "      <td>0.000000</td>\n",
       "      <td>Maria started exercising regularly.</td>\n",
       "      <td>Maria started exercising regularly.</td>\n",
       "    </tr>\n",
       "    <tr>\n",
       "      <th>4</th>\n",
       "      <td>0.000000</td>\n",
       "      <td>The car's engine stopped working.</td>\n",
       "      <td>The car's engine stopped working.</td>\n",
       "    </tr>\n",
       "    <tr>\n",
       "      <th>...</th>\n",
       "      <td>...</td>\n",
       "      <td>...</td>\n",
       "      <td>...</td>\n",
       "    </tr>\n",
       "    <tr>\n",
       "      <th>145</th>\n",
       "      <td>-1.838372</td>\n",
       "      <td>This resulted in a significant reduction in ca...</td>\n",
       "      <td>After years of research and development, the s...</td>\n",
       "    </tr>\n",
       "    <tr>\n",
       "      <th>146</th>\n",
       "      <td>-1.184158</td>\n",
       "      <td>She felt hungry and lacked energy during the m...</td>\n",
       "      <td>Breakfast was forgotten.</td>\n",
       "    </tr>\n",
       "    <tr>\n",
       "      <th>147</th>\n",
       "      <td>-1.634360</td>\n",
       "      <td>The beaches became cleaner and more attractive...</td>\n",
       "      <td>The community initiative organized beach clean...</td>\n",
       "    </tr>\n",
       "    <tr>\n",
       "      <th>148</th>\n",
       "      <td>-1.625601</td>\n",
       "      <td>She finally received a job offer from a renown...</td>\n",
       "      <td>He updated his resume and participated in seve...</td>\n",
       "    </tr>\n",
       "    <tr>\n",
       "      <th>149</th>\n",
       "      <td>-1.820547</td>\n",
       "      <td>His pieces gained prominence in international ...</td>\n",
       "      <td>The artist decided to experiment with new tech...</td>\n",
       "    </tr>\n",
       "  </tbody>\n",
       "</table>\n",
       "<p>150 rows × 3 columns</p>\n",
       "</div>"
      ],
      "text/plain": [
       "     target_transformed                                           content1  \\\n",
       "0              0.000000   The storm lasted several hours during the night.   \n",
       "1              0.000000               He studied intensively for the exam.   \n",
       "2              0.000000           The factory reduced pollutant emissions.   \n",
       "3              0.000000                Maria started exercising regularly.   \n",
       "4              0.000000                  The car's engine stopped working.   \n",
       "..                  ...                                                ...   \n",
       "145           -1.838372  This resulted in a significant reduction in ca...   \n",
       "146           -1.184158  She felt hungry and lacked energy during the m...   \n",
       "147           -1.634360  The beaches became cleaner and more attractive...   \n",
       "148           -1.625601  She finally received a job offer from a renown...   \n",
       "149           -1.820547  His pieces gained prominence in international ...   \n",
       "\n",
       "                                              content2  \n",
       "0     The storm lasted several hours during the night.  \n",
       "1                 He studied intensively for the exam.  \n",
       "2             The factory reduced pollutant emissions.  \n",
       "3                  Maria started exercising regularly.  \n",
       "4                    The car's engine stopped working.  \n",
       "..                                                 ...  \n",
       "145  After years of research and development, the s...  \n",
       "146                           Breakfast was forgotten.  \n",
       "147  The community initiative organized beach clean...  \n",
       "148  He updated his resume and participated in seve...  \n",
       "149  The artist decided to experiment with new tech...  \n",
       "\n",
       "[150 rows x 3 columns]"
      ]
     },
     "execution_count": 13,
     "metadata": {},
     "output_type": "execute_result"
    }
   ],
   "source": [
    "data['target_transformed'] = [signed_transform(len(text)) for text in data['content1']]\n",
    "\n",
    "df_validation = pd.DataFrame(data)\n",
    "\n",
    "# Adicionar frases iguais\n",
    "df_zero = pd.DataFrame({\n",
    "    'target_transformed': [0] * len(data['target_transformed']),\n",
    "    'content1': df_validation['content1'],\n",
    "    'content2': df_validation['content1']\n",
    "})\n",
    "\n",
    "df_validation = pd.concat([df_zero, df_validation], ignore_index=True)\n",
    "\n",
    "# Inverter as colunas content1 e content2\n",
    "data_reversed = {\n",
    "    'target_transformed': data['target_transformed'],\n",
    "    'content1': data['content2'],\n",
    "    'content2': data['content1'],\n",
    "}\n",
    "\n",
    "# Aplicar a transformação ao comprimento do novo content1 (originalmente content2)\n",
    "data_reversed['target_transformed'] = [-target_transformed for target_transformed in data_reversed['target_transformed']]\n",
    "\n",
    "df_reversed = pd.DataFrame(data_reversed)\n",
    "\n",
    "# Concatenar os dois DataFrames\n",
    "df_validation = pd.concat([df_validation, df_reversed], ignore_index=True)\n",
    "df_validation"
   ]
  },
  {
   "cell_type": "code",
   "execution_count": 10,
   "metadata": {},
   "outputs": [],
   "source": [
    "def collate_train(batch):\n",
    "    embeddings, lengths, targets = batch[0]\n",
    "    return embeddings, lengths, targets\n",
    "\n",
    "training_dataset = IterableSequenceDataset(db1_path,batch_size)\n",
    "train_dataloader = DataLoader(\n",
    "  training_dataset, \n",
    "  batch_size=1, \n",
    "  num_workers=0,\n",
    "  collate_fn=collate_train,\n",
    "  pin_memory=False,\n",
    "  shuffle=False,\n",
    "  #persistent_workers=True\n",
    ")"
   ]
  },
  {
   "cell_type": "code",
   "execution_count": 14,
   "metadata": {},
   "outputs": [],
   "source": [
    "def collate_fn(batch):\n",
    "    embeddings, lengths, targets = zip(*batch)\n",
    "    return torch.stack(embeddings).to(torch.float32), torch.stack(lengths), torch.stack(targets).to(torch.float32)\n",
    "\n",
    "validation_dataset = SequenceDataset_val(df_validation)\n",
    "validation_dataloader = DataLoader(\n",
    "    validation_dataset,\n",
    "    batch_size=150,\n",
    "    shuffle=False,\n",
    "    num_workers=0,\n",
    "    pin_memory=False,\n",
    "    collate_fn=collate_fn\n",
    ")"
   ]
  },
  {
   "cell_type": "code",
   "execution_count": null,
   "metadata": {},
   "outputs": [],
   "source": [
    "import torch\n",
    "from torch.utils.data import Dataset, DataLoader\n",
    "import pandas as pd\n",
    "\n",
    "class SequenceDataset(Dataset):\n",
    "    def __init__(self, df):\n",
    "        \"\"\"\n",
    "        Args:\n",
    "            df (pd.DataFrame): Original DataFrame with columns ['content1', 'content2', 'target_transformed'].\n",
    "        \"\"\"\n",
    "        super(SequenceDataset, self).__init__()\n",
    "        \n",
    "        # Duplicate the data to include reversed examples\n",
    "        df_reversed = df.copy()\n",
    "        df_reversed[['content1', 'content2']] = df_reversed[['content2', 'content1']]\n",
    "        df_reversed['target_transformed'] = -df_reversed['target_transformed']\n",
    "        \n",
    "        # Concatenate original and reversed DataFrames\n",
    "        self.df_combined = pd.concat([df, df_reversed], ignore_index=True)\n",
    "        \n",
    "        # Normalize the target\n",
    "        self.df_combined['target_norm'] = self.df_combined['target_transformed'] / desvios_padrao\n",
    "        \n",
    "        # Reset index for safe indexing\n",
    "        self.df_combined.reset_index(drop=True, inplace=True)\n",
    "\n",
    "    def __len__(self):\n",
    "        return len(self.df_combined)\n",
    "\n",
    "    def __getitem__(self, idx):\n",
    "        \"\"\"\n",
    "        Returns:\n",
    "            dict: A dictionary containing 'content1', 'content2', and 'target_norm'.\n",
    "        \"\"\"\n",
    "        row = self.df_combined.iloc[idx]\n",
    "        return {\n",
    "            'content1': row['content1'],\n",
    "            'content2': row['content2'],\n",
    "            'target_norm': row['target_norm']\n",
    "        }"
   ]
  },
  {
   "cell_type": "code",
   "execution_count": 7,
   "metadata": {},
   "outputs": [],
   "source": [
    "def custom_collate_fn(batch):\n",
    "\t\"\"\"\n",
    "\tArgs:\n",
    "\t\tbatch (list): List of individual data samples.\n",
    "\t\tembedding_generator: An object that provides tokenization and embedding functionalities.\n",
    "\t\tdesvios_padrao (float): Standard deviation used for normalization.\n",
    "\t\n",
    "\tReturns:\n",
    "\t\ttuple: (embeddings, lengths, targets)\n",
    "\t\"\"\"\n",
    "\t# Extract lists from batch\n",
    "\tcontent1 = [item['content1'] for item in batch]\n",
    "\tcontent2 = [item['content2'] for item in batch]\n",
    "\ttargets = [item['target_norm'] for item in batch]\n",
    "\t\n",
    "\t# Combine content1 and content2 for tokenization\n",
    "\tcombined_contents = content1 + content2\n",
    "\t\n",
    "\t# Tokenization\n",
    "\tencoding = embedding_generator.tokenizer(\n",
    "\t\tcombined_contents,\n",
    "\t\treturn_tensors=\"pt\",\n",
    "\t\tpadding=True,\n",
    "\t\ttruncation=True\n",
    "\t)\n",
    "\t\n",
    "\tnum_original = len(batch)\n",
    "\t\n",
    "\t# Split the encodings back into two sets\n",
    "\tencoding1 = {key: value[:num_original] for key, value in encoding.items()}\n",
    "\tencoding2 = {key: value[num_original:] for key, value in encoding.items()}\n",
    "\t\n",
    "\t# Move to device\n",
    "\tdevice = embedding_generator.device\n",
    "\tinput_ids1 = encoding1['input_ids'].to(device)\n",
    "\tattention_mask1 = encoding1['attention_mask'].to(device)\n",
    "\tinput_ids2 = encoding2['input_ids'].to(device)\n",
    "\tattention_mask2 = encoding2['attention_mask'].to(device)\n",
    "\t\n",
    "\t# Obtain embeddings\n",
    "\tembeddings1 = embedding_generator.weights[input_ids1]  # Adjust based on your embedding generator\n",
    "\tembeddings2 = embedding_generator.weights[input_ids2]\n",
    "\t\n",
    "\t# Concatenate the two sequences along dimension 1\n",
    "\tembeddings = torch.stack([embeddings1, embeddings2], dim=1)  # Shape: (batch_size, 2, seq_length, vector_size)\n",
    "\t\n",
    "\t# Calcular comprimentos\n",
    "\tlengths1 = attention_mask1.sum(dim=1)\n",
    "\tlengths2 = attention_mask2.sum(dim=1)\n",
    "\tlengths = torch.stack([lengths1, lengths2], dim=1)  # (batch_size, 2)\n",
    "\n",
    "\t# Calcular comprimento combinado (máximo dos dois)\n",
    "\tcombined_lengths = torch.max(lengths1, lengths2)\n",
    "\n",
    "\t# Obter índices ordenados em ordem decrescente de comprimento combinado\n",
    "\tsorted_idx = combined_lengths.argsort(descending=True)\n",
    "\n",
    "\t# Ordenar embeddings, comprimentos e targets\n",
    "\tembeddings = embeddings[sorted_idx]\n",
    "\tlengths = lengths[sorted_idx]\n",
    "\ttargets = torch.tensor(targets, dtype=torch.float16)[sorted_idx]\t\n",
    "\t\n",
    "\treturn embeddings, lengths, targets"
   ]
  },
  {
   "cell_type": "code",
   "execution_count": 8,
   "metadata": {},
   "outputs": [],
   "source": [
    "def collate_fn(batch):\n",
    "    embeddings, lengths, targets = zip(*batch)\n",
    "    return torch.stack(embeddings).to(torch.float32), torch.stack(lengths), torch.stack(targets).to(torch.float32)"
   ]
  },
  {
   "cell_type": "code",
   "execution_count": 9,
   "metadata": {},
   "outputs": [],
   "source": [
    "from datasets import load_dataset\n",
    "\n",
    "# Carregar o conjunto de dados de avaliação (STS Benchmark)\n",
    "eval_dataset = load_dataset(\"sentence-transformers/stsb\", split=\"train\")\n",
    "\n",
    "# Converter para DataFrame do pandas\n",
    "df_training = pd.DataFrame({\n",
    "    'content1': eval_dataset['sentence1'],\n",
    "    'content2': eval_dataset['sentence2'],\n",
    "    'target_transformed': eval_dataset['score']\n",
    "})\n",
    "\n",
    "training_dataset = SequenceDataset(df_training)\n",
    "train_dataloader = DataLoader(\n",
    "    training_dataset,\n",
    "\tbatch_size=150, \n",
    "\tnum_workers=0,\n",
    "\tcollate_fn=custom_collate_fn,\n",
    "\tpin_memory=False,\n",
    "\tshuffle=True,\n",
    "\t#persistent_workers=True\n",
    ")"
   ]
  },
  {
   "cell_type": "code",
   "execution_count": null,
   "metadata": {},
   "outputs": [],
   "source": [
    "from datasets import load_dataset\n",
    "\n",
    "# Carregar o conjunto de dados de avaliação (STS Benchmark)\n",
    "eval_dataset = load_dataset(\"sentence-transformers/stsb\", split=\"validation\")\n",
    "\n",
    "# Converter para DataFrame do pandas\n",
    "df_validation = pd.DataFrame({\n",
    "    'content1': eval_dataset['sentence1'],\n",
    "    'content2': eval_dataset['sentence2'],\n",
    "    'target_transformed': eval_dataset['score']\n",
    "})\n",
    "\n",
    "validation_dataset = SequenceDataset(df_validation)\n",
    "validation_dataloader = DataLoader(\n",
    "    training_dataset,\n",
    "\tbatch_size=150, \n",
    "\tnum_workers=0,\n",
    "\tcollate_fn=custom_collate_fn,\n",
    "\tpin_memory=False,\n",
    "\tshuffle=True,\n",
    "\t#persistent_workers=True\n",
    ")"
   ]
  },
  {
   "cell_type": "code",
   "execution_count": 11,
   "metadata": {},
   "outputs": [
    {
     "data": {
      "text/plain": [
       "1500"
      ]
     },
     "execution_count": 11,
     "metadata": {},
     "output_type": "execute_result"
    }
   ],
   "source": [
    "len(eval_dataset)"
   ]
  },
  {
   "cell_type": "code",
   "execution_count": 12,
   "metadata": {},
   "outputs": [],
   "source": [
    "import torch\n",
    "import torch.nn as nn\n",
    "import torch.nn.utils.rnn as rnn_utils\n",
    "\n",
    "class SequenceEncoder(nn.Module):\n",
    "    def __init__(self, input_size, hidden_size, num_layers):\n",
    "        \"\"\"\n",
    "        Inicializa o SequenceEncoder com LSTM bidirecional.\n",
    "\n",
    "        Args:\n",
    "            input_size (int): Dimensão da entrada de cada elemento da sequência.\n",
    "            hidden_size (int): Tamanho do estado oculto do LSTM.\n",
    "            num_layers (int): Número de camadas do LSTM.\n",
    "        \"\"\"\n",
    "        super(SequenceEncoder, self).__init__()\n",
    "        self.bidirectional = True  # Ativa o modo bidirecional\n",
    "        self.num_directions = 2 if self.bidirectional else 1\n",
    "\n",
    "        self.lstm = nn.LSTM(\n",
    "            input_size=input_size,\n",
    "            hidden_size=hidden_size,\n",
    "            num_layers=num_layers,\n",
    "            dropout=0.3,\n",
    "            batch_first=True,\n",
    "            bidirectional=self.bidirectional  # Define como bidirecional\n",
    "        )\n",
    "\n",
    "    def forward(self, sequences, lengths):\n",
    "        \"\"\"\n",
    "        Forward pass do SequenceEncoder.\n",
    "\n",
    "        Args:\n",
    "            sequences (Tensor): Tensor de sequências com forma [batch_size, seq_len, input_size].\n",
    "            lengths (Tensor): Tensor de comprimentos com forma [batch_size].\n",
    "\n",
    "        Returns:\n",
    "            Tensor: Representação codificada das sequências com forma [batch_size, hidden_size * num_directions].\n",
    "        \"\"\"\n",
    "        # Empacotar as sequências sem exigir ordenação\n",
    "        packed_seq = rnn_utils.pack_padded_sequence(\n",
    "            sequences,\n",
    "            lengths.cpu(),\n",
    "            batch_first=True,\n",
    "            enforce_sorted=False  # Permite sequências não ordenadas\n",
    "        )\n",
    "\n",
    "        # Passar pelo LSTM\n",
    "        packed_output, (hn, cn) = self.lstm(packed_seq)\n",
    "\n",
    "        if self.bidirectional:\n",
    "            # hn tem forma [num_layers * 2, batch_size, hidden_size]\n",
    "            # Separa os estados ocultos das direções forward e backward\n",
    "            # e os concatena\n",
    "            hn_forward = hn[-2]  # Última camada forward\n",
    "            hn_backward = hn[-1]  # Última camada backward\n",
    "            hn = torch.cat((hn_forward, hn_backward), dim=1)  # [batch_size, hidden_size * 2]\n",
    "        else:\n",
    "            hn = hn[-1]  # Forma: [batch_size, hidden_size]\n",
    "\n",
    "        return hn  # [batch_size, hidden_size * num_directions]"
   ]
  },
  {
   "cell_type": "code",
   "execution_count": 13,
   "metadata": {},
   "outputs": [],
   "source": [
    "class SiameseModel(nn.Module):\n",
    "\tdef __init__(self, input_size, hidden_size, num_layers, fc_hidden_sizes=[2]):\n",
    "\t\t\"\"\"\n",
    "\t\tInicializa o SiameseModel com LSTM bidirecional.\n",
    "\n",
    "\t\tArgs:\n",
    "\t\t\tinput_size (int): Dimensão da entrada de cada elemento da sequência.\n",
    "\t\t\thidden_size (int): Tamanho do estado oculto do LSTM.\n",
    "\t\t\tnum_layers (int): Número de camadas do LSTM.\n",
    "\t\t\tfc_hidden_sizes (list of int): Tamanhos das camadas ocultas totalmente conectadas adicionais.\n",
    "\t\t\"\"\"\n",
    "\t\tsuper(SiameseModel, self).__init__()\n",
    "\t\tself.encoder = SequenceEncoder(input_size, hidden_size, num_layers)\n",
    "\n",
    "\t\t# Camadas totalmente conectadas para combinar as duas representações\n",
    "\t\tself.fc_layers = nn.ModuleList()\n",
    "\t\tinput_dim = hidden_size * 2 * 2  # hidden_size * num_directions * 2 (para as duas sequências)\n",
    "\n",
    "\t\tfor hidden_size_fc in fc_hidden_sizes:\n",
    "\t\t\tself.fc_layers.append(nn.Linear(input_dim, hidden_size_fc))\n",
    "\t\t\tself.fc_layers.append(nn.ReLU())\n",
    "\t\t\tinput_dim = hidden_size_fc\n",
    "\n",
    "\t\tself.output_layer = nn.Linear(input_dim, 1)\n",
    "\n",
    "\tdef forward(self, sequences, lengths):\n",
    "\t\t\"\"\"\n",
    "\t\tForward pass para a rede Siamese.\n",
    "\n",
    "\t\tArgs:\n",
    "\t\t\tsequences (Tensor): Tensor de embeddings com forma [batch_size, 2, seq_len, input_size].\n",
    "\t\t\tlengths (Tensor): Tensor de comprimentos com forma [batch_size, 2].\n",
    "\n",
    "\t\tReturns:\n",
    "\t\t\tTensor: Predições de saída com forma [batch_size].\n",
    "\t\t\"\"\"\n",
    "\t\t# Dividir as sequências e os comprimentos para ambos os inputs\n",
    "\t\tseq1 = sequences[:, 0, :, :]  # Forma: [batch_size, seq_len, input_size]\n",
    "\t\tlen1 = lengths[:, 0]           # Forma: [batch_size]\n",
    "\t\tout1 = self.encoder(seq1, len1)  # Forma: [batch_size, hidden_size * 2]\n",
    "\n",
    "\t\tseq2 = sequences[:, 1, :, :]  # Forma: [batch_size, seq_len, input_size]\n",
    "\t\tlen2 = lengths[:, 1]           # Forma: [batch_size]\n",
    "\t\tout2 = self.encoder(seq2, len2)  # Forma: [batch_size, hidden_size * 2]\n",
    "\n",
    "\t\t# Combinar as duas representações\n",
    "\t\tcombined = torch.cat([out1, out2], dim=1)  # Forma: [batch_size, hidden_size * 4]\n",
    "\n",
    "\t\t# Passar pelas camadas totalmente conectadas com ativação não-linear e dropout\n",
    "\t\tx = combined\n",
    "\t\tfor layer in self.fc_layers:\n",
    "\t\t\tx = layer(x)\n",
    "\n",
    "\t\tout = self.output_layer(x)  # Forma: [batch_size, 1]\n",
    "\n",
    "\t\treturn out.squeeze(1)  # Forma: [batch_size]"
   ]
  },
  {
   "cell_type": "code",
   "execution_count": 14,
   "metadata": {},
   "outputs": [],
   "source": [
    "import pytorch_lightning as pl\n",
    "from torch.optim.lr_scheduler import OneCycleLR\n",
    "\n",
    "limit_train_batches=100\n",
    "max_epochs=2000\n",
    "\n",
    "class CustomHuberLoss(nn.Module):\n",
    "\tdef __init__(self, delta=1.0):\n",
    "\t\tsuper(CustomHuberLoss, self).__init__()\n",
    "\t\tself.delta = delta\n",
    "\t\tself.loss = torch.nn.MSELoss() #nn.HuberLoss(delta=delta)\n",
    "\n",
    "\tdef forward(self, output, target):\n",
    "\t\t# Verificar os sinais de output e target usando os limites fornecidos\n",
    "\t\toutput_sign = (output <= negative_threshold).float() - (output >= positive_threshold).float()\n",
    "\t\ttarget_sign = (target <= negative_threshold).float() - (target >= positive_threshold).float()\n",
    "\n",
    "\t\t# Calcular a perda Huber normal\n",
    "\t\tloss = self.loss(output, target)\n",
    "\n",
    "\t\t# Verificar se o sinal de output é diferente de target\n",
    "\t\tsign_diff = (output_sign != target_sign).float()\n",
    "\n",
    "\t\t# Se os sinais forem diferentes, multiplicar a perda por 2\n",
    "\t\tadjusted_loss = loss * (1 + sign_diff) \n",
    "\n",
    "\t\treturn adjusted_loss.mean()\n",
    "\n",
    "class SiameseModel_Lightning(pl.LightningModule):\n",
    "\tdef __init__(self, input_size=2048, hidden_size=640, num_layers=2, lr=1e-3, max_lr=1e-2):\n",
    "\t\tsuper(SiameseModel_Lightning, self).__init__()\n",
    "\t\tself.save_hyperparameters()\n",
    "\n",
    "\t\t# Instanciar o modelo modificado\n",
    "\t\tself.model = SiameseModel(\n",
    "\t\t\tinput_size=input_size,\n",
    "\t\t\thidden_size=hidden_size,\n",
    "\t\t\tnum_layers=num_layers,\n",
    "\t\t)\n",
    "\n",
    "\t\t# Função de perda\n",
    "\t\tself.criterion = torch.nn.MSELoss() #CustomHuberLoss()\n",
    "\n",
    "\tdef forward(self, sequences, lengths):\n",
    "\t\treturn self.model(sequences, lengths)\n",
    "\t\n",
    "\tdef training_step(self, batch):\n",
    "\t\tembeddings, lengths, targets = batch  # embeddings: (batch_size, 2, seq_len, vector_size)\n",
    "\t\tembeddings = embeddings.to(self.device)\n",
    "\t\tlengths = lengths.to(self.device)\n",
    "\t\ttargets = targets.to(self.device)\n",
    "\n",
    "\t\t# Passagem para frente\n",
    "\t\toutputs = self(embeddings, lengths)  # (batch_size,)\n",
    "\n",
    "\t\t# Computar a perda\n",
    "\t\tloss = self.criterion(outputs, targets)\n",
    "\n",
    "\t\t# Logar a perda de treinamento\n",
    "\t\tself.log('train_loss', loss, on_step=True, on_epoch=True, prog_bar=True, logger=True)\n",
    "\n",
    "\t\t# Obter a taxa de aprendizado atual do primeiro grupo de parâmetros\n",
    "\t\tlr = self.optimizers().param_groups[0]['lr']\n",
    "\t\t# Logar a taxa de aprendizado\n",
    "\t\tself.log('lr', lr, on_step=True, on_epoch=False, prog_bar=True, logger=True)\n",
    "\n",
    "\t\t# Clear variables\n",
    "\t\tdel embeddings, lengths, targets, outputs\n",
    "\t\tgc.collect()\n",
    "\t\treturn loss\n",
    "\n",
    "\tdef validation_step(self, batch):\n",
    "\t\tembeddings, lengths, targets = batch\n",
    "\t\tembeddings = embeddings.to(self.device)\n",
    "\t\tlengths = lengths.to(self.device)\n",
    "\t\ttargets = targets.to(self.device)\n",
    "\n",
    "\t\t# Passagem para frente\n",
    "\t\toutputs = self(embeddings, lengths)\n",
    "\n",
    "\t\t# Computar a perda\n",
    "\t\tloss = self.criterion(outputs, targets)\n",
    "\n",
    "\t\t# Logar a perda de validação\n",
    "\t\tself.log('val_loss', loss, on_step=False, on_epoch=True, prog_bar=True, logger=True)\n",
    "\n",
    "\tdef configure_optimizers(self):\n",
    "\t\t# Otimizador Adam\n",
    "\t\toptimizer = torch.optim.Adam(self.parameters(), lr=self.hparams.lr)\n",
    "\n",
    "\t\t# Configuração do OneCycleLR\n",
    "\t\tscheduler = OneCycleLR(\n",
    "\t\t\toptimizer,\n",
    "\t\t\tmax_lr=self.hparams.max_lr,\n",
    "\t\t\ttotal_steps=(max_epochs * limit_train_batches),\n",
    "\t\t\tanneal_strategy='cos',\n",
    "\t\t\tpct_start=0.3,\n",
    "\t\t\tcycle_momentum=True,\n",
    "\t\t\tbase_momentum=0.85,\n",
    "\t\t\tmax_momentum=0.95,\n",
    "\t\t)\n",
    "\n",
    "\t\t# Retornar otimizador e scheduler com interval definido para 'step'\n",
    "\t\treturn {\n",
    "\t\t\t'optimizer': optimizer,\n",
    "\t\t\t'lr_scheduler': {\n",
    "\t\t\t\t'scheduler': scheduler,\n",
    "\t\t\t\t'interval': 'step',      # Atualiza a cada passo\n",
    "\t\t\t\t'frequency': 1,          # Frequência de atualização\n",
    "\t\t\t}\n",
    "\t\t}"
   ]
  },
  {
   "cell_type": "code",
   "execution_count": 15,
   "metadata": {},
   "outputs": [],
   "source": [
    "from pytorch_lightning.loggers import TensorBoardLogger\n",
    "\n",
    "# Instanciando o TensorBoardLogger\n",
    "tensorboard_logger = TensorBoardLogger('tb_logs', name='model_name')"
   ]
  },
  {
   "cell_type": "code",
   "execution_count": 16,
   "metadata": {},
   "outputs": [],
   "source": [
    "model = SiameseModel_Lightning()"
   ]
  },
  {
   "cell_type": "code",
   "execution_count": 17,
   "metadata": {},
   "outputs": [],
   "source": [
    "#model = SiameseModel_Lightning.load_from_checkpoint('./checkpoints/best-checkpoint-v11.ckpt')"
   ]
  },
  {
   "cell_type": "code",
   "execution_count": 18,
   "metadata": {},
   "outputs": [
    {
     "name": "stderr",
     "output_type": "stream",
     "text": [
      "/home/jadson/anaconda3/envs/pytorch/lib/python3.12/site-packages/lightning_fabric/connector.py:571: `precision=16` is supported for historical reasons but its usage is discouraged. Please set your precision to 16-mixed instead!\n",
      "Using 16bit Automatic Mixed Precision (AMP)\n",
      "GPU available: True (cuda), used: True\n",
      "TPU available: False, using: 0 TPU cores\n",
      "HPU available: False, using: 0 HPUs\n",
      "You are using a CUDA device ('NVIDIA GeForce RTX 3050 Laptop GPU') that has Tensor Cores. To properly utilize them, you should set `torch.set_float32_matmul_precision('medium' | 'high')` which will trade-off precision for performance. For more details, read https://pytorch.org/docs/stable/generated/torch.set_float32_matmul_precision.html#torch.set_float32_matmul_precision\n",
      "/home/jadson/anaconda3/envs/pytorch/lib/python3.12/site-packages/pytorch_lightning/callbacks/model_checkpoint.py:654: Checkpoint directory /home/jadson/Documentos/Tempo-nas-Narrativas/checkpoints exists and is not empty.\n",
      "LOCAL_RANK: 0 - CUDA_VISIBLE_DEVICES: [0]\n",
      "\n",
      "  | Name      | Type         | Params | Mode \n",
      "---------------------------------------------------\n",
      "0 | model     | SiameseModel | 23.6 M | train\n",
      "1 | criterion | MSELoss      | 0      | train\n",
      "---------------------------------------------------\n",
      "23.6 M    Trainable params\n",
      "0         Non-trainable params\n",
      "23.6 M    Total params\n",
      "94.474    Total estimated model params size (MB)\n",
      "8         Modules in train mode\n",
      "0         Modules in eval mode\n"
     ]
    },
    {
     "data": {
      "application/vnd.jupyter.widget-view+json": {
       "model_id": "854e2bb6c4d94cefada13cfb6633688b",
       "version_major": 2,
       "version_minor": 0
      },
      "text/plain": [
       "Sanity Checking: |          | 0/? [00:00<?, ?it/s]"
      ]
     },
     "metadata": {},
     "output_type": "display_data"
    },
    {
     "name": "stderr",
     "output_type": "stream",
     "text": [
      "/home/jadson/anaconda3/envs/pytorch/lib/python3.12/site-packages/pytorch_lightning/trainer/connectors/data_connector.py:424: The 'val_dataloader' does not have many workers which may be a bottleneck. Consider increasing the value of the `num_workers` argument` to `num_workers=19` in the `DataLoader` to improve performance.\n",
      "/home/jadson/anaconda3/envs/pytorch/lib/python3.12/site-packages/pytorch_lightning/trainer/connectors/data_connector.py:424: The 'train_dataloader' does not have many workers which may be a bottleneck. Consider increasing the value of the `num_workers` argument` to `num_workers=19` in the `DataLoader` to improve performance.\n",
      "/home/jadson/anaconda3/envs/pytorch/lib/python3.12/site-packages/pytorch_lightning/loops/fit_loop.py:298: The number of training batches (77) is smaller than the logging interval Trainer(log_every_n_steps=100). Set a lower value for log_every_n_steps if you want to see logs for the training epoch.\n"
     ]
    },
    {
     "data": {
      "application/vnd.jupyter.widget-view+json": {
       "model_id": "bd56f5efe56941268b9a0511f3a13ed0",
       "version_major": 2,
       "version_minor": 0
      },
      "text/plain": [
       "Training: |          | 0/? [00:00<?, ?it/s]"
      ]
     },
     "metadata": {},
     "output_type": "display_data"
    },
    {
     "data": {
      "application/vnd.jupyter.widget-view+json": {
       "model_id": "2ed495050fef4ffc8929a19a20a51025",
       "version_major": 2,
       "version_minor": 0
      },
      "text/plain": [
       "Validation: |          | 0/? [00:00<?, ?it/s]"
      ]
     },
     "metadata": {},
     "output_type": "display_data"
    },
    {
     "data": {
      "application/vnd.jupyter.widget-view+json": {
       "model_id": "af411bbd30ef471fb1ffb034a2ebabae",
       "version_major": 2,
       "version_minor": 0
      },
      "text/plain": [
       "Validation: |          | 0/? [00:00<?, ?it/s]"
      ]
     },
     "metadata": {},
     "output_type": "display_data"
    },
    {
     "data": {
      "application/vnd.jupyter.widget-view+json": {
       "model_id": "ef5b0fe0b4eb4ba29e8965d5cfba7029",
       "version_major": 2,
       "version_minor": 0
      },
      "text/plain": [
       "Validation: |          | 0/? [00:00<?, ?it/s]"
      ]
     },
     "metadata": {},
     "output_type": "display_data"
    },
    {
     "data": {
      "application/vnd.jupyter.widget-view+json": {
       "model_id": "17b674732ad048fd9d089460569d06bb",
       "version_major": 2,
       "version_minor": 0
      },
      "text/plain": [
       "Validation: |          | 0/? [00:00<?, ?it/s]"
      ]
     },
     "metadata": {},
     "output_type": "display_data"
    },
    {
     "data": {
      "application/vnd.jupyter.widget-view+json": {
       "model_id": "84e3b24e26c7468688908170237c74a0",
       "version_major": 2,
       "version_minor": 0
      },
      "text/plain": [
       "Validation: |          | 0/? [00:00<?, ?it/s]"
      ]
     },
     "metadata": {},
     "output_type": "display_data"
    },
    {
     "data": {
      "application/vnd.jupyter.widget-view+json": {
       "model_id": "2940a23f75754383a97179049928aaa8",
       "version_major": 2,
       "version_minor": 0
      },
      "text/plain": [
       "Validation: |          | 0/? [00:00<?, ?it/s]"
      ]
     },
     "metadata": {},
     "output_type": "display_data"
    },
    {
     "data": {
      "application/vnd.jupyter.widget-view+json": {
       "model_id": "6ac2bf72981a421783910c8a7068f711",
       "version_major": 2,
       "version_minor": 0
      },
      "text/plain": [
       "Validation: |          | 0/? [00:00<?, ?it/s]"
      ]
     },
     "metadata": {},
     "output_type": "display_data"
    },
    {
     "data": {
      "application/vnd.jupyter.widget-view+json": {
       "model_id": "907ebde7a30f4b70935b2058e8183d43",
       "version_major": 2,
       "version_minor": 0
      },
      "text/plain": [
       "Validation: |          | 0/? [00:00<?, ?it/s]"
      ]
     },
     "metadata": {},
     "output_type": "display_data"
    },
    {
     "data": {
      "application/vnd.jupyter.widget-view+json": {
       "model_id": "84561658647b4202983935f77dc6037e",
       "version_major": 2,
       "version_minor": 0
      },
      "text/plain": [
       "Validation: |          | 0/? [00:00<?, ?it/s]"
      ]
     },
     "metadata": {},
     "output_type": "display_data"
    },
    {
     "data": {
      "application/vnd.jupyter.widget-view+json": {
       "model_id": "543389b58953407c805e69c07120059b",
       "version_major": 2,
       "version_minor": 0
      },
      "text/plain": [
       "Validation: |          | 0/? [00:00<?, ?it/s]"
      ]
     },
     "metadata": {},
     "output_type": "display_data"
    },
    {
     "data": {
      "application/vnd.jupyter.widget-view+json": {
       "model_id": "12d88a3a8ad74facbd8544f1c6301a97",
       "version_major": 2,
       "version_minor": 0
      },
      "text/plain": [
       "Validation: |          | 0/? [00:00<?, ?it/s]"
      ]
     },
     "metadata": {},
     "output_type": "display_data"
    },
    {
     "data": {
      "application/vnd.jupyter.widget-view+json": {
       "model_id": "35e73080dc954af487dd910c68f9d334",
       "version_major": 2,
       "version_minor": 0
      },
      "text/plain": [
       "Validation: |          | 0/? [00:00<?, ?it/s]"
      ]
     },
     "metadata": {},
     "output_type": "display_data"
    },
    {
     "data": {
      "application/vnd.jupyter.widget-view+json": {
       "model_id": "fbb20d9d227d42ccbc61228758477730",
       "version_major": 2,
       "version_minor": 0
      },
      "text/plain": [
       "Validation: |          | 0/? [00:00<?, ?it/s]"
      ]
     },
     "metadata": {},
     "output_type": "display_data"
    },
    {
     "data": {
      "application/vnd.jupyter.widget-view+json": {
       "model_id": "1857143fea424325bf164e6c89003ca4",
       "version_major": 2,
       "version_minor": 0
      },
      "text/plain": [
       "Validation: |          | 0/? [00:00<?, ?it/s]"
      ]
     },
     "metadata": {},
     "output_type": "display_data"
    },
    {
     "data": {
      "application/vnd.jupyter.widget-view+json": {
       "model_id": "f6c26e984b504e4b976ff0238692c278",
       "version_major": 2,
       "version_minor": 0
      },
      "text/plain": [
       "Validation: |          | 0/? [00:00<?, ?it/s]"
      ]
     },
     "metadata": {},
     "output_type": "display_data"
    },
    {
     "data": {
      "application/vnd.jupyter.widget-view+json": {
       "model_id": "95da021ac00445e9b1334e06896b9fa6",
       "version_major": 2,
       "version_minor": 0
      },
      "text/plain": [
       "Validation: |          | 0/? [00:00<?, ?it/s]"
      ]
     },
     "metadata": {},
     "output_type": "display_data"
    },
    {
     "data": {
      "application/vnd.jupyter.widget-view+json": {
       "model_id": "c77d86a3cf5f4afaa891676bb950bf99",
       "version_major": 2,
       "version_minor": 0
      },
      "text/plain": [
       "Validation: |          | 0/? [00:00<?, ?it/s]"
      ]
     },
     "metadata": {},
     "output_type": "display_data"
    },
    {
     "data": {
      "application/vnd.jupyter.widget-view+json": {
       "model_id": "aa6435ede6304951bfd288927da83533",
       "version_major": 2,
       "version_minor": 0
      },
      "text/plain": [
       "Validation: |          | 0/? [00:00<?, ?it/s]"
      ]
     },
     "metadata": {},
     "output_type": "display_data"
    },
    {
     "data": {
      "application/vnd.jupyter.widget-view+json": {
       "model_id": "68d2aa3dc3004e5dbbffe9733422b1a3",
       "version_major": 2,
       "version_minor": 0
      },
      "text/plain": [
       "Validation: |          | 0/? [00:00<?, ?it/s]"
      ]
     },
     "metadata": {},
     "output_type": "display_data"
    },
    {
     "data": {
      "application/vnd.jupyter.widget-view+json": {
       "model_id": "52a0564f39dd48a6adb23b7b2c2a2ed8",
       "version_major": 2,
       "version_minor": 0
      },
      "text/plain": [
       "Validation: |          | 0/? [00:00<?, ?it/s]"
      ]
     },
     "metadata": {},
     "output_type": "display_data"
    },
    {
     "data": {
      "application/vnd.jupyter.widget-view+json": {
       "model_id": "af14a5c9c68d47949b0aed258b13876c",
       "version_major": 2,
       "version_minor": 0
      },
      "text/plain": [
       "Validation: |          | 0/? [00:00<?, ?it/s]"
      ]
     },
     "metadata": {},
     "output_type": "display_data"
    },
    {
     "data": {
      "application/vnd.jupyter.widget-view+json": {
       "model_id": "0410ac80e100414a8ebfa78b04d52a3b",
       "version_major": 2,
       "version_minor": 0
      },
      "text/plain": [
       "Validation: |          | 0/? [00:00<?, ?it/s]"
      ]
     },
     "metadata": {},
     "output_type": "display_data"
    },
    {
     "data": {
      "application/vnd.jupyter.widget-view+json": {
       "model_id": "dc624cce957f417e80c5c62fb830aa40",
       "version_major": 2,
       "version_minor": 0
      },
      "text/plain": [
       "Validation: |          | 0/? [00:00<?, ?it/s]"
      ]
     },
     "metadata": {},
     "output_type": "display_data"
    },
    {
     "name": "stderr",
     "output_type": "stream",
     "text": [
      "\n",
      "Detected KeyboardInterrupt, attempting graceful shutdown ...\n"
     ]
    },
    {
     "ename": "NameError",
     "evalue": "name 'exit' is not defined",
     "output_type": "error",
     "traceback": [
      "\u001b[0;31m---------------------------------------------------------------------------\u001b[0m",
      "\u001b[0;31mKeyboardInterrupt\u001b[0m                         Traceback (most recent call last)",
      "File \u001b[0;32m~/anaconda3/envs/pytorch/lib/python3.12/site-packages/pytorch_lightning/trainer/call.py:47\u001b[0m, in \u001b[0;36m_call_and_handle_interrupt\u001b[0;34m(trainer, trainer_fn, *args, **kwargs)\u001b[0m\n\u001b[1;32m     46\u001b[0m         \u001b[38;5;28;01mreturn\u001b[39;00m trainer\u001b[38;5;241m.\u001b[39mstrategy\u001b[38;5;241m.\u001b[39mlauncher\u001b[38;5;241m.\u001b[39mlaunch(trainer_fn, \u001b[38;5;241m*\u001b[39margs, trainer\u001b[38;5;241m=\u001b[39mtrainer, \u001b[38;5;241m*\u001b[39m\u001b[38;5;241m*\u001b[39mkwargs)\n\u001b[0;32m---> 47\u001b[0m     \u001b[38;5;28;01mreturn\u001b[39;00m \u001b[43mtrainer_fn\u001b[49m\u001b[43m(\u001b[49m\u001b[38;5;241;43m*\u001b[39;49m\u001b[43margs\u001b[49m\u001b[43m,\u001b[49m\u001b[43m \u001b[49m\u001b[38;5;241;43m*\u001b[39;49m\u001b[38;5;241;43m*\u001b[39;49m\u001b[43mkwargs\u001b[49m\u001b[43m)\u001b[49m\n\u001b[1;32m     49\u001b[0m \u001b[38;5;28;01mexcept\u001b[39;00m _TunerExitException:\n",
      "File \u001b[0;32m~/anaconda3/envs/pytorch/lib/python3.12/site-packages/pytorch_lightning/trainer/trainer.py:574\u001b[0m, in \u001b[0;36mTrainer._fit_impl\u001b[0;34m(self, model, train_dataloaders, val_dataloaders, datamodule, ckpt_path)\u001b[0m\n\u001b[1;32m    568\u001b[0m ckpt_path \u001b[38;5;241m=\u001b[39m \u001b[38;5;28mself\u001b[39m\u001b[38;5;241m.\u001b[39m_checkpoint_connector\u001b[38;5;241m.\u001b[39m_select_ckpt_path(\n\u001b[1;32m    569\u001b[0m     \u001b[38;5;28mself\u001b[39m\u001b[38;5;241m.\u001b[39mstate\u001b[38;5;241m.\u001b[39mfn,\n\u001b[1;32m    570\u001b[0m     ckpt_path,\n\u001b[1;32m    571\u001b[0m     model_provided\u001b[38;5;241m=\u001b[39m\u001b[38;5;28;01mTrue\u001b[39;00m,\n\u001b[1;32m    572\u001b[0m     model_connected\u001b[38;5;241m=\u001b[39m\u001b[38;5;28mself\u001b[39m\u001b[38;5;241m.\u001b[39mlightning_module \u001b[38;5;129;01mis\u001b[39;00m \u001b[38;5;129;01mnot\u001b[39;00m \u001b[38;5;28;01mNone\u001b[39;00m,\n\u001b[1;32m    573\u001b[0m )\n\u001b[0;32m--> 574\u001b[0m \u001b[38;5;28;43mself\u001b[39;49m\u001b[38;5;241;43m.\u001b[39;49m\u001b[43m_run\u001b[49m\u001b[43m(\u001b[49m\u001b[43mmodel\u001b[49m\u001b[43m,\u001b[49m\u001b[43m \u001b[49m\u001b[43mckpt_path\u001b[49m\u001b[38;5;241;43m=\u001b[39;49m\u001b[43mckpt_path\u001b[49m\u001b[43m)\u001b[49m\n\u001b[1;32m    576\u001b[0m \u001b[38;5;28;01massert\u001b[39;00m \u001b[38;5;28mself\u001b[39m\u001b[38;5;241m.\u001b[39mstate\u001b[38;5;241m.\u001b[39mstopped\n",
      "File \u001b[0;32m~/anaconda3/envs/pytorch/lib/python3.12/site-packages/pytorch_lightning/trainer/trainer.py:981\u001b[0m, in \u001b[0;36mTrainer._run\u001b[0;34m(self, model, ckpt_path)\u001b[0m\n\u001b[1;32m    978\u001b[0m \u001b[38;5;66;03m# ----------------------------\u001b[39;00m\n\u001b[1;32m    979\u001b[0m \u001b[38;5;66;03m# RUN THE TRAINER\u001b[39;00m\n\u001b[1;32m    980\u001b[0m \u001b[38;5;66;03m# ----------------------------\u001b[39;00m\n\u001b[0;32m--> 981\u001b[0m results \u001b[38;5;241m=\u001b[39m \u001b[38;5;28;43mself\u001b[39;49m\u001b[38;5;241;43m.\u001b[39;49m\u001b[43m_run_stage\u001b[49m\u001b[43m(\u001b[49m\u001b[43m)\u001b[49m\n\u001b[1;32m    983\u001b[0m \u001b[38;5;66;03m# ----------------------------\u001b[39;00m\n\u001b[1;32m    984\u001b[0m \u001b[38;5;66;03m# POST-Training CLEAN UP\u001b[39;00m\n\u001b[1;32m    985\u001b[0m \u001b[38;5;66;03m# ----------------------------\u001b[39;00m\n",
      "File \u001b[0;32m~/anaconda3/envs/pytorch/lib/python3.12/site-packages/pytorch_lightning/trainer/trainer.py:1025\u001b[0m, in \u001b[0;36mTrainer._run_stage\u001b[0;34m(self)\u001b[0m\n\u001b[1;32m   1024\u001b[0m \u001b[38;5;28;01mwith\u001b[39;00m torch\u001b[38;5;241m.\u001b[39mautograd\u001b[38;5;241m.\u001b[39mset_detect_anomaly(\u001b[38;5;28mself\u001b[39m\u001b[38;5;241m.\u001b[39m_detect_anomaly):\n\u001b[0;32m-> 1025\u001b[0m     \u001b[38;5;28;43mself\u001b[39;49m\u001b[38;5;241;43m.\u001b[39;49m\u001b[43mfit_loop\u001b[49m\u001b[38;5;241;43m.\u001b[39;49m\u001b[43mrun\u001b[49m\u001b[43m(\u001b[49m\u001b[43m)\u001b[49m\n\u001b[1;32m   1026\u001b[0m \u001b[38;5;28;01mreturn\u001b[39;00m \u001b[38;5;28;01mNone\u001b[39;00m\n",
      "File \u001b[0;32m~/anaconda3/envs/pytorch/lib/python3.12/site-packages/pytorch_lightning/loops/fit_loop.py:205\u001b[0m, in \u001b[0;36m_FitLoop.run\u001b[0;34m(self)\u001b[0m\n\u001b[1;32m    204\u001b[0m \u001b[38;5;28mself\u001b[39m\u001b[38;5;241m.\u001b[39mon_advance_start()\n\u001b[0;32m--> 205\u001b[0m \u001b[38;5;28;43mself\u001b[39;49m\u001b[38;5;241;43m.\u001b[39;49m\u001b[43madvance\u001b[49m\u001b[43m(\u001b[49m\u001b[43m)\u001b[49m\n\u001b[1;32m    206\u001b[0m \u001b[38;5;28mself\u001b[39m\u001b[38;5;241m.\u001b[39mon_advance_end()\n",
      "File \u001b[0;32m~/anaconda3/envs/pytorch/lib/python3.12/site-packages/pytorch_lightning/loops/fit_loop.py:363\u001b[0m, in \u001b[0;36m_FitLoop.advance\u001b[0;34m(self)\u001b[0m\n\u001b[1;32m    362\u001b[0m \u001b[38;5;28;01massert\u001b[39;00m \u001b[38;5;28mself\u001b[39m\u001b[38;5;241m.\u001b[39m_data_fetcher \u001b[38;5;129;01mis\u001b[39;00m \u001b[38;5;129;01mnot\u001b[39;00m \u001b[38;5;28;01mNone\u001b[39;00m\n\u001b[0;32m--> 363\u001b[0m \u001b[38;5;28;43mself\u001b[39;49m\u001b[38;5;241;43m.\u001b[39;49m\u001b[43mepoch_loop\u001b[49m\u001b[38;5;241;43m.\u001b[39;49m\u001b[43mrun\u001b[49m\u001b[43m(\u001b[49m\u001b[38;5;28;43mself\u001b[39;49m\u001b[38;5;241;43m.\u001b[39;49m\u001b[43m_data_fetcher\u001b[49m\u001b[43m)\u001b[49m\n",
      "File \u001b[0;32m~/anaconda3/envs/pytorch/lib/python3.12/site-packages/pytorch_lightning/loops/training_epoch_loop.py:140\u001b[0m, in \u001b[0;36m_TrainingEpochLoop.run\u001b[0;34m(self, data_fetcher)\u001b[0m\n\u001b[1;32m    139\u001b[0m \u001b[38;5;28;01mtry\u001b[39;00m:\n\u001b[0;32m--> 140\u001b[0m     \u001b[38;5;28;43mself\u001b[39;49m\u001b[38;5;241;43m.\u001b[39;49m\u001b[43madvance\u001b[49m\u001b[43m(\u001b[49m\u001b[43mdata_fetcher\u001b[49m\u001b[43m)\u001b[49m\n\u001b[1;32m    141\u001b[0m     \u001b[38;5;28mself\u001b[39m\u001b[38;5;241m.\u001b[39mon_advance_end(data_fetcher)\n",
      "File \u001b[0;32m~/anaconda3/envs/pytorch/lib/python3.12/site-packages/pytorch_lightning/loops/training_epoch_loop.py:250\u001b[0m, in \u001b[0;36m_TrainingEpochLoop.advance\u001b[0;34m(self, data_fetcher)\u001b[0m\n\u001b[1;32m    248\u001b[0m \u001b[38;5;28;01mif\u001b[39;00m trainer\u001b[38;5;241m.\u001b[39mlightning_module\u001b[38;5;241m.\u001b[39mautomatic_optimization:\n\u001b[1;32m    249\u001b[0m     \u001b[38;5;66;03m# in automatic optimization, there can only be one optimizer\u001b[39;00m\n\u001b[0;32m--> 250\u001b[0m     batch_output \u001b[38;5;241m=\u001b[39m \u001b[38;5;28;43mself\u001b[39;49m\u001b[38;5;241;43m.\u001b[39;49m\u001b[43mautomatic_optimization\u001b[49m\u001b[38;5;241;43m.\u001b[39;49m\u001b[43mrun\u001b[49m\u001b[43m(\u001b[49m\u001b[43mtrainer\u001b[49m\u001b[38;5;241;43m.\u001b[39;49m\u001b[43moptimizers\u001b[49m\u001b[43m[\u001b[49m\u001b[38;5;241;43m0\u001b[39;49m\u001b[43m]\u001b[49m\u001b[43m,\u001b[49m\u001b[43m \u001b[49m\u001b[43mbatch_idx\u001b[49m\u001b[43m,\u001b[49m\u001b[43m \u001b[49m\u001b[43mkwargs\u001b[49m\u001b[43m)\u001b[49m\n\u001b[1;32m    251\u001b[0m \u001b[38;5;28;01melse\u001b[39;00m:\n",
      "File \u001b[0;32m~/anaconda3/envs/pytorch/lib/python3.12/site-packages/pytorch_lightning/loops/optimization/automatic.py:190\u001b[0m, in \u001b[0;36m_AutomaticOptimization.run\u001b[0;34m(self, optimizer, batch_idx, kwargs)\u001b[0m\n\u001b[1;32m    185\u001b[0m \u001b[38;5;66;03m# ------------------------------\u001b[39;00m\n\u001b[1;32m    186\u001b[0m \u001b[38;5;66;03m# BACKWARD PASS\u001b[39;00m\n\u001b[1;32m    187\u001b[0m \u001b[38;5;66;03m# ------------------------------\u001b[39;00m\n\u001b[1;32m    188\u001b[0m \u001b[38;5;66;03m# gradient update with accumulated gradients\u001b[39;00m\n\u001b[1;32m    189\u001b[0m \u001b[38;5;28;01melse\u001b[39;00m:\n\u001b[0;32m--> 190\u001b[0m     \u001b[38;5;28;43mself\u001b[39;49m\u001b[38;5;241;43m.\u001b[39;49m\u001b[43m_optimizer_step\u001b[49m\u001b[43m(\u001b[49m\u001b[43mbatch_idx\u001b[49m\u001b[43m,\u001b[49m\u001b[43m \u001b[49m\u001b[43mclosure\u001b[49m\u001b[43m)\u001b[49m\n\u001b[1;32m    192\u001b[0m result \u001b[38;5;241m=\u001b[39m closure\u001b[38;5;241m.\u001b[39mconsume_result()\n",
      "File \u001b[0;32m~/anaconda3/envs/pytorch/lib/python3.12/site-packages/pytorch_lightning/loops/optimization/automatic.py:268\u001b[0m, in \u001b[0;36m_AutomaticOptimization._optimizer_step\u001b[0;34m(self, batch_idx, train_step_and_backward_closure)\u001b[0m\n\u001b[1;32m    267\u001b[0m \u001b[38;5;66;03m# model hook\u001b[39;00m\n\u001b[0;32m--> 268\u001b[0m \u001b[43mcall\u001b[49m\u001b[38;5;241;43m.\u001b[39;49m\u001b[43m_call_lightning_module_hook\u001b[49m\u001b[43m(\u001b[49m\n\u001b[1;32m    269\u001b[0m \u001b[43m    \u001b[49m\u001b[43mtrainer\u001b[49m\u001b[43m,\u001b[49m\n\u001b[1;32m    270\u001b[0m \u001b[43m    \u001b[49m\u001b[38;5;124;43m\"\u001b[39;49m\u001b[38;5;124;43moptimizer_step\u001b[39;49m\u001b[38;5;124;43m\"\u001b[39;49m\u001b[43m,\u001b[49m\n\u001b[1;32m    271\u001b[0m \u001b[43m    \u001b[49m\u001b[43mtrainer\u001b[49m\u001b[38;5;241;43m.\u001b[39;49m\u001b[43mcurrent_epoch\u001b[49m\u001b[43m,\u001b[49m\n\u001b[1;32m    272\u001b[0m \u001b[43m    \u001b[49m\u001b[43mbatch_idx\u001b[49m\u001b[43m,\u001b[49m\n\u001b[1;32m    273\u001b[0m \u001b[43m    \u001b[49m\u001b[43moptimizer\u001b[49m\u001b[43m,\u001b[49m\n\u001b[1;32m    274\u001b[0m \u001b[43m    \u001b[49m\u001b[43mtrain_step_and_backward_closure\u001b[49m\u001b[43m,\u001b[49m\n\u001b[1;32m    275\u001b[0m \u001b[43m\u001b[49m\u001b[43m)\u001b[49m\n\u001b[1;32m    277\u001b[0m \u001b[38;5;28;01mif\u001b[39;00m \u001b[38;5;129;01mnot\u001b[39;00m should_accumulate:\n",
      "File \u001b[0;32m~/anaconda3/envs/pytorch/lib/python3.12/site-packages/pytorch_lightning/trainer/call.py:167\u001b[0m, in \u001b[0;36m_call_lightning_module_hook\u001b[0;34m(trainer, hook_name, pl_module, *args, **kwargs)\u001b[0m\n\u001b[1;32m    166\u001b[0m \u001b[38;5;28;01mwith\u001b[39;00m trainer\u001b[38;5;241m.\u001b[39mprofiler\u001b[38;5;241m.\u001b[39mprofile(\u001b[38;5;124mf\u001b[39m\u001b[38;5;124m\"\u001b[39m\u001b[38;5;124m[LightningModule]\u001b[39m\u001b[38;5;132;01m{\u001b[39;00mpl_module\u001b[38;5;241m.\u001b[39m\u001b[38;5;18m__class__\u001b[39m\u001b[38;5;241m.\u001b[39m\u001b[38;5;18m__name__\u001b[39m\u001b[38;5;132;01m}\u001b[39;00m\u001b[38;5;124m.\u001b[39m\u001b[38;5;132;01m{\u001b[39;00mhook_name\u001b[38;5;132;01m}\u001b[39;00m\u001b[38;5;124m\"\u001b[39m):\n\u001b[0;32m--> 167\u001b[0m     output \u001b[38;5;241m=\u001b[39m \u001b[43mfn\u001b[49m\u001b[43m(\u001b[49m\u001b[38;5;241;43m*\u001b[39;49m\u001b[43margs\u001b[49m\u001b[43m,\u001b[49m\u001b[43m \u001b[49m\u001b[38;5;241;43m*\u001b[39;49m\u001b[38;5;241;43m*\u001b[39;49m\u001b[43mkwargs\u001b[49m\u001b[43m)\u001b[49m\n\u001b[1;32m    169\u001b[0m \u001b[38;5;66;03m# restore current_fx when nested context\u001b[39;00m\n",
      "File \u001b[0;32m~/anaconda3/envs/pytorch/lib/python3.12/site-packages/pytorch_lightning/core/module.py:1306\u001b[0m, in \u001b[0;36mLightningModule.optimizer_step\u001b[0;34m(self, epoch, batch_idx, optimizer, optimizer_closure)\u001b[0m\n\u001b[1;32m   1282\u001b[0m \u001b[38;5;250m\u001b[39m\u001b[38;5;124mr\u001b[39m\u001b[38;5;124;03m\"\"\"Override this method to adjust the default way the :class:`~pytorch_lightning.trainer.trainer.Trainer` calls\u001b[39;00m\n\u001b[1;32m   1283\u001b[0m \u001b[38;5;124;03mthe optimizer.\u001b[39;00m\n\u001b[1;32m   1284\u001b[0m \n\u001b[0;32m   (...)\u001b[0m\n\u001b[1;32m   1304\u001b[0m \n\u001b[1;32m   1305\u001b[0m \u001b[38;5;124;03m\"\"\"\u001b[39;00m\n\u001b[0;32m-> 1306\u001b[0m \u001b[43moptimizer\u001b[49m\u001b[38;5;241;43m.\u001b[39;49m\u001b[43mstep\u001b[49m\u001b[43m(\u001b[49m\u001b[43mclosure\u001b[49m\u001b[38;5;241;43m=\u001b[39;49m\u001b[43moptimizer_closure\u001b[49m\u001b[43m)\u001b[49m\n",
      "File \u001b[0;32m~/anaconda3/envs/pytorch/lib/python3.12/site-packages/pytorch_lightning/core/optimizer.py:153\u001b[0m, in \u001b[0;36mLightningOptimizer.step\u001b[0;34m(self, closure, **kwargs)\u001b[0m\n\u001b[1;32m    152\u001b[0m \u001b[38;5;28;01massert\u001b[39;00m \u001b[38;5;28mself\u001b[39m\u001b[38;5;241m.\u001b[39m_strategy \u001b[38;5;129;01mis\u001b[39;00m \u001b[38;5;129;01mnot\u001b[39;00m \u001b[38;5;28;01mNone\u001b[39;00m\n\u001b[0;32m--> 153\u001b[0m step_output \u001b[38;5;241m=\u001b[39m \u001b[38;5;28;43mself\u001b[39;49m\u001b[38;5;241;43m.\u001b[39;49m\u001b[43m_strategy\u001b[49m\u001b[38;5;241;43m.\u001b[39;49m\u001b[43moptimizer_step\u001b[49m\u001b[43m(\u001b[49m\u001b[38;5;28;43mself\u001b[39;49m\u001b[38;5;241;43m.\u001b[39;49m\u001b[43m_optimizer\u001b[49m\u001b[43m,\u001b[49m\u001b[43m \u001b[49m\u001b[43mclosure\u001b[49m\u001b[43m,\u001b[49m\u001b[43m \u001b[49m\u001b[38;5;241;43m*\u001b[39;49m\u001b[38;5;241;43m*\u001b[39;49m\u001b[43mkwargs\u001b[49m\u001b[43m)\u001b[49m\n\u001b[1;32m    155\u001b[0m \u001b[38;5;28mself\u001b[39m\u001b[38;5;241m.\u001b[39m_on_after_step()\n",
      "File \u001b[0;32m~/anaconda3/envs/pytorch/lib/python3.12/site-packages/pytorch_lightning/strategies/strategy.py:238\u001b[0m, in \u001b[0;36mStrategy.optimizer_step\u001b[0;34m(self, optimizer, closure, model, **kwargs)\u001b[0m\n\u001b[1;32m    237\u001b[0m \u001b[38;5;28;01massert\u001b[39;00m \u001b[38;5;28misinstance\u001b[39m(model, pl\u001b[38;5;241m.\u001b[39mLightningModule)\n\u001b[0;32m--> 238\u001b[0m \u001b[38;5;28;01mreturn\u001b[39;00m \u001b[38;5;28;43mself\u001b[39;49m\u001b[38;5;241;43m.\u001b[39;49m\u001b[43mprecision_plugin\u001b[49m\u001b[38;5;241;43m.\u001b[39;49m\u001b[43moptimizer_step\u001b[49m\u001b[43m(\u001b[49m\u001b[43moptimizer\u001b[49m\u001b[43m,\u001b[49m\u001b[43m \u001b[49m\u001b[43mmodel\u001b[49m\u001b[38;5;241;43m=\u001b[39;49m\u001b[43mmodel\u001b[49m\u001b[43m,\u001b[49m\u001b[43m \u001b[49m\u001b[43mclosure\u001b[49m\u001b[38;5;241;43m=\u001b[39;49m\u001b[43mclosure\u001b[49m\u001b[43m,\u001b[49m\u001b[43m \u001b[49m\u001b[38;5;241;43m*\u001b[39;49m\u001b[38;5;241;43m*\u001b[39;49m\u001b[43mkwargs\u001b[49m\u001b[43m)\u001b[49m\n",
      "File \u001b[0;32m~/anaconda3/envs/pytorch/lib/python3.12/site-packages/pytorch_lightning/plugins/precision/amp.py:94\u001b[0m, in \u001b[0;36mMixedPrecision.optimizer_step\u001b[0;34m(self, optimizer, model, closure, **kwargs)\u001b[0m\n\u001b[1;32m     92\u001b[0m \u001b[38;5;28;01mif\u001b[39;00m \u001b[38;5;129;01mnot\u001b[39;00m skip_unscaling:\n\u001b[1;32m     93\u001b[0m     \u001b[38;5;66;03m# note: the scaler will skip the `optimizer.step` if nonfinite gradients are found\u001b[39;00m\n\u001b[0;32m---> 94\u001b[0m     step_output \u001b[38;5;241m=\u001b[39m \u001b[38;5;28;43mself\u001b[39;49m\u001b[38;5;241;43m.\u001b[39;49m\u001b[43mscaler\u001b[49m\u001b[38;5;241;43m.\u001b[39;49m\u001b[43mstep\u001b[49m\u001b[43m(\u001b[49m\u001b[43moptimizer\u001b[49m\u001b[43m,\u001b[49m\u001b[43m \u001b[49m\u001b[38;5;241;43m*\u001b[39;49m\u001b[38;5;241;43m*\u001b[39;49m\u001b[43mkwargs\u001b[49m\u001b[43m)\u001b[49m  \u001b[38;5;66;03m# type: ignore[arg-type]\u001b[39;00m\n\u001b[1;32m     95\u001b[0m     \u001b[38;5;28mself\u001b[39m\u001b[38;5;241m.\u001b[39mscaler\u001b[38;5;241m.\u001b[39mupdate()\n",
      "File \u001b[0;32m~/anaconda3/envs/pytorch/lib/python3.12/site-packages/torch/amp/grad_scaler.py:457\u001b[0m, in \u001b[0;36mGradScaler.step\u001b[0;34m(self, optimizer, *args, **kwargs)\u001b[0m\n\u001b[1;32m    453\u001b[0m \u001b[38;5;28;01massert\u001b[39;00m (\n\u001b[1;32m    454\u001b[0m     \u001b[38;5;28mlen\u001b[39m(optimizer_state[\u001b[38;5;124m\"\u001b[39m\u001b[38;5;124mfound_inf_per_device\u001b[39m\u001b[38;5;124m\"\u001b[39m]) \u001b[38;5;241m>\u001b[39m \u001b[38;5;241m0\u001b[39m\n\u001b[1;32m    455\u001b[0m ), \u001b[38;5;124m\"\u001b[39m\u001b[38;5;124mNo inf checks were recorded for this optimizer.\u001b[39m\u001b[38;5;124m\"\u001b[39m\n\u001b[0;32m--> 457\u001b[0m retval \u001b[38;5;241m=\u001b[39m \u001b[38;5;28;43mself\u001b[39;49m\u001b[38;5;241;43m.\u001b[39;49m\u001b[43m_maybe_opt_step\u001b[49m\u001b[43m(\u001b[49m\u001b[43moptimizer\u001b[49m\u001b[43m,\u001b[49m\u001b[43m \u001b[49m\u001b[43moptimizer_state\u001b[49m\u001b[43m,\u001b[49m\u001b[43m \u001b[49m\u001b[38;5;241;43m*\u001b[39;49m\u001b[43margs\u001b[49m\u001b[43m,\u001b[49m\u001b[43m \u001b[49m\u001b[38;5;241;43m*\u001b[39;49m\u001b[38;5;241;43m*\u001b[39;49m\u001b[43mkwargs\u001b[49m\u001b[43m)\u001b[49m\n\u001b[1;32m    459\u001b[0m optimizer_state[\u001b[38;5;124m\"\u001b[39m\u001b[38;5;124mstage\u001b[39m\u001b[38;5;124m\"\u001b[39m] \u001b[38;5;241m=\u001b[39m OptState\u001b[38;5;241m.\u001b[39mSTEPPED\n",
      "File \u001b[0;32m~/anaconda3/envs/pytorch/lib/python3.12/site-packages/torch/amp/grad_scaler.py:351\u001b[0m, in \u001b[0;36mGradScaler._maybe_opt_step\u001b[0;34m(self, optimizer, optimizer_state, *args, **kwargs)\u001b[0m\n\u001b[1;32m    350\u001b[0m retval: Optional[\u001b[38;5;28mfloat\u001b[39m] \u001b[38;5;241m=\u001b[39m \u001b[38;5;28;01mNone\u001b[39;00m\n\u001b[0;32m--> 351\u001b[0m \u001b[38;5;28;01mif\u001b[39;00m \u001b[38;5;129;01mnot\u001b[39;00m \u001b[38;5;28;43msum\u001b[39;49m\u001b[43m(\u001b[49m\u001b[43mv\u001b[49m\u001b[38;5;241;43m.\u001b[39;49m\u001b[43mitem\u001b[49m\u001b[43m(\u001b[49m\u001b[43m)\u001b[49m\u001b[43m \u001b[49m\u001b[38;5;28;43;01mfor\u001b[39;49;00m\u001b[43m \u001b[49m\u001b[43mv\u001b[49m\u001b[43m \u001b[49m\u001b[38;5;129;43;01min\u001b[39;49;00m\u001b[43m \u001b[49m\u001b[43moptimizer_state\u001b[49m\u001b[43m[\u001b[49m\u001b[38;5;124;43m\"\u001b[39;49m\u001b[38;5;124;43mfound_inf_per_device\u001b[39;49m\u001b[38;5;124;43m\"\u001b[39;49m\u001b[43m]\u001b[49m\u001b[38;5;241;43m.\u001b[39;49m\u001b[43mvalues\u001b[49m\u001b[43m(\u001b[49m\u001b[43m)\u001b[49m\u001b[43m)\u001b[49m:\n\u001b[1;32m    352\u001b[0m     retval \u001b[38;5;241m=\u001b[39m optimizer\u001b[38;5;241m.\u001b[39mstep(\u001b[38;5;241m*\u001b[39margs, \u001b[38;5;241m*\u001b[39m\u001b[38;5;241m*\u001b[39mkwargs)\n",
      "File \u001b[0;32m~/anaconda3/envs/pytorch/lib/python3.12/site-packages/torch/amp/grad_scaler.py:351\u001b[0m, in \u001b[0;36m<genexpr>\u001b[0;34m(.0)\u001b[0m\n\u001b[1;32m    350\u001b[0m retval: Optional[\u001b[38;5;28mfloat\u001b[39m] \u001b[38;5;241m=\u001b[39m \u001b[38;5;28;01mNone\u001b[39;00m\n\u001b[0;32m--> 351\u001b[0m \u001b[38;5;28;01mif\u001b[39;00m \u001b[38;5;129;01mnot\u001b[39;00m \u001b[38;5;28msum\u001b[39m(\u001b[43mv\u001b[49m\u001b[38;5;241;43m.\u001b[39;49m\u001b[43mitem\u001b[49m\u001b[43m(\u001b[49m\u001b[43m)\u001b[49m \u001b[38;5;28;01mfor\u001b[39;00m v \u001b[38;5;129;01min\u001b[39;00m optimizer_state[\u001b[38;5;124m\"\u001b[39m\u001b[38;5;124mfound_inf_per_device\u001b[39m\u001b[38;5;124m\"\u001b[39m]\u001b[38;5;241m.\u001b[39mvalues()):\n\u001b[1;32m    352\u001b[0m     retval \u001b[38;5;241m=\u001b[39m optimizer\u001b[38;5;241m.\u001b[39mstep(\u001b[38;5;241m*\u001b[39margs, \u001b[38;5;241m*\u001b[39m\u001b[38;5;241m*\u001b[39mkwargs)\n",
      "\u001b[0;31mKeyboardInterrupt\u001b[0m: ",
      "\nDuring handling of the above exception, another exception occurred:\n",
      "\u001b[0;31mNameError\u001b[0m                                 Traceback (most recent call last)",
      "Cell \u001b[0;32mIn[18], line 28\u001b[0m\n\u001b[1;32m     12\u001b[0m trainer \u001b[38;5;241m=\u001b[39m pl\u001b[38;5;241m.\u001b[39mTrainer(\n\u001b[1;32m     13\u001b[0m     max_epochs\u001b[38;5;241m=\u001b[39mmax_epochs,\n\u001b[1;32m     14\u001b[0m     precision\u001b[38;5;241m=\u001b[39m\u001b[38;5;241m16\u001b[39m,\n\u001b[0;32m   (...)\u001b[0m\n\u001b[1;32m     24\u001b[0m     logger\u001b[38;5;241m=\u001b[39mtensorboard_logger\n\u001b[1;32m     25\u001b[0m )\n\u001b[1;32m     27\u001b[0m \u001b[38;5;66;03m# Iniciar o treinamento\u001b[39;00m\n\u001b[0;32m---> 28\u001b[0m \u001b[43mtrainer\u001b[49m\u001b[38;5;241;43m.\u001b[39;49m\u001b[43mfit\u001b[49m\u001b[43m(\u001b[49m\n\u001b[1;32m     29\u001b[0m \u001b[43m    \u001b[49m\u001b[43mmodel\u001b[49m\u001b[43m,\u001b[49m\n\u001b[1;32m     30\u001b[0m \u001b[43m    \u001b[49m\u001b[43mtrain_dataloaders\u001b[49m\u001b[38;5;241;43m=\u001b[39;49m\u001b[43mtrain_dataloader\u001b[49m\u001b[43m,\u001b[49m\u001b[43m \u001b[49m\u001b[38;5;66;43;03m#IterableDataset\u001b[39;49;00m\n\u001b[1;32m     31\u001b[0m \u001b[43m    \u001b[49m\u001b[43mval_dataloaders\u001b[49m\u001b[38;5;241;43m=\u001b[39;49m\u001b[43mvalidation_dataloader\u001b[49m\u001b[43m \u001b[49m\u001b[38;5;66;43;03m#Dataset\u001b[39;49;00m\n\u001b[1;32m     32\u001b[0m \u001b[43m)\u001b[49m\n",
      "File \u001b[0;32m~/anaconda3/envs/pytorch/lib/python3.12/site-packages/pytorch_lightning/trainer/trainer.py:538\u001b[0m, in \u001b[0;36mTrainer.fit\u001b[0;34m(self, model, train_dataloaders, val_dataloaders, datamodule, ckpt_path)\u001b[0m\n\u001b[1;32m    536\u001b[0m \u001b[38;5;28mself\u001b[39m\u001b[38;5;241m.\u001b[39mstate\u001b[38;5;241m.\u001b[39mstatus \u001b[38;5;241m=\u001b[39m TrainerStatus\u001b[38;5;241m.\u001b[39mRUNNING\n\u001b[1;32m    537\u001b[0m \u001b[38;5;28mself\u001b[39m\u001b[38;5;241m.\u001b[39mtraining \u001b[38;5;241m=\u001b[39m \u001b[38;5;28;01mTrue\u001b[39;00m\n\u001b[0;32m--> 538\u001b[0m \u001b[43mcall\u001b[49m\u001b[38;5;241;43m.\u001b[39;49m\u001b[43m_call_and_handle_interrupt\u001b[49m\u001b[43m(\u001b[49m\n\u001b[1;32m    539\u001b[0m \u001b[43m    \u001b[49m\u001b[38;5;28;43mself\u001b[39;49m\u001b[43m,\u001b[49m\u001b[43m \u001b[49m\u001b[38;5;28;43mself\u001b[39;49m\u001b[38;5;241;43m.\u001b[39;49m\u001b[43m_fit_impl\u001b[49m\u001b[43m,\u001b[49m\u001b[43m \u001b[49m\u001b[43mmodel\u001b[49m\u001b[43m,\u001b[49m\u001b[43m \u001b[49m\u001b[43mtrain_dataloaders\u001b[49m\u001b[43m,\u001b[49m\u001b[43m \u001b[49m\u001b[43mval_dataloaders\u001b[49m\u001b[43m,\u001b[49m\u001b[43m \u001b[49m\u001b[43mdatamodule\u001b[49m\u001b[43m,\u001b[49m\u001b[43m \u001b[49m\u001b[43mckpt_path\u001b[49m\n\u001b[1;32m    540\u001b[0m \u001b[43m\u001b[49m\u001b[43m)\u001b[49m\n",
      "File \u001b[0;32m~/anaconda3/envs/pytorch/lib/python3.12/site-packages/pytorch_lightning/trainer/call.py:64\u001b[0m, in \u001b[0;36m_call_and_handle_interrupt\u001b[0;34m(trainer, trainer_fn, *args, **kwargs)\u001b[0m\n\u001b[1;32m     62\u001b[0m     \u001b[38;5;28;01mif\u001b[39;00m \u001b[38;5;28misinstance\u001b[39m(launcher, _SubprocessScriptLauncher):\n\u001b[1;32m     63\u001b[0m         launcher\u001b[38;5;241m.\u001b[39mkill(_get_sigkill_signal())\n\u001b[0;32m---> 64\u001b[0m     \u001b[43mexit\u001b[49m(\u001b[38;5;241m1\u001b[39m)\n\u001b[1;32m     66\u001b[0m \u001b[38;5;28;01mexcept\u001b[39;00m \u001b[38;5;167;01mBaseException\u001b[39;00m \u001b[38;5;28;01mas\u001b[39;00m exception:\n\u001b[1;32m     67\u001b[0m     _interrupt(trainer, exception)\n",
      "\u001b[0;31mNameError\u001b[0m: name 'exit' is not defined"
     ]
    }
   ],
   "source": [
    "from pytorch_lightning.callbacks import ModelCheckpoint\n",
    "\n",
    "# Definir callbacks, por exemplo, ModelCheckpoint\n",
    "checkpoint_callback = ModelCheckpoint(\n",
    "    monitor='val_loss',\n",
    "    dirpath='checkpoints',\n",
    "    filename='best-checkpoint',\n",
    "    save_top_k=1,\n",
    "    mode='min'\n",
    ")\n",
    "\n",
    "trainer = pl.Trainer(\n",
    "    max_epochs=max_epochs,\n",
    "    precision=16,\n",
    "    #gradient_clip_val=1.0,\n",
    "    accelerator='auto',\n",
    "    devices='auto',\n",
    "    callbacks=[checkpoint_callback],\n",
    "    accumulate_grad_batches=5,\n",
    "    deterministic=False,\n",
    "    limit_train_batches=limit_train_batches,\n",
    "    log_every_n_steps=limit_train_batches,\n",
    "    profiler=\"simple\",\n",
    "    logger=tensorboard_logger\n",
    ")\n",
    "\n",
    "# Iniciar o treinamento\n",
    "trainer.fit(\n",
    "    model,\n",
    "    train_dataloaders=train_dataloader, #IterableDataset\n",
    "    val_dataloaders=validation_dataloader #Dataset\n",
    ")"
   ]
  },
  {
   "cell_type": "code",
   "execution_count": 19,
   "metadata": {},
   "outputs": [
    {
     "name": "stdout",
     "output_type": "stream",
     "text": [
      "validation_dataloader torch.Size([150, 2, 17, 2048]) torch.Size([150, 2]) torch.Size([150])\n",
      "Acurácia: 0.6800\n",
      "Par 1: 1.4469 Target: 6.8873\n",
      "Par 2: 1.4469 Target: 12.5915\n",
      "Par 3: 1.4469 Target: 6.8873\n",
      "Par 4: 1.4469 Target: 5.3529\n",
      "Par 5: 1.4469 Target: 1.3870\n",
      "Par 6: 1.4469 Target: 5.3529\n",
      "Par 7: 1.4469 Target: 1.9655\n",
      "Par 8: 1.4469 Target: 1.6615\n",
      "Par 9: 1.4469 Target: 0.9201\n",
      "Par 10: 1.4469 Target: 6.6807\n",
      "Par 11: 1.4469 Target: 10.5443\n",
      "Par 12: 1.4469 Target: 0.7221\n",
      "Par 13: 1.4469 Target: 7.7942\n",
      "Par 14: 1.4469 Target: 6.8873\n",
      "Par 15: 1.4469 Target: 10.5443\n",
      "Par 16: 1.4469 Target: 0.0000\n",
      "Par 17: 1.4469 Target: 3.5832\n",
      "Par 18: 1.4469 Target: 14.1543\n",
      "Par 19: 1.4469 Target: 0.5450\n",
      "Par 20: 1.4469 Target: 0.0000\n",
      "Par 21: 1.4469 Target: 0.3857\n",
      "Par 22: 1.4469 Target: 14.1543\n",
      "Par 23: 1.4469 Target: 14.1543\n",
      "Par 24: 1.4469 Target: 10.5443\n",
      "Par 25: 1.4469 Target: 4.3960\n",
      "Par 26: 1.4469 Target: 4.1102\n",
      "Par 27: 1.4469 Target: 0.7221\n",
      "Par 28: 1.4469 Target: 0.0000\n",
      "Par 29: 1.4469 Target: 11.1899\n",
      "Par 30: 1.4469 Target: 0.1149\n",
      "Par 31: 1.4469 Target: 0.0000\n",
      "Par 32: 1.4469 Target: 0.0000\n",
      "Par 33: 1.4469 Target: 4.1102\n",
      "Par 34: 1.4469 Target: 14.1543\n",
      "Par 35: 1.4469 Target: 4.1102\n",
      "Par 36: 1.4469 Target: 14.1543\n",
      "Par 37: 1.4469 Target: 0.0000\n",
      "Par 38: 1.4469 Target: 3.1106\n",
      "Par 39: 1.4469 Target: 0.1455\n",
      "Par 40: 1.4469 Target: 0.0000\n",
      "Par 41: 1.4469 Target: 5.7082\n",
      "Par 42: 1.4469 Target: 6.8873\n",
      "Par 43: 1.4469 Target: 3.4572\n",
      "Par 44: 1.4469 Target: 9.0825\n",
      "Par 45: 1.4469 Target: 14.1543\n",
      "Par 46: 1.4469 Target: 9.0825\n",
      "Par 47: 1.4469 Target: 6.6807\n",
      "Par 48: 1.4469 Target: 0.8685\n",
      "Par 49: 1.4469 Target: 3.4572\n",
      "Par 50: 1.4469 Target: 0.0000\n",
      "Par 51: 1.4469 Target: 14.1543\n",
      "Par 52: 1.4469 Target: 2.3977\n",
      "Par 53: 1.4469 Target: 3.1106\n",
      "Par 54: 1.4469 Target: 4.6978\n",
      "Par 55: 1.4469 Target: 12.5915\n",
      "Par 56: 1.4469 Target: 0.3123\n",
      "Par 57: 1.4469 Target: 9.0825\n",
      "Par 58: 1.4469 Target: 6.0833\n",
      "Par 59: 1.4469 Target: 3.1106\n",
      "Par 60: 1.4469 Target: 2.6867\n",
      "Par 61: 1.4469 Target: 6.8873\n",
      "Par 62: 1.4469 Target: 7.7942\n",
      "Par 63: 1.4469 Target: 2.8928\n",
      "Par 64: 1.4469 Target: 4.1102\n",
      "Par 65: 1.4469 Target: 0.2430\n",
      "Par 66: 1.4469 Target: 6.6807\n",
      "Par 67: 1.4469 Target: 14.1543\n",
      "Par 68: 1.4469 Target: 0.0000\n",
      "Par 69: 1.4469 Target: 14.1543\n",
      "Par 70: 1.4469 Target: 7.7942\n",
      "Par 71: 1.4469 Target: 0.0000\n",
      "Par 72: 1.4469 Target: 0.0000\n",
      "Par 73: 1.4469 Target: 12.2354\n",
      "Par 74: 1.4469 Target: 2.5877\n",
      "Par 75: 1.4469 Target: 0.1455\n",
      "Par 76: 1.4469 Target: 0.9201\n",
      "Par 77: 1.4469 Target: 0.0000\n",
      "Par 78: 1.4469 Target: 1.3870\n",
      "Par 79: 1.4469 Target: 14.1543\n",
      "Par 80: 1.4469 Target: 14.1543\n",
      "Par 81: 1.4469 Target: 0.7221\n",
      "Par 82: 1.4469 Target: 4.1102\n",
      "Par 83: 1.4469 Target: 0.0000\n",
      "Par 84: 1.4469 Target: 0.3123\n",
      "Par 85: 1.4469 Target: 14.1543\n",
      "Par 86: 1.4469 Target: 6.0833\n",
      "Par 87: 1.4469 Target: 0.3123\n",
      "Par 88: 1.4469 Target: 14.1543\n",
      "Par 89: 1.4469 Target: 1.1408\n",
      "Par 90: 1.4469 Target: 0.0000\n",
      "Par 91: 1.4469 Target: 2.8928\n",
      "Par 92: 1.4469 Target: 0.0559\n",
      "Par 93: 1.4469 Target: 2.2177\n",
      "Par 94: 1.4469 Target: 0.3857\n",
      "Par 95: 1.4469 Target: 6.8873\n",
      "Par 96: 1.4469 Target: 14.1543\n",
      "Par 97: 1.4469 Target: 4.6978\n",
      "Par 98: 1.4469 Target: 14.1543\n",
      "Par 99: 1.4469 Target: 14.1543\n",
      "Par 100: 1.4469 Target: 4.1102\n",
      "Par 101: 1.4469 Target: 1.3870\n",
      "Par 102: 1.4469 Target: 1.1408\n",
      "Par 103: 1.4469 Target: 1.0834\n",
      "Par 104: 1.4469 Target: 14.1543\n",
      "Par 105: 1.4469 Target: 0.7221\n",
      "Par 106: 1.4469 Target: 1.8084\n",
      "Par 107: 1.4469 Target: 2.2177\n",
      "Par 108: 1.4469 Target: 1.5205\n",
      "Par 109: 1.4469 Target: 14.1543\n",
      "Par 110: 1.4469 Target: 2.6867\n",
      "Par 111: 1.4469 Target: 13.3516\n",
      "Par 112: 1.4469 Target: 14.1543\n",
      "Par 113: 1.4469 Target: 1.3870\n",
      "Par 114: 1.4469 Target: 2.5877\n",
      "Par 115: 1.4469 Target: 3.1106\n",
      "Par 116: 1.4469 Target: 3.4572\n",
      "Par 117: 1.4469 Target: 2.6867\n",
      "Par 118: 1.4469 Target: 3.5832\n",
      "Par 119: 1.4469 Target: 3.5832\n",
      "Par 120: 1.4469 Target: 10.5443\n",
      "Par 121: 1.4469 Target: 3.4572\n",
      "Par 122: 1.4469 Target: 0.0000\n",
      "Par 123: 1.4469 Target: 3.5832\n",
      "Par 124: 1.4469 Target: 7.7942\n",
      "Par 125: 1.4469 Target: 3.5832\n",
      "Par 126: 1.4469 Target: 7.7942\n",
      "Par 127: 1.4469 Target: 0.0000\n",
      "Par 128: 1.4469 Target: 6.8873\n",
      "Par 129: 1.4469 Target: 0.5450\n",
      "Par 130: 1.4469 Target: 0.1455\n",
      "Par 131: 1.4469 Target: 0.1455\n",
      "Par 132: 1.4469 Target: 0.0000\n",
      "Par 133: 1.4469 Target: 0.3857\n",
      "Par 134: 1.4469 Target: 0.7221\n",
      "Par 135: 1.4469 Target: 3.5832\n",
      "Par 136: 1.4469 Target: 8.8054\n",
      "Par 137: 1.4469 Target: 0.5450\n",
      "Par 138: 1.4469 Target: 14.1543\n",
      "Par 139: 1.4469 Target: 0.4239\n",
      "Par 140: 1.4469 Target: 4.1102\n",
      "Par 141: 1.4469 Target: 1.1408\n",
      "Par 142: 1.4469 Target: 14.1543\n",
      "Par 143: 1.4469 Target: 0.0000\n",
      "Par 144: 1.4469 Target: 6.8873\n",
      "Par 145: 1.4469 Target: 0.2430\n",
      "Par 146: 1.4469 Target: 4.6978\n",
      "Par 147: 1.4469 Target: 0.0000\n",
      "Par 148: 1.4469 Target: 0.9730\n",
      "Par 149: 1.4469 Target: 0.9730\n",
      "Par 150: 1.4469 Target: 0.3857\n"
     ]
    }
   ],
   "source": [
    "#  Converter DataLoader para iterador\n",
    "data_iter = iter(validation_dataloader)\n",
    "# Pegar o primeiro lote\n",
    "embeddings, lengths, targets = next(data_iter)\n",
    "print(\"validation_dataloader\",embeddings.shape,lengths.shape,targets.shape)\n",
    "\n",
    "# Ensure your model and inputs are in float16 if using AMP\n",
    "#model = model.half()\n",
    "#embeddings = embeddings.half()\n",
    "#targets = targets.half()\n",
    "\n",
    "embeddings = embeddings.to(torch.float32).to('cuda')\n",
    "lengths = lengths.to(torch.int64).to('cuda')\n",
    "targets = targets.to(torch.float32).to('cuda')\n",
    "\n",
    "model.to('cuda')\n",
    "model.eval()\n",
    "\n",
    "# Realizar a previsão\n",
    "with torch.no_grad():\n",
    "\toutput = model(embeddings, lengths)\n",
    "\n",
    "# Verificar os sinais de output e target usando os limites fornecidos\n",
    "output_sign = (output <= negative_threshold).float() - (output >= positive_threshold).float()\n",
    "target_sign = (targets <= negative_threshold).float() - (targets >= positive_threshold).float()\n",
    "\n",
    "# Calcular as correspondências\n",
    "matches = (output_sign == target_sign)\n",
    "\n",
    "# Calcular a precisão média\n",
    "accuracy = matches.float().mean()\n",
    "print(f\"Acurácia: {accuracy:.4f}\")\n",
    "\n",
    "# Imprimir os resultados da previsão junto com os valores target\n",
    "for i, (pred, target) in enumerate(zip(output, targets)):\n",
    "    print(f\"Par {i+1}: {inverse_signed_transform(pred.item()*desvios_padrao):.4f} Target: {inverse_signed_transform(target.item()*desvios_padrao):.4f}\")"
   ]
  },
  {
   "cell_type": "code",
   "execution_count": 20,
   "metadata": {},
   "outputs": [
    {
     "name": "stdout",
     "output_type": "stream",
     "text": [
      "validation_dataloader torch.Size([150, 2, 17, 2048]) torch.Size([150, 2]) torch.Size([150])\n",
      "Acurácia: 0.6800\n"
     ]
    },
    {
     "data": {
      "image/png": "[encoded data removed]",
      "text/plain": [
       "<Figure size 2000x1200 with 4 Axes>"
      ]
     },
     "metadata": {},
     "output_type": "display_data"
    }
   ],
   "source": [
    "import torch\n",
    "import numpy as np\n",
    "import matplotlib.pyplot as plt\n",
    "from sklearn.metrics import mean_absolute_error, mean_squared_error, r2_score\n",
    "\n",
    "# Converter DataLoader para iterador\n",
    "data_iter = iter(validation_dataloader)\n",
    "# Pegar o primeiro lote\n",
    "embeddings, lengths, targets = next(data_iter)\n",
    "print(\"validation_dataloader\", embeddings.shape, lengths.shape, targets.shape)\n",
    "\n",
    "# Garantir os tipos de dados corretos\n",
    "embeddings = embeddings.to(torch.float32).to('cuda')\n",
    "lengths = lengths.to(torch.int64).to('cuda')\n",
    "targets = targets.to(torch.float32).to('cuda')\n",
    "\n",
    "model.to('cuda')\n",
    "model.eval()\n",
    "\n",
    "# Realizar a previsão\n",
    "with torch.no_grad():\n",
    "    output = model(embeddings, lengths)\n",
    "\n",
    "# Verificar os sinais de output e target usando os limites fornecidos\n",
    "output_sign = (output <= negative_threshold).float() - (output >= positive_threshold).float()\n",
    "target_sign = (targets <= negative_threshold).float() - (targets >= positive_threshold).float()\n",
    "\n",
    "# Calcular as correspondências\n",
    "matches = (output_sign == target_sign)\n",
    "\n",
    "# Calcular a precisão média\n",
    "accuracy = matches.float().mean()\n",
    "print(f\"Acurácia: {accuracy:.4f}\")\n",
    "\n",
    "# Ordenar os targets em ordem crescente e rearranjar os outputs de acordo\n",
    "sorted_indices = targets.argsort(axis=0).flatten()  # Obter índices que ordenam os targets\n",
    "targets_sorted = targets[sorted_indices]\n",
    "output_sorted = output[sorted_indices]\n",
    "\n",
    "# Aplicar a transformação inversa assinada usando .item()\n",
    "targets_sorted_transformed = np.array([(t.item()) for t in targets_sorted])\n",
    "output_sorted_transformed = np.array([(o.item()) for o in output_sorted])\n",
    "\n",
    "# Calcular métricas de avaliação\n",
    "mae = mean_absolute_error(targets_sorted_transformed, output_sorted_transformed)\n",
    "rmse = np.sqrt(mean_squared_error(targets_sorted_transformed, output_sorted_transformed))\n",
    "r2 = r2_score(targets_sorted_transformed, output_sorted_transformed)\n",
    "\n",
    "# Criar uma figura com três subplots\n",
    "fig, axes = plt.subplots(nrows=2, ncols=2, figsize=(20, 12))\n",
    "\n",
    "# Gráfico 1: Comparação entre Valores Reais e Preditos\n",
    "axes[0, 0].plot(targets_sorted_transformed, label='Valores Reais (Targets)', color='blue')\n",
    "axes[0, 0].plot(output_sorted_transformed, label='Valores Preditos (Outputs)', color='red', alpha=0.7)\n",
    "axes[0, 0].set_xlabel('Índice')\n",
    "axes[0, 0].set_ylabel('Valor')\n",
    "axes[0, 0].set_title('Comparação entre Valores Reais e Preditos')\n",
    "axes[0, 0].legend()\n",
    "axes[0, 0].grid(True)\n",
    "\n",
    "# Gráfico 2: Gráfico de Dispersão com Linha de Regressão\n",
    "axes[0, 1].scatter(targets_sorted_transformed, output_sorted_transformed, alpha=0.5, color='purple')\n",
    "# Linha de regressão\n",
    "m, b = np.polyfit(targets_sorted_transformed, output_sorted_transformed, 1)\n",
    "axes[0, 1].plot(targets_sorted_transformed, m * targets_sorted_transformed + b, color='orange', label=f'Linha de Regressão: y={m:.2f}x+{b:.2f}')\n",
    "axes[0, 1].set_xlabel('Valores Reais (Targets)')\n",
    "axes[0, 1].set_ylabel('Valores Preditos (Outputs)')\n",
    "axes[0, 1].set_title('Dispersão dos Valores Reais vs Preditos')\n",
    "axes[0, 1].legend()\n",
    "axes[0, 1].grid(True)\n",
    "\n",
    "# Gráfico 3: Gráfico de Resíduos\n",
    "residuals = targets_sorted_transformed - output_sorted_transformed\n",
    "axes[1, 0].scatter(range(len(residuals)), residuals, alpha=0.5, color='green')\n",
    "axes[1, 0].axhline(y=0, color='red', linestyle='--')\n",
    "axes[1, 0].set_xlabel('Índice')\n",
    "axes[1, 0].set_ylabel('Resíduo (Target - Output)')\n",
    "axes[1, 0].set_title('Gráfico de Resíduos')\n",
    "axes[1, 0].grid(True)\n",
    "\n",
    "# Gráfico 4: Histograma dos Resíduos\n",
    "axes[1, 1].hist(residuals, bins=50, color='skyblue', edgecolor='black')\n",
    "axes[1, 1].set_xlabel('Resíduo')\n",
    "axes[1, 1].set_ylabel('Frequência')\n",
    "axes[1, 1].set_title('Histograma dos Resíduos')\n",
    "axes[1, 1].grid(True)\n",
    "\n",
    "# Adicionar métricas no gráfico de dispersão\n",
    "metrics_text = f\"MAE: {mae:.2f}\\nRMSE: {rmse:.2f}\\nR²: {r2:.2f}\"\n",
    "axes[0, 1].text(0.05, 0.95, metrics_text, transform=axes[0, 1].transAxes,\n",
    "               fontsize=12, verticalalignment='top',\n",
    "               bbox=dict(boxstyle=\"round\", facecolor=\"wheat\", alpha=0.5))\n",
    "\n",
    "# Ajustar layout para evitar sobreposição\n",
    "plt.tight_layout()\n",
    "\n",
    "# Exibir a figura\n",
    "plt.show()"
   ]
  },
  {
   "cell_type": "code",
   "execution_count": 19,
   "metadata": {},
   "outputs": [
    {
     "name": "stdout",
     "output_type": "stream",
     "text": [
      "Loss 2.0 3.0 (ambos positivos): 1.0\n",
      "Loss -2.0 -3.0 (ambos negativos): 1.0\n",
      "Loss 2.0 -3.0 (output positivo, target negativo): 50.0\n",
      "Loss -2.0 3.0 (output negativo, target positivo): 50.0\n",
      "Loss 0.5 2.0 (output dentro do intervalo, target positivo): 2.25\n",
      "Loss -0.5 -2.0 (output dentro do intervalo, target negativo): 2.25\n",
      "Loss -0.5 0.5 (sinais diferentes dentro do intervalo): 2.0\n"
     ]
    }
   ],
   "source": [
    "import torch\n",
    "\n",
    "# Função de teste da CustomHuberLoss\n",
    "def test_all_sign_cases():\n",
    "    # Instanciar a perda customizada\n",
    "    criterion = CustomHuberLoss(delta=1.0)\n",
    "\n",
    "    # Exemplo 1: Ambos positivos\n",
    "    output1 = torch.tensor([2.0])  # Positivo\n",
    "    target1 = torch.tensor([3.0])  # Positivo\n",
    "    loss1 = criterion(output1, target1)\n",
    "    print(f\"Loss 2.0 3.0 (ambos positivos): {loss1.item()}\")  # Esperado: perda normal\n",
    "\n",
    "    # Exemplo 2: Ambos negativos\n",
    "    output2 = torch.tensor([-2.0])  # Negativo\n",
    "    target2 = torch.tensor([-3.0])  # Negativo\n",
    "    loss2 = criterion(output2, target2)\n",
    "    print(f\"Loss -2.0 -3.0 (ambos negativos): {loss2.item()}\")  # Esperado: perda normal\n",
    "\n",
    "    # Exemplo 3: Output positivo, target negativo\n",
    "    output3 = torch.tensor([2.0])  # Positivo\n",
    "    target3 = torch.tensor([-3.0])  # Negativo\n",
    "    loss3 = criterion(output3, target3)\n",
    "    print(f\"Loss 2.0 -3.0 (output positivo, target negativo): {loss3.item()}\")  # Esperado: perda * 2\n",
    "\n",
    "    # Exemplo 4: Output negativo, target positivo\n",
    "    output4 = torch.tensor([-2.0])  # Negativo\n",
    "    target4 = torch.tensor([3.0])  # Positivo\n",
    "    loss4 = criterion(output4, target4)\n",
    "    print(f\"Loss -2.0 3.0 (output negativo, target positivo): {loss4.item()}\")  # Esperado: perda * 2\n",
    "\n",
    "    # Exemplo 5: Output dentro do intervalo, target positivo\n",
    "    output5 = torch.tensor([0.5])  # Dentro do intervalo\n",
    "    target5 = torch.tensor([2.0])  # Positivo\n",
    "    loss5 = criterion(output5, target5)\n",
    "    print(f\"Loss 0.5 2.0 (output dentro do intervalo, target positivo): {loss5.item()}\")  # Esperado: perda normal\n",
    "\n",
    "    # Exemplo 6: Output dentro do intervalo, target negativo\n",
    "    output6 = torch.tensor([-0.5])  # Dentro do intervalo\n",
    "    target6 = torch.tensor([-2.0])  # Negativo\n",
    "    loss6 = criterion(output6, target6)\n",
    "    print(f\"Loss -0.5 -2.0 (output dentro do intervalo, target negativo): {loss6.item()}\")  # Esperado: perda normal\n",
    "\n",
    "    # Exemplo 7: Ambos dentro do intervalo, mas sinais diferentes\n",
    "    output7 = torch.tensor([-0.5])  # Dentro do intervalo, negativo\n",
    "    target7 = torch.tensor([0.5])  # Dentro do intervalo, positivo\n",
    "    loss7 = criterion(output7, target7)\n",
    "    print(f\"Loss -0.5 0.5 (sinais diferentes dentro do intervalo): {loss7.item()}\")  # Esperado: perda * 2\n",
    "\n",
    "test_all_sign_cases()"
   ]
  },
  {
   "cell_type": "code",
   "execution_count": 22,
   "metadata": {},
   "outputs": [
    {
     "name": "stdout",
     "output_type": "stream",
     "text": [
      "Similaridade Inversa da Diferença Absoluta\n",
      "Correlação de Pearson: 0.0306\n",
      "Correlação de Spearman: 0.0394\n"
     ]
    }
   ],
   "source": [
    "from datasets import load_dataset\n",
    "from scipy.stats import pearsonr, spearmanr\n",
    "import torch\n",
    "\n",
    "# Carregar o conjunto de dados de avaliação (STS Benchmark)\n",
    "eval_dataset = load_dataset(\"sentence-transformers/stsb\", split=\"validation\")\n",
    "\n",
    "# Listas para armazenar as pontuações reais e as previsões do modelo\n",
    "true_scores = []\n",
    "pred_scores = []\n",
    "\n",
    "model.to('cuda')\n",
    "model.eval()\n",
    "with torch.no_grad():\n",
    "\tfor example in eval_dataset:\n",
    "\t\t# Tokenização combinada\n",
    "\t\tencoding = embedding_generator.tokenizer(\n",
    "\t\t\t[example['sentence1'], example['sentence2']],\n",
    "\t\t\treturn_tensors=\"pt\",\n",
    "\t\t\tpadding=True,  # Padding dinâmico\n",
    "\t\t\ttruncation=True\n",
    "\t\t)\n",
    "\n",
    "\t\t# Converter para o dispositivo\n",
    "\t\tinput_ids1 = encoding['input_ids'][0]\n",
    "\t\tattention_mask1 = encoding['attention_mask'][0]\n",
    "\t\tinput_ids2 = encoding['input_ids'][1]\n",
    "\t\tattention_mask2 = encoding['attention_mask'][1]\n",
    "\n",
    "\t\t# Obter embeddings\n",
    "\t\tembeddings1 = embedding_generator.weights[input_ids1]\n",
    "\t\tembeddings2 = embedding_generator.weights[input_ids2]        \n",
    "\t\t\n",
    "\t\t# Concatenar as duas sequências no eixo 1\n",
    "\t\tembeddings = torch.stack([embeddings1, embeddings2]).float().unsqueeze(0).to('cuda')  # (batch_size, 2, seq_length, vector_size)\n",
    "\t\t\n",
    "\t\t# Calcular comprimentos\n",
    "\t\tlengths1 = attention_mask1.sum(dim=0)\n",
    "\t\tlengths2 = attention_mask2.sum(dim=0)\n",
    "\t\tlengths = torch.stack([lengths1, lengths2]).float().unsqueeze(0).to('cuda')  # (batch_size, 2)\n",
    "\n",
    "\t\t# Converter targets\n",
    "\t\tscore = torch.tensor(example['score'], dtype=torch.float16).unsqueeze(0).to('cuda')  # (batch_size,)\n",
    "\n",
    "\t\t# Obter a previsão do modelo\n",
    "\t\tprediction = model(embeddings, lengths)\n",
    "\t\t#output_np = prediction.cpu().numpy().reshape(-1, 1)\n",
    "\t\t\n",
    "\t\tpred_score = 1 / (1 + abs(prediction))\n",
    "\t\t#pred_score = 1 / (1 + abs(inverse_signed_log_transform(output_np.item())))\n",
    "\n",
    "\t\t# Armazenar as pontuações\n",
    "\t\ttrue_scores.append(score.item())\n",
    "\t\tpred_scores.append(pred_score.item())\n",
    "\n",
    "# Calcular as métricas de correlação\n",
    "pearson_corr, _ = pearsonr(true_scores, pred_scores)\n",
    "spearman_corr, _ = spearmanr(true_scores, pred_scores)\n",
    "\n",
    "print(\"Similaridade Inversa da Diferença Absoluta\")\n",
    "print(f\"Correlação de Pearson: {pearson_corr:.4f}\")\n",
    "print(f\"Correlação de Spearman: {spearman_corr:.4f}\")"
   ]
  },
  {
   "cell_type": "code",
   "execution_count": 20,
   "metadata": {},
   "outputs": [
    {
     "name": "stderr",
     "output_type": "stream",
     "text": [
      "Processando exemplos: 100%|██████████| 1500/1500 [01:53<00:00, 13.16it/s]\n",
      "Buscando o melhor k: 100%|██████████| 10000/10000 [00:17<00:00, 555.90it/s]"
     ]
    },
    {
     "name": "stdout",
     "output_type": "stream",
     "text": [
      "Similaridade Baseada em Exponencial\n",
      "Melhor valor de k: 0.001\n",
      "Correlação de Pearson: 0.0345\n",
      "Correlação de Spearman: 0.0227\n"
     ]
    },
    {
     "name": "stderr",
     "output_type": "stream",
     "text": [
      "\n"
     ]
    }
   ],
   "source": [
    "import torch\n",
    "from datasets import load_dataset\n",
    "from scipy.stats import pearsonr, spearmanr\n",
    "from tqdm import tqdm  # Para acompanhar o progresso\n",
    "import numpy as np  # Certifique-se de importar o NumPy\n",
    "\n",
    "# Carregar o conjunto de dados de avaliação (STS Benchmark)\n",
    "eval_dataset = load_dataset(\"sentence-transformers/stsb\", split=\"validation\")\n",
    "\n",
    "# Definir o intervalo de valores de k a serem testados\n",
    "k_values = np.arange(0.001, 100.0, 0.01)\n",
    "best_k = None\n",
    "best_pearson = -1  # Inicialização com um valor baixo\n",
    "best_spearman = -1\n",
    "\n",
    "# Pré-computar todas as predições para evitar recalcular múltiplas vezes\n",
    "true_scores = []\n",
    "predictions = []\n",
    "\n",
    "model.to('cuda')\n",
    "model.eval()\n",
    "with torch.no_grad():\n",
    "    for example in tqdm(eval_dataset, desc=\"Processando exemplos\"):\n",
    "        # Tokenização combinada\n",
    "        encoding = embedding_generator.tokenizer(\n",
    "            [example['sentence1'], example['sentence2']],\n",
    "            return_tensors=\"pt\",\n",
    "            padding=True,  # Padding dinâmico\n",
    "            truncation=True\n",
    "        )\n",
    "\n",
    "        # Converter para o dispositivo\n",
    "        input_ids1 = encoding['input_ids'][0]\n",
    "        attention_mask1 = encoding['attention_mask'][0]\n",
    "        input_ids2 = encoding['input_ids'][1]\n",
    "        attention_mask2 = encoding['attention_mask'][1]\n",
    "\n",
    "        # Obter embeddings\n",
    "        embeddings1 = embedding_generator.weights[input_ids1]\n",
    "        embeddings2 = embedding_generator.weights[input_ids2]        \n",
    "        \n",
    "        # Concatenar as duas sequências no eixo 1\n",
    "        embeddings = torch.stack([embeddings1, embeddings2]).float().unsqueeze(0).to('cuda')  # (batch_size, 2, seq_length, vector_size)\n",
    "        \n",
    "        # Calcular comprimentos\n",
    "        lengths1 = attention_mask1.sum(dim=0)\n",
    "        lengths2 = attention_mask2.sum(dim=0)\n",
    "        lengths = torch.stack([lengths1, lengths2]).float().unsqueeze(0).to('cuda')  # (batch_size, 2)\n",
    "\n",
    "        # Converter targets\n",
    "        score = torch.tensor(example['score'], dtype=torch.float16).unsqueeze(0).to('cuda')  # (batch_size,)\n",
    "\n",
    "        # Obter a previsão do modelo\n",
    "        prediction = model(embeddings, lengths)\n",
    "        predictions.append(prediction.item())\n",
    "\n",
    "        # Armazenar as pontuações reais como valores escalares\n",
    "        true_scores.append(score.item())\n",
    "\n",
    "true_scores = np.array(true_scores)  # Agora é um array 1D\n",
    "predictions = np.array(predictions)\n",
    "\n",
    "# Iterar sobre os valores de k para encontrar o melhor\n",
    "for k in tqdm(k_values, desc=\"Buscando o melhor k\"):\n",
    "    pred_scores = np.exp(-k * np.abs(predictions))\n",
    "    \n",
    "    pearson_corr, _ = pearsonr(true_scores, pred_scores)\n",
    "    spearman_corr, _ = spearmanr(true_scores, pred_scores)\n",
    "    \n",
    "    # Verificar se este k é o melhor até agora\n",
    "    if pearson_corr > best_pearson:\n",
    "        best_pearson = pearson_corr\n",
    "        best_spearman = spearman_corr\n",
    "        best_k = k\n",
    "\n",
    "print(\"Similaridade Baseada em Exponencial\")\n",
    "print(f\"Melhor valor de k: {best_k}\")\n",
    "print(f\"Correlação de Pearson: {best_pearson:.4f}\")\n",
    "print(f\"Correlação de Spearman: {best_spearman:.4f}\")"
   ]
  },
  {
   "cell_type": "code",
   "execution_count": null,
   "metadata": {},
   "outputs": [],
   "source": [
    "import os\n",
    "import torch\n",
    "from sentence_transformers import SentenceTransformer, util\n",
    "from datasets import load_dataset\n",
    "from scipy.stats import pearsonr, spearmanr\n",
    "\n",
    "# Verificar se CUDA está disponível\n",
    "device = 'cuda' if torch.cuda.is_available() else 'cpu'\n",
    "\n",
    "# Carregar o modelo SentenceTransformer\n",
    "model = SentenceTransformer(\"all-mpnet-base-v2\").to(device)\n",
    "\n",
    "# Carregar o conjunto de dados de avaliação (STS Benchmark)\n",
    "eval_dataset = load_dataset(\"sentence-transformers/stsb\", split=\"validation\")\n",
    "\n",
    "# Listas para armazenar as pontuações reais e as previsões do modelo\n",
    "true_scores = []\n",
    "pred_scores = []\n",
    "\n",
    "# Obter as sentenças e os escores do conjunto de dados\n",
    "sentences1 = eval_dataset['sentence1']\n",
    "sentences2 = eval_dataset['sentence2']\n",
    "scores = eval_dataset['score']\n",
    "\n",
    "# Processar uma frase por vez\n",
    "for i in range(len(eval_dataset)):\n",
    "    sentence1 = sentences1[i]\n",
    "    sentence2 = sentences2[i]\n",
    "    true_score = scores[i]\n",
    "\n",
    "    # Gerar embeddings para ambas as sentenças individualmente\n",
    "    embedding1 = model.encode(sentence1, convert_to_tensor=True, device=device, show_progress_bar=False)\n",
    "    embedding2 = model.encode(sentence2, convert_to_tensor=True, device=device, show_progress_bar=False)\n",
    "\n",
    "    # Calcular a similaridade cosseno\n",
    "    cosine_score = util.cos_sim(embedding1, embedding2).item()\n",
    "\n",
    "    # Escalar a similaridade cosseno de [-1, 1] para [0, 1]\n",
    "    scaled_score = (cosine_score + 1) / 2\n",
    "\n",
    "    # Armazenar as pontuações\n",
    "    true_scores.append(true_score)\n",
    "    pred_scores.append(scaled_score)\n",
    "\n",
    "# Calcular as métricas de correlação\n",
    "pearson_corr, _ = pearsonr(true_scores, pred_scores)\n",
    "spearman_corr, _ = spearmanr(true_scores, pred_scores)\n",
    "\n",
    "print(f\"Correlação de Pearson: {pearson_corr:.4f}\")\n",
    "print(f\"Correlação de Spearman: {spearman_corr:.4f}\")"
   ]
  }
 ],
 "metadata": {
  "kernelspec": {
   "display_name": "pytorch",
   "language": "python",
   "name": "python3"
  },
  "language_info": {
   "codemirror_mode": {
    "name": "ipython",
    "version": 3
   },
   "file_extension": ".py",
   "mimetype": "text/x-python",
   "name": "python",
   "nbconvert_exporter": "python",
   "pygments_lexer": "ipython3",
   "version": "3.12.7"
  }
 },
 "nbformat": 4,
 "nbformat_minor": 2
}
